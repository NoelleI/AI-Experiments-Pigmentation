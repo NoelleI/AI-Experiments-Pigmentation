{
  "nbformat": 4,
  "nbformat_minor": 0,
  "metadata": {
    "colab": {
      "name": "pulsatile_flow",
      "provenance": [],
      "collapsed_sections": [],
      "authorship_tag": "ABX9TyOFgsY8lNf1+BtRoJo5UkJy",
      "include_colab_link": true
    },
    "kernelspec": {
      "name": "python3",
      "display_name": "Python 3"
    },
    "accelerator": "GPU"
  },
  "cells": [
    {
      "cell_type": "markdown",
      "metadata": {
        "id": "view-in-github",
        "colab_type": "text"
      },
      "source": [
        "<a href=\"https://colab.research.google.com/github/NoelleI/AI-Experiments-Pigmentation/blob/master/pulsatile_flow_averages.ipynb\" target=\"_parent\"><img src=\"https://colab.research.google.com/assets/colab-badge.svg\" alt=\"Open In Colab\"/></a>"
      ]
    },
    {
      "cell_type": "code",
      "metadata": {
        "id": "qCd8i0jiUZzo",
        "colab_type": "code",
        "colab": {}
      },
      "source": [
        "import numpy as np\n",
        "import cv2\n",
        "from google.colab.patches import cv2_imshow\n",
        "\n",
        "file = 'IMG_3447 (1)_Trim.mp4'\n",
        "cap = cv2.VideoCapture(file)\n",
        "\n",
        "\n",
        "# Get frame count\n",
        "n_frames = int(cap.get(cv2.CAP_PROP_FRAME_COUNT))\n",
        "\n",
        "\n",
        "\n",
        "\n",
        "\n",
        "\n",
        "\n",
        "\n",
        "green = []\n",
        "blue = []\n",
        "red = []\n",
        "for i in range(n_frames-1):\n",
        "      \n",
        "    # Capture frame-by-frame\n",
        "    # Read first frame\n",
        "\n",
        "    ret, frame = cap.read()\n",
        "\n",
        "    #get mean colours\n",
        "\n",
        "    g = np.mean(frame[:,:,1].reshape(-1))\n",
        "    b = np.mean(frame[:,:,2].reshape(-1))  #noise overpowers the signal\n",
        "    r = np.mean(frame[:,:,0].reshape(-1))\n",
        "\n",
        "  \n",
        "    \n",
        "    #track mean colours\n",
        "    green += [g]\n",
        "    blue += [b]\n",
        "    red += [r]\n",
        "    \n",
        "\n",
        "    \n",
        "    \n",
        "\n",
        "# When everything done, release the capture\n",
        "cap.release()\n",
        "cv2.destroyAllWindows()"
      ],
      "execution_count": 0,
      "outputs": []
    },
    {
      "cell_type": "code",
      "metadata": {
        "id": "8D-gbt7kZMyt",
        "colab_type": "code",
        "colab": {
          "base_uri": "https://localhost:8080/",
          "height": 34
        },
        "outputId": "5f11c12e-0e4e-4b38-c3b5-04702c79bdd8"
      },
      "source": [
        "cap"
      ],
      "execution_count": 11,
      "outputs": [
        {
          "output_type": "execute_result",
          "data": {
            "text/plain": [
              "<VideoCapture 0x7fd81833df30>"
            ]
          },
          "metadata": {
            "tags": []
          },
          "execution_count": 11
        }
      ]
    },
    {
      "cell_type": "code",
      "metadata": {
        "id": "y0oNMgDiWIyP",
        "colab_type": "code",
        "colab": {}
      },
      "source": [
        "green = np.array(green)\n",
        "blue = np.array(blue)\n",
        "red = np.array(red)"
      ],
      "execution_count": 0,
      "outputs": []
    },
    {
      "cell_type": "code",
      "metadata": {
        "id": "_JKNH0817fSY",
        "colab_type": "code",
        "colab": {
          "base_uri": "https://localhost:8080/",
          "height": 34
        },
        "outputId": "5f47177c-6b57-4f47-b1fb-be9fb69c8f0d"
      },
      "source": [
        "frame.shape[0]*frame.shape[1]"
      ],
      "execution_count": 15,
      "outputs": [
        {
          "output_type": "execute_result",
          "data": {
            "text/plain": [
              "2073600"
            ]
          },
          "metadata": {
            "tags": []
          },
          "execution_count": 15
        }
      ]
    },
    {
      "cell_type": "code",
      "metadata": {
        "id": "NKObVgRKbSLd",
        "colab_type": "code",
        "colab": {}
      },
      "source": [
        "import matplotlib.pyplot as plt"
      ],
      "execution_count": 0,
      "outputs": []
    },
    {
      "cell_type": "code",
      "metadata": {
        "id": "52BiDXbUhpPN",
        "colab_type": "code",
        "outputId": "9ce86dc6-e14b-4628-bfc0-9fe92b3fcfe7",
        "colab": {
          "base_uri": "https://localhost:8080/",
          "height": 282
        }
      },
      "source": [
        "\n",
        "plt.plot(blue, 'b-')\n",
        "\n",
        "#plt.plot(red, 'r-')"
      ],
      "execution_count": 17,
      "outputs": [
        {
          "output_type": "execute_result",
          "data": {
            "text/plain": [
              "[<matplotlib.lines.Line2D at 0x7fd8161b0b70>]"
            ]
          },
          "metadata": {
            "tags": []
          },
          "execution_count": 17
        },
        {
          "output_type": "display_data",
          "data": {
            "image/png": "[encoded data removed]",
            "text/plain": [
              "<Figure size 432x288 with 1 Axes>"
            ]
          },
          "metadata": {
            "tags": []
          }
        }
      ]
    },
    {
      "cell_type": "code",
      "metadata": {
        "id": "ixoOtfkQltl-",
        "colab_type": "code",
        "outputId": "c4b86717-d296-424f-c7e2-a2e122349440",
        "colab": {
          "base_uri": "https://localhost:8080/",
          "height": 282
        }
      },
      "source": [
        "plt.plot(green, 'g-')"
      ],
      "execution_count": 18,
      "outputs": [
        {
          "output_type": "execute_result",
          "data": {
            "text/plain": [
              "[<matplotlib.lines.Line2D at 0x7fd815cd9710>]"
            ]
          },
          "metadata": {
            "tags": []
          },
          "execution_count": 18
        },
        {
          "output_type": "display_data",
          "data": {
            "image/png": "[encoded data removed]",
            "text/plain": [
              "<Figure size 432x288 with 1 Axes>"
            ]
          },
          "metadata": {
            "tags": []
          }
        }
      ]
    },
    {
      "cell_type": "code",
      "metadata": {
        "id": "uDsbDd_Lnekp",
        "colab_type": "code",
        "outputId": "bbfad9b5-c7c0-4754-cc39-d0bd63180bc1",
        "colab": {
          "base_uri": "https://localhost:8080/",
          "height": 282
        }
      },
      "source": [
        "plt.plot(red, 'r-')"
      ],
      "execution_count": 19,
      "outputs": [
        {
          "output_type": "execute_result",
          "data": {
            "text/plain": [
              "[<matplotlib.lines.Line2D at 0x7fd815cb6eb8>]"
            ]
          },
          "metadata": {
            "tags": []
          },
          "execution_count": 19
        },
        {
          "output_type": "display_data",
          "data": {
            "image/png": "[encoded data removed]",
            "text/plain": [
              "<Figure size 432x288 with 1 Axes>"
            ]
          },
          "metadata": {
            "tags": []
          }
        }
      ]
    },
    {
      "cell_type": "code",
      "metadata": {
        "id": "J5ngvx-ZhvJl",
        "colab_type": "code",
        "outputId": "4c35a8e9-8ff2-45d1-fcfc-2df1bd9cfd8c",
        "colab": {
          "base_uri": "https://localhost:8080/",
          "height": 34
        }
      },
      "source": [
        "green.shape"
      ],
      "execution_count": 20,
      "outputs": [
        {
          "output_type": "execute_result",
          "data": {
            "text/plain": [
              "(423,)"
            ]
          },
          "metadata": {
            "tags": []
          },
          "execution_count": 20
        }
      ]
    },
    {
      "cell_type": "code",
      "metadata": {
        "id": "YL2K-Yx-h23e",
        "colab_type": "code",
        "outputId": "e4e33584-a691-4d5d-9665-0ff71283bf28",
        "colab": {
          "base_uri": "https://localhost:8080/",
          "height": 34
        }
      },
      "source": [
        "14/424"
      ],
      "execution_count": 21,
      "outputs": [
        {
          "output_type": "execute_result",
          "data": {
            "text/plain": [
              "0.0330188679245283"
            ]
          },
          "metadata": {
            "tags": []
          },
          "execution_count": 21
        }
      ]
    },
    {
      "cell_type": "code",
      "metadata": {
        "id": "K4s023GumsEP",
        "colab_type": "code",
        "outputId": "ecd2bdf4-1b05-4920-d6d9-6bcd87546732",
        "colab": {
          "base_uri": "https://localhost:8080/",
          "height": 34
        }
      },
      "source": [
        "424/14"
      ],
      "execution_count": 22,
      "outputs": [
        {
          "output_type": "execute_result",
          "data": {
            "text/plain": [
              "30.285714285714285"
            ]
          },
          "metadata": {
            "tags": []
          },
          "execution_count": 22
        }
      ]
    },
    {
      "cell_type": "code",
      "metadata": {
        "id": "myCscpd7m8tE",
        "colab_type": "code",
        "colab": {}
      },
      "source": [
        "#67 beats per minute measured heart rate"
      ],
      "execution_count": 0,
      "outputs": []
    },
    {
      "cell_type": "code",
      "metadata": {
        "id": "Gpqs0LU0nxIm",
        "colab_type": "code",
        "outputId": "1ff527fe-8988-4133-b049-0bbe4ee48d9f",
        "colab": {
          "base_uri": "https://localhost:8080/",
          "height": 34
        }
      },
      "source": [
        "67/60"
      ],
      "execution_count": 24,
      "outputs": [
        {
          "output_type": "execute_result",
          "data": {
            "text/plain": [
              "1.1166666666666667"
            ]
          },
          "metadata": {
            "tags": []
          },
          "execution_count": 24
        }
      ]
    },
    {
      "cell_type": "code",
      "metadata": {
        "id": "QLxS0Yl_nydz",
        "colab_type": "code",
        "outputId": "ce647911-0c56-4b2f-a6be-508489b1dfe4",
        "colab": {
          "base_uri": "https://localhost:8080/",
          "height": 34
        }
      },
      "source": [
        "(424*60)/(14*67)"
      ],
      "execution_count": 25,
      "outputs": [
        {
          "output_type": "execute_result",
          "data": {
            "text/plain": [
              "27.121535181236673"
            ]
          },
          "metadata": {
            "tags": []
          },
          "execution_count": 25
        }
      ]
    },
    {
      "cell_type": "code",
      "metadata": {
        "id": "kEPGV-bWoECq",
        "colab_type": "code",
        "outputId": "54406de7-7dbe-48c4-cbc9-d78aa52a2e28",
        "colab": {
          "base_uri": "https://localhost:8080/",
          "height": 34
        }
      },
      "source": [
        "cap"
      ],
      "execution_count": 26,
      "outputs": [
        {
          "output_type": "execute_result",
          "data": {
            "text/plain": [
              "<VideoCapture 0x7fd818269410>"
            ]
          },
          "metadata": {
            "tags": []
          },
          "execution_count": 26
        }
      ]
    },
    {
      "cell_type": "code",
      "metadata": {
        "id": "-PvyLVCSwzCL",
        "colab_type": "code",
        "colab": {
          "base_uri": "https://localhost:8080/",
          "height": 282
        },
        "outputId": "8684ee44-c150-4100-c3a9-abef0a1ae761"
      },
      "source": [
        "plt.plot(np.fft.hfft(red))"
      ],
      "execution_count": 27,
      "outputs": [
        {
          "output_type": "execute_result",
          "data": {
            "text/plain": [
              "[<matplotlib.lines.Line2D at 0x7fd815c19f98>]"
            ]
          },
          "metadata": {
            "tags": []
          },
          "execution_count": 27
        },
        {
          "output_type": "display_data",
          "data": {
            "image/png": "[encoded data removed]",
            "text/plain": [
              "<Figure size 432x288 with 1 Axes>"
            ]
          },
          "metadata": {
            "tags": []
          }
        }
      ]
    },
    {
      "cell_type": "code",
      "metadata": {
        "id": "Mju95ADfw0Lb",
        "colab_type": "code",
        "colab": {}
      },
      "source": [
        "ff = np.fft.hfft(red)"
      ],
      "execution_count": 0,
      "outputs": []
    },
    {
      "cell_type": "code",
      "metadata": {
        "id": "bac23I8QxxhY",
        "colab_type": "code",
        "colab": {
          "base_uri": "https://localhost:8080/",
          "height": 282
        },
        "outputId": "08287035-54b0-4551-e423-af5e2f918ab9"
      },
      "source": [
        "plt.plot(ff[1:])"
      ],
      "execution_count": 78,
      "outputs": [
        {
          "output_type": "execute_result",
          "data": {
            "text/plain": [
              "[<matplotlib.lines.Line2D at 0x7fd815547940>]"
            ]
          },
          "metadata": {
            "tags": []
          },
          "execution_count": 78
        },
        {
          "output_type": "display_data",
          "data": {
            "image/png": "[encoded data removed]",
            "text/plain": [
              "<Figure size 432x288 with 1 Axes>"
            ]
          },
          "metadata": {
            "tags": []
          }
        }
      ]
    },
    {
      "cell_type": "code",
      "metadata": {
        "id": "Y3GGuQkuy2f9",
        "colab_type": "code",
        "colab": {}
      },
      "source": [
        "f1 = 14\n",
        "f2 = 40\n",
        "ff2r = np.concatenate([np.zeros([f1]),ff[f1:f2],np.zeros([842 - 2* f2]),ff[-f2:-f1],np.zeros([f1])])\n",
        "\n",
        "hb = np.fft.ihfft(ff2r)"
      ],
      "execution_count": 0,
      "outputs": []
    },
    {
      "cell_type": "code",
      "metadata": {
        "id": "DZfnembMzUXN",
        "colab_type": "code",
        "colab": {
          "base_uri": "https://localhost:8080/",
          "height": 335
        },
        "outputId": "e81059b8-e392-461e-9d07-35048d9d52de"
      },
      "source": [
        "plt.plot(hb)"
      ],
      "execution_count": 80,
      "outputs": [
        {
          "output_type": "stream",
          "text": [
            "/usr/local/lib/python3.6/dist-packages/numpy/core/_asarray.py:85: ComplexWarning: Casting complex values to real discards the imaginary part\n",
            "  return array(a, dtype, copy=False, order=order)\n"
          ],
          "name": "stderr"
        },
        {
          "output_type": "execute_result",
          "data": {
            "text/plain": [
              "[<matplotlib.lines.Line2D at 0x7fd8154a09b0>]"
            ]
          },
          "metadata": {
            "tags": []
          },
          "execution_count": 80
        },
        {
          "output_type": "display_data",
          "data": {
            "image/png": "[encoded data removed]",
            "text/plain": [
              "<Figure size 432x288 with 1 Axes>"
            ]
          },
          "metadata": {
            "tags": []
          }
        }
      ]
    },
    {
      "cell_type": "code",
      "metadata": {
        "id": "fkAHpMZ6zXeb",
        "colab_type": "code",
        "colab": {
          "base_uri": "https://localhost:8080/",
          "height": 34
        },
        "outputId": "034920f8-08e9-48c4-f8d5-c0cf80a2c724"
      },
      "source": [
        "33*14*14/420"
      ],
      "execution_count": 55,
      "outputs": [
        {
          "output_type": "execute_result",
          "data": {
            "text/plain": [
              "15.4"
            ]
          },
          "metadata": {
            "tags": []
          },
          "execution_count": 55
        }
      ]
    },
    {
      "cell_type": "code",
      "metadata": {
        "id": "w5SCRhmZm3Is",
        "colab_type": "code",
        "colab": {}
      },
      "source": [
        ""
      ],
      "execution_count": 0,
      "outputs": []
    },
    {
      "cell_type": "code",
      "metadata": {
        "id": "vsyOa8jxfISA",
        "colab_type": "code",
        "colab": {}
      },
      "source": [
        "ff = np.fft.hfft(blue)"
      ],
      "execution_count": 0,
      "outputs": []
    },
    {
      "cell_type": "code",
      "metadata": {
        "id": "zcJPG1R5im5e",
        "colab_type": "code",
        "colab": {}
      },
      "source": [
        "f1 = 14\n",
        "f2 = 40\n",
        "ff2b = np.concatenate([np.zeros([f1]),ff[f1:f2],np.zeros([842 - 2* f2]),ff[-f2:-f1],np.zeros([f1])])\n",
        "\n",
        "hb = np.fft.ihfft(ff2b)"
      ],
      "execution_count": 0,
      "outputs": []
    },
    {
      "cell_type": "code",
      "metadata": {
        "id": "KQ1mXBzHit1h",
        "colab_type": "code",
        "colab": {
          "base_uri": "https://localhost:8080/",
          "height": 335
        },
        "outputId": "20196e9a-4f3c-4101-bc96-a8fed6ea17b1"
      },
      "source": [
        "plt.plot(hb)"
      ],
      "execution_count": 72,
      "outputs": [
        {
          "output_type": "stream",
          "text": [
            "/usr/local/lib/python3.6/dist-packages/numpy/core/_asarray.py:85: ComplexWarning: Casting complex values to real discards the imaginary part\n",
            "  return array(a, dtype, copy=False, order=order)\n"
          ],
          "name": "stderr"
        },
        {
          "output_type": "execute_result",
          "data": {
            "text/plain": [
              "[<matplotlib.lines.Line2D at 0x7fd8155ef550>]"
            ]
          },
          "metadata": {
            "tags": []
          },
          "execution_count": 72
        },
        {
          "output_type": "display_data",
          "data": {
            "image/png": "[encoded data removed]",
            "text/plain": [
              "<Figure size 432x288 with 1 Axes>"
            ]
          },
          "metadata": {
            "tags": []
          }
        }
      ]
    },
    {
      "cell_type": "code",
      "metadata": {
        "id": "M23GMCiaivnJ",
        "colab_type": "code",
        "colab": {
          "base_uri": "https://localhost:8080/",
          "height": 335
        },
        "outputId": "c706a1e2-e088-4a28-bda5-0ed2fe6a731b"
      },
      "source": [
        "ff = np.fft.hfft(green)\n",
        "f1 = 14\n",
        "f2 = 40\n",
        "ff2g = np.concatenate([np.zeros([f1]),ff[f1:f2],np.zeros([842 - 2* f2]),ff[-f2:-f1],np.zeros([f1])])\n",
        "\n",
        "hb = np.fft.ihfft(ff2g)\n",
        "plt.plot(hb)"
      ],
      "execution_count": 73,
      "outputs": [
        {
          "output_type": "stream",
          "text": [
            "/usr/local/lib/python3.6/dist-packages/numpy/core/_asarray.py:85: ComplexWarning: Casting complex values to real discards the imaginary part\n",
            "  return array(a, dtype, copy=False, order=order)\n"
          ],
          "name": "stderr"
        },
        {
          "output_type": "execute_result",
          "data": {
            "text/plain": [
              "[<matplotlib.lines.Line2D at 0x7fd815576e48>]"
            ]
          },
          "metadata": {
            "tags": []
          },
          "execution_count": 73
        },
        {
          "output_type": "display_data",
          "data": {
            "image/png": "[encoded data removed]",
            "text/plain": [
              "<Figure size 432x288 with 1 Axes>"
            ]
          },
          "metadata": {
            "tags": []
          }
        }
      ]
    },
    {
      "cell_type": "code",
      "metadata": {
        "id": "leqQ5Uvji-cG",
        "colab_type": "code",
        "colab": {
          "base_uri": "https://localhost:8080/",
          "height": 34
        },
        "outputId": "6b3bdc2e-7ae1-4091-821e-5ea5dddd1c6d"
      },
      "source": [
        "17*60/14"
      ],
      "execution_count": 74,
      "outputs": [
        {
          "output_type": "execute_result",
          "data": {
            "text/plain": [
              "72.85714285714286"
            ]
          },
          "metadata": {
            "tags": []
          },
          "execution_count": 74
        }
      ]
    },
    {
      "cell_type": "code",
      "metadata": {
        "id": "UhT1aDi-jZaA",
        "colab_type": "code",
        "colab": {
          "base_uri": "https://localhost:8080/",
          "height": 34
        },
        "outputId": "df60da73-e2b2-4d38-8a87-5432097d4ead"
      },
      "source": [
        "16*60/14"
      ],
      "execution_count": 75,
      "outputs": [
        {
          "output_type": "execute_result",
          "data": {
            "text/plain": [
              "68.57142857142857"
            ]
          },
          "metadata": {
            "tags": []
          },
          "execution_count": 75
        }
      ]
    },
    {
      "cell_type": "code",
      "metadata": {
        "id": "w8vwHn6yjl8k",
        "colab_type": "code",
        "colab": {
          "base_uri": "https://localhost:8080/",
          "height": 1000
        },
        "outputId": "c194686e-ef61-4586-91f1-25e8d0d01fd6"
      },
      "source": [
        "ff2b/ff2g"
      ],
      "execution_count": 76,
      "outputs": [
        {
          "output_type": "stream",
          "text": [
            "/usr/local/lib/python3.6/dist-packages/ipykernel_launcher.py:1: RuntimeWarning: invalid value encountered in true_divide\n",
            "  \"\"\"Entry point for launching an IPython kernel.\n"
          ],
          "name": "stderr"
        },
        {
          "output_type": "execute_result",
          "data": {
            "text/plain": [
              "array([         nan,          nan,          nan,          nan,\n",
              "                nan,          nan,          nan,          nan,\n",
              "                nan,          nan,          nan,          nan,\n",
              "                nan,          nan,   0.54470988,   1.03212178,\n",
              "         0.83239101,  -0.1686207 , -11.32050298,  -0.34260092,\n",
              "         0.24393861,   2.02430094,   2.60372735,   0.88950293,\n",
              "       -13.2083715 ,   1.65583211,  -0.28109623,   0.71669543,\n",
              "        -0.25114323,   0.3851357 ,   0.91845926,   1.22196214,\n",
              "         0.41487942,   2.82161357,  -3.34483991,   2.2484419 ,\n",
              "         0.76992683,   0.54012191,   1.082574  ,   0.50349257,\n",
              "                nan,          nan,          nan,          nan,\n",
              "                nan,          nan,          nan,          nan,\n",
              "                nan,          nan,          nan,          nan,\n",
              "                nan,          nan,          nan,          nan,\n",
              "                nan,          nan,          nan,          nan,\n",
              "                nan,          nan,          nan,          nan,\n",
              "                nan,          nan,          nan,          nan,\n",
              "                nan,          nan,          nan,          nan,\n",
              "                nan,          nan,          nan,          nan,\n",
              "                nan,          nan,          nan,          nan,\n",
              "                nan,          nan,          nan,          nan,\n",
              "                nan,          nan,          nan,          nan,\n",
              "                nan,          nan,          nan,          nan,\n",
              "                nan,          nan,          nan,          nan,\n",
              "                nan,          nan,          nan,          nan,\n",
              "                nan,          nan,          nan,          nan,\n",
              "                nan,          nan,          nan,          nan,\n",
              "                nan,          nan,          nan,          nan,\n",
              "                nan,          nan,          nan,          nan,\n",
              "                nan,          nan,          nan,          nan,\n",
              "                nan,          nan,          nan,          nan,\n",
              "                nan,          nan,          nan,          nan,\n",
              "                nan,          nan,          nan,          nan,\n",
              "                nan,          nan,          nan,          nan,\n",
              "                nan,          nan,          nan,          nan,\n",
              "                nan,          nan,          nan,          nan,\n",
              "                nan,          nan,          nan,          nan,\n",
              "                nan,          nan,          nan,          nan,\n",
              "                nan,          nan,          nan,          nan,\n",
              "                nan,          nan,          nan,          nan,\n",
              "                nan,          nan,          nan,          nan,\n",
              "                nan,          nan,          nan,          nan,\n",
              "                nan,          nan,          nan,          nan,\n",
              "                nan,          nan,          nan,          nan,\n",
              "                nan,          nan,          nan,          nan,\n",
              "                nan,          nan,          nan,          nan,\n",
              "                nan,          nan,          nan,          nan,\n",
              "                nan,          nan,          nan,          nan,\n",
              "                nan,          nan,          nan,          nan,\n",
              "                nan,          nan,          nan,          nan,\n",
              "                nan,          nan,          nan,          nan,\n",
              "                nan,          nan,          nan,          nan,\n",
              "                nan,          nan,          nan,          nan,\n",
              "                nan,          nan,          nan,          nan,\n",
              "                nan,          nan,          nan,          nan,\n",
              "                nan,          nan,          nan,          nan,\n",
              "                nan,          nan,          nan,          nan,\n",
              "                nan,          nan,          nan,          nan,\n",
              "                nan,          nan,          nan,          nan,\n",
              "                nan,          nan,          nan,          nan,\n",
              "                nan,          nan,          nan,          nan,\n",
              "                nan,          nan,          nan,          nan,\n",
              "                nan,          nan,          nan,          nan,\n",
              "                nan,          nan,          nan,          nan,\n",
              "                nan,          nan,          nan,          nan,\n",
              "                nan,          nan,          nan,          nan,\n",
              "                nan,          nan,          nan,          nan,\n",
              "                nan,          nan,          nan,          nan,\n",
              "                nan,          nan,          nan,          nan,\n",
              "                nan,          nan,          nan,          nan,\n",
              "                nan,          nan,          nan,          nan,\n",
              "                nan,          nan,          nan,          nan,\n",
              "                nan,          nan,          nan,          nan,\n",
              "                nan,          nan,          nan,          nan,\n",
              "                nan,          nan,          nan,          nan,\n",
              "                nan,          nan,          nan,          nan,\n",
              "                nan,          nan,          nan,          nan,\n",
              "                nan,          nan,          nan,          nan,\n",
              "                nan,          nan,          nan,          nan,\n",
              "                nan,          nan,          nan,          nan,\n",
              "                nan,          nan,          nan,          nan,\n",
              "                nan,          nan,          nan,          nan,\n",
              "                nan,          nan,          nan,          nan,\n",
              "                nan,          nan,          nan,          nan,\n",
              "                nan,          nan,          nan,          nan,\n",
              "                nan,          nan,          nan,          nan,\n",
              "                nan,          nan,          nan,          nan,\n",
              "                nan,          nan,          nan,          nan,\n",
              "                nan,          nan,          nan,          nan,\n",
              "                nan,          nan,          nan,          nan,\n",
              "                nan,          nan,          nan,          nan,\n",
              "                nan,          nan,          nan,          nan,\n",
              "                nan,          nan,          nan,          nan,\n",
              "                nan,          nan,          nan,          nan,\n",
              "                nan,          nan,          nan,          nan,\n",
              "                nan,          nan,          nan,          nan,\n",
              "                nan,          nan,          nan,          nan,\n",
              "                nan,          nan,          nan,          nan,\n",
              "                nan,          nan,          nan,          nan,\n",
              "                nan,          nan,          nan,          nan,\n",
              "                nan,          nan,          nan,          nan,\n",
              "                nan,          nan,          nan,          nan,\n",
              "                nan,          nan,          nan,          nan,\n",
              "                nan,          nan,          nan,          nan,\n",
              "                nan,          nan,          nan,          nan,\n",
              "                nan,          nan,          nan,          nan,\n",
              "                nan,          nan,          nan,          nan,\n",
              "                nan,          nan,          nan,          nan,\n",
              "                nan,          nan,          nan,          nan,\n",
              "                nan,          nan,          nan,          nan,\n",
              "                nan,          nan,          nan,          nan,\n",
              "                nan,          nan,          nan,          nan,\n",
              "                nan,          nan,          nan,          nan,\n",
              "                nan,          nan,          nan,          nan,\n",
              "                nan,          nan,          nan,          nan,\n",
              "                nan,          nan,          nan,          nan,\n",
              "                nan,          nan,          nan,          nan,\n",
              "                nan,          nan,          nan,          nan,\n",
              "                nan,          nan,          nan,          nan,\n",
              "                nan,          nan,          nan,          nan,\n",
              "                nan,          nan,          nan,          nan,\n",
              "                nan,          nan,          nan,          nan,\n",
              "                nan,          nan,          nan,          nan,\n",
              "                nan,          nan,          nan,          nan,\n",
              "                nan,          nan,          nan,          nan,\n",
              "                nan,          nan,          nan,          nan,\n",
              "                nan,          nan,          nan,          nan,\n",
              "                nan,          nan,          nan,          nan,\n",
              "                nan,          nan,          nan,          nan,\n",
              "                nan,          nan,          nan,          nan,\n",
              "                nan,          nan,          nan,          nan,\n",
              "                nan,          nan,          nan,          nan,\n",
              "                nan,          nan,          nan,          nan,\n",
              "                nan,          nan,          nan,          nan,\n",
              "                nan,          nan,          nan,          nan,\n",
              "                nan,          nan,          nan,          nan,\n",
              "                nan,          nan,          nan,          nan,\n",
              "                nan,          nan,          nan,          nan,\n",
              "                nan,          nan,          nan,          nan,\n",
              "                nan,          nan,          nan,          nan,\n",
              "                nan,          nan,          nan,          nan,\n",
              "                nan,          nan,          nan,          nan,\n",
              "                nan,          nan,          nan,          nan,\n",
              "                nan,          nan,          nan,          nan,\n",
              "                nan,          nan,          nan,          nan,\n",
              "                nan,          nan,          nan,          nan,\n",
              "                nan,          nan,          nan,          nan,\n",
              "                nan,          nan,          nan,          nan,\n",
              "                nan,          nan,          nan,          nan,\n",
              "                nan,          nan,          nan,          nan,\n",
              "                nan,          nan,          nan,          nan,\n",
              "                nan,          nan,          nan,          nan,\n",
              "                nan,          nan,          nan,          nan,\n",
              "                nan,          nan,          nan,          nan,\n",
              "                nan,          nan,          nan,          nan,\n",
              "                nan,          nan,          nan,          nan,\n",
              "                nan,          nan,          nan,          nan,\n",
              "                nan,          nan,          nan,          nan,\n",
              "                nan,          nan,          nan,          nan,\n",
              "                nan,          nan,          nan,          nan,\n",
              "                nan,          nan,          nan,          nan,\n",
              "                nan,          nan,          nan,          nan,\n",
              "                nan,          nan,          nan,          nan,\n",
              "                nan,          nan,          nan,          nan,\n",
              "                nan,          nan,          nan,          nan,\n",
              "                nan,          nan,          nan,          nan,\n",
              "                nan,          nan,          nan,          nan,\n",
              "                nan,          nan,          nan,          nan,\n",
              "                nan,          nan,          nan,          nan,\n",
              "                nan,          nan,          nan,          nan,\n",
              "                nan,          nan,          nan,          nan,\n",
              "                nan,          nan,          nan,          nan,\n",
              "                nan,          nan,          nan,          nan,\n",
              "                nan,          nan,          nan,          nan,\n",
              "                nan,          nan,          nan,          nan,\n",
              "                nan,          nan,          nan,          nan,\n",
              "                nan,          nan,          nan,          nan,\n",
              "                nan,          nan,          nan,          nan,\n",
              "                nan,          nan,          nan,          nan,\n",
              "                nan,          nan,          nan,          nan,\n",
              "                nan,          nan,          nan,          nan,\n",
              "                nan,          nan,          nan,          nan,\n",
              "                nan,          nan,          nan,          nan,\n",
              "                nan,          nan,          nan,          nan,\n",
              "                nan,          nan,          nan,          nan,\n",
              "                nan,          nan,          nan,          nan,\n",
              "                nan,          nan,          nan,          nan,\n",
              "                nan,          nan,          nan,          nan,\n",
              "                nan,          nan,          nan,          nan,\n",
              "                nan,          nan,          nan,          nan,\n",
              "                nan,          nan,          nan,          nan,\n",
              "                nan,          nan,          nan,          nan,\n",
              "                nan,          nan,          nan,          nan,\n",
              "                nan,          nan,          nan,          nan,\n",
              "                nan,          nan,          nan,          nan,\n",
              "                nan,          nan,          nan,          nan,\n",
              "                nan,          nan,          nan,          nan,\n",
              "                nan,          nan,          nan,          nan,\n",
              "                nan,          nan,          nan,          nan,\n",
              "                nan,          nan,          nan,          nan,\n",
              "                nan,          nan,   0.65347663,   0.50349257,\n",
              "         1.082574  ,   0.54012191,   0.76992683,   2.2484419 ,\n",
              "        -3.34483991,   2.82161357,   0.41487942,   1.22196214,\n",
              "         0.91845926,   0.3851357 ,  -0.25114323,   0.71669543,\n",
              "        -0.28109623,   1.65583211, -13.2083715 ,   0.88950293,\n",
              "         2.60372735,   2.02430094,   0.24393861,  -0.34260092,\n",
              "       -11.32050298,  -0.1686207 ,   0.83239101,   1.03212178,\n",
              "                nan,          nan,          nan,          nan,\n",
              "                nan,          nan,          nan,          nan,\n",
              "                nan,          nan,          nan,          nan,\n",
              "                nan,          nan])"
            ]
          },
          "metadata": {
            "tags": []
          },
          "execution_count": 76
        }
      ]
    },
    {
      "cell_type": "code",
      "metadata": {
        "id": "8MfVLiehj2eY",
        "colab_type": "code",
        "colab": {
          "base_uri": "https://localhost:8080/",
          "height": 1000
        },
        "outputId": "580b428c-9fcf-4907-baf7-99dad8a4fe14"
      },
      "source": [
        "ff2b"
      ],
      "execution_count": 69,
      "outputs": [
        {
          "output_type": "execute_result",
          "data": {
            "text/plain": [
              "array([  0.        ,   0.        ,   0.        ,   0.        ,\n",
              "         0.        ,   0.        ,   0.        ,   0.        ,\n",
              "         0.        ,   0.        ,   0.        ,   0.        ,\n",
              "         0.        ,   0.        , -52.28493303,   4.83544112,\n",
              "        31.20459424,  -8.76454459,  -1.98776922,   8.21751139,\n",
              "        -9.90091632,  -7.58049146,  10.00970816,  35.92809797,\n",
              "        -1.13389748,  15.09639113,  -4.59956518, -19.16344747,\n",
              "         6.99581921, -18.73098255,  20.0878061 ,  13.82901722,\n",
              "         4.91886945,  -5.62598217,  -2.74549047, -11.73312066,\n",
              "       -28.13264046,  21.5325881 ,  47.80001884,  21.78544341,\n",
              "         0.        ,   0.        ,   0.        ,   0.        ,\n",
              "         0.        ,   0.        ,   0.        ,   0.        ,\n",
              "         0.        ,   0.        ,   0.        ,   0.        ,\n",
              "         0.        ,   0.        ,   0.        ,   0.        ,\n",
              "         0.        ,   0.        ,   0.        ,   0.        ,\n",
              "         0.        ,   0.        ,   0.        ,   0.        ,\n",
              "         0.        ,   0.        ,   0.        ,   0.        ,\n",
              "         0.        ,   0.        ,   0.        ,   0.        ,\n",
              "         0.        ,   0.        ,   0.        ,   0.        ,\n",
              "         0.        ,   0.        ,   0.        ,   0.        ,\n",
              "         0.        ,   0.        ,   0.        ,   0.        ,\n",
              "         0.        ,   0.        ,   0.        ,   0.        ,\n",
              "         0.        ,   0.        ,   0.        ,   0.        ,\n",
              "         0.        ,   0.        ,   0.        ,   0.        ,\n",
              "         0.        ,   0.        ,   0.        ,   0.        ,\n",
              "         0.        ,   0.        ,   0.        ,   0.        ,\n",
              "         0.        ,   0.        ,   0.        ,   0.        ,\n",
              "         0.        ,   0.        ,   0.        ,   0.        ,\n",
              "         0.        ,   0.        ,   0.        ,   0.        ,\n",
              "         0.        ,   0.        ,   0.        ,   0.        ,\n",
              "         0.        ,   0.        ,   0.        ,   0.        ,\n",
              "         0.        ,   0.        ,   0.        ,   0.        ,\n",
              "         0.        ,   0.        ,   0.        ,   0.        ,\n",
              "         0.        ,   0.        ,   0.        ,   0.        ,\n",
              "         0.        ,   0.        ,   0.        ,   0.        ,\n",
              "         0.        ,   0.        ,   0.        ,   0.        ,\n",
              "         0.        ,   0.        ,   0.        ,   0.        ,\n",
              "         0.        ,   0.        ,   0.        ,   0.        ,\n",
              "         0.        ,   0.        ,   0.        ,   0.        ,\n",
              "         0.        ,   0.        ,   0.        ,   0.        ,\n",
              "         0.        ,   0.        ,   0.        ,   0.        ,\n",
              "         0.        ,   0.        ,   0.        ,   0.        ,\n",
              "         0.        ,   0.        ,   0.        ,   0.        ,\n",
              "         0.        ,   0.        ,   0.        ,   0.        ,\n",
              "         0.        ,   0.        ,   0.        ,   0.        ,\n",
              "         0.        ,   0.        ,   0.        ,   0.        ,\n",
              "         0.        ,   0.        ,   0.        ,   0.        ,\n",
              "         0.        ,   0.        ,   0.        ,   0.        ,\n",
              "         0.        ,   0.        ,   0.        ,   0.        ,\n",
              "         0.        ,   0.        ,   0.        ,   0.        ,\n",
              "         0.        ,   0.        ,   0.        ,   0.        ,\n",
              "         0.        ,   0.        ,   0.        ,   0.        ,\n",
              "         0.        ,   0.        ,   0.        ,   0.        ,\n",
              "         0.        ,   0.        ,   0.        ,   0.        ,\n",
              "         0.        ,   0.        ,   0.        ,   0.        ,\n",
              "         0.        ,   0.        ,   0.        ,   0.        ,\n",
              "         0.        ,   0.        ,   0.        ,   0.        ,\n",
              "         0.        ,   0.        ,   0.        ,   0.        ,\n",
              "         0.        ,   0.        ,   0.        ,   0.        ,\n",
              "         0.        ,   0.        ,   0.        ,   0.        ,\n",
              "         0.        ,   0.        ,   0.        ,   0.        ,\n",
              "         0.        ,   0.        ,   0.        ,   0.        ,\n",
              "         0.        ,   0.        ,   0.        ,   0.        ,\n",
              "         0.        ,   0.        ,   0.        ,   0.        ,\n",
              "         0.        ,   0.        ,   0.        ,   0.        ,\n",
              "         0.        ,   0.        ,   0.        ,   0.        ,\n",
              "         0.        ,   0.        ,   0.        ,   0.        ,\n",
              "         0.        ,   0.        ,   0.        ,   0.        ,\n",
              "         0.        ,   0.        ,   0.        ,   0.        ,\n",
              "         0.        ,   0.        ,   0.        ,   0.        ,\n",
              "         0.        ,   0.        ,   0.        ,   0.        ,\n",
              "         0.        ,   0.        ,   0.        ,   0.        ,\n",
              "         0.        ,   0.        ,   0.        ,   0.        ,\n",
              "         0.        ,   0.        ,   0.        ,   0.        ,\n",
              "         0.        ,   0.        ,   0.        ,   0.        ,\n",
              "         0.        ,   0.        ,   0.        ,   0.        ,\n",
              "         0.        ,   0.        ,   0.        ,   0.        ,\n",
              "         0.        ,   0.        ,   0.        ,   0.        ,\n",
              "         0.        ,   0.        ,   0.        ,   0.        ,\n",
              "         0.        ,   0.        ,   0.        ,   0.        ,\n",
              "         0.        ,   0.        ,   0.        ,   0.        ,\n",
              "         0.        ,   0.        ,   0.        ,   0.        ,\n",
              "         0.        ,   0.        ,   0.        ,   0.        ,\n",
              "         0.        ,   0.        ,   0.        ,   0.        ,\n",
              "         0.        ,   0.        ,   0.        ,   0.        ,\n",
              "         0.        ,   0.        ,   0.        ,   0.        ,\n",
              "         0.        ,   0.        ,   0.        ,   0.        ,\n",
              "         0.        ,   0.        ,   0.        ,   0.        ,\n",
              "         0.        ,   0.        ,   0.        ,   0.        ,\n",
              "         0.        ,   0.        ,   0.        ,   0.        ,\n",
              "         0.        ,   0.        ,   0.        ,   0.        ,\n",
              "         0.        ,   0.        ,   0.        ,   0.        ,\n",
              "         0.        ,   0.        ,   0.        ,   0.        ,\n",
              "         0.        ,   0.        ,   0.        ,   0.        ,\n",
              "         0.        ,   0.        ,   0.        ,   0.        ,\n",
              "         0.        ,   0.        ,   0.        ,   0.        ,\n",
              "         0.        ,   0.        ,   0.        ,   0.        ,\n",
              "         0.        ,   0.        ,   0.        ,   0.        ,\n",
              "         0.        ,   0.        ,   0.        ,   0.        ,\n",
              "         0.        ,   0.        ,   0.        ,   0.        ,\n",
              "         0.        ,   0.        ,   0.        ,   0.        ,\n",
              "         0.        ,   0.        ,   0.        ,   0.        ,\n",
              "         0.        ,   0.        ,   0.        ,   0.        ,\n",
              "         0.        ,   0.        ,   0.        ,   0.        ,\n",
              "         0.        ,   0.        ,   0.        ,   0.        ,\n",
              "         0.        ,   0.        ,   0.        ,   0.        ,\n",
              "         0.        ,   0.        ,   0.        ,   0.        ,\n",
              "         0.        ,   0.        ,   0.        ,   0.        ,\n",
              "         0.        ,   0.        ,   0.        ,   0.        ,\n",
              "         0.        ,   0.        ,   0.        ,   0.        ,\n",
              "         0.        ,   0.        ,   0.        ,   0.        ,\n",
              "         0.        ,   0.        ,   0.        ,   0.        ,\n",
              "         0.        ,   0.        ,   0.        ,   0.        ,\n",
              "         0.        ,   0.        ,   0.        ,   0.        ,\n",
              "         0.        ,   0.        ,   0.        ,   0.        ,\n",
              "         0.        ,   0.        ,   0.        ,   0.        ,\n",
              "         0.        ,   0.        ,   0.        ,   0.        ,\n",
              "         0.        ,   0.        ,   0.        ,   0.        ,\n",
              "         0.        ,   0.        ,   0.        ,   0.        ,\n",
              "         0.        ,   0.        ,   0.        ,   0.        ,\n",
              "         0.        ,   0.        ,   0.        ,   0.        ,\n",
              "         0.        ,   0.        ,   0.        ,   0.        ,\n",
              "         0.        ,   0.        ,   0.        ,   0.        ,\n",
              "         0.        ,   0.        ,   0.        ,   0.        ,\n",
              "         0.        ,   0.        ,   0.        ,   0.        ,\n",
              "         0.        ,   0.        ,   0.        ,   0.        ,\n",
              "         0.        ,   0.        ,   0.        ,   0.        ,\n",
              "         0.        ,   0.        ,   0.        ,   0.        ,\n",
              "         0.        ,   0.        ,   0.        ,   0.        ,\n",
              "         0.        ,   0.        ,   0.        ,   0.        ,\n",
              "         0.        ,   0.        ,   0.        ,   0.        ,\n",
              "         0.        ,   0.        ,   0.        ,   0.        ,\n",
              "         0.        ,   0.        ,   0.        ,   0.        ,\n",
              "         0.        ,   0.        ,   0.        ,   0.        ,\n",
              "         0.        ,   0.        ,   0.        ,   0.        ,\n",
              "         0.        ,   0.        ,   0.        ,   0.        ,\n",
              "         0.        ,   0.        ,   0.        ,   0.        ,\n",
              "         0.        ,   0.        ,   0.        ,   0.        ,\n",
              "         0.        ,   0.        ,   0.        ,   0.        ,\n",
              "         0.        ,   0.        ,   0.        ,   0.        ,\n",
              "         0.        ,   0.        ,   0.        ,   0.        ,\n",
              "         0.        ,   0.        ,   0.        ,   0.        ,\n",
              "         0.        ,   0.        ,   0.        ,   0.        ,\n",
              "         0.        ,   0.        ,   0.        ,   0.        ,\n",
              "         0.        ,   0.        ,   0.        ,   0.        ,\n",
              "         0.        ,   0.        ,   0.        ,   0.        ,\n",
              "         0.        ,   0.        ,   0.        ,   0.        ,\n",
              "         0.        ,   0.        ,   0.        ,   0.        ,\n",
              "         0.        ,   0.        ,   0.        ,   0.        ,\n",
              "         0.        ,   0.        ,   0.        ,   0.        ,\n",
              "         0.        ,   0.        ,   0.        ,   0.        ,\n",
              "         0.        ,   0.        ,   0.        ,   0.        ,\n",
              "         0.        ,   0.        ,   0.        ,   0.        ,\n",
              "         0.        ,   0.        ,   0.        ,   0.        ,\n",
              "         0.        ,   0.        ,   0.        ,   0.        ,\n",
              "         0.        ,   0.        ,   0.        ,   0.        ,\n",
              "         0.        ,   0.        ,   0.        ,   0.        ,\n",
              "         0.        ,   0.        ,   0.        ,   0.        ,\n",
              "         0.        ,   0.        ,   0.        ,   0.        ,\n",
              "         0.        ,   0.        ,   0.        ,   0.        ,\n",
              "         0.        ,   0.        ,   0.        ,   0.        ,\n",
              "         0.        ,   0.        ,   0.        ,   0.        ,\n",
              "         0.        ,   0.        ,   0.        ,   0.        ,\n",
              "         0.        ,   0.        ,   0.        ,   0.        ,\n",
              "         0.        ,   0.        ,   0.        ,   0.        ,\n",
              "         0.        ,   0.        ,   0.        ,   0.        ,\n",
              "         0.        ,   0.        ,   0.        ,   0.        ,\n",
              "         0.        ,   0.        ,   0.        ,   0.        ,\n",
              "         0.        ,   0.        ,   0.        ,   0.        ,\n",
              "         0.        ,   0.        ,   0.        ,   0.        ,\n",
              "         0.        ,   0.        ,   0.        ,   0.        ,\n",
              "         0.        ,   0.        ,   0.        ,   0.        ,\n",
              "         0.        ,   0.        ,   0.        ,   0.        ,\n",
              "         0.        ,   0.        ,   0.        ,   0.        ,\n",
              "         0.        ,   0.        ,   0.        ,   0.        ,\n",
              "         0.        ,   0.        ,   0.        ,   0.        ,\n",
              "         0.        ,   0.        ,   0.        ,   0.        ,\n",
              "         0.        ,   0.        ,   0.        ,   0.        ,\n",
              "         0.        ,   0.        ,   0.        ,   0.        ,\n",
              "         0.        ,   0.        ,   0.        ,   0.        ,\n",
              "         0.        ,   0.        ,   0.        ,   0.        ,\n",
              "         0.        ,   0.        ,   0.        ,   0.        ,\n",
              "         0.        ,   0.        ,   0.        ,   0.        ,\n",
              "         0.        ,   0.        ,   0.        ,   0.        ,\n",
              "         0.        ,   0.        ,   0.        ,   0.        ,\n",
              "         0.        ,   0.        ,   0.        ,   0.        ,\n",
              "         0.        ,   0.        ,   0.        ,   0.        ,\n",
              "         0.        ,   0.        ,   0.        ,   0.        ,\n",
              "         0.        ,   0.        ,   0.        ,   0.        ,\n",
              "         0.        ,   0.        ,   0.        ,   0.        ,\n",
              "         0.        ,   0.        ,   0.        ,   0.        ,\n",
              "         0.        ,   0.        ,   0.        ,   0.        ,\n",
              "         0.        ,   0.        ,   0.        ,   0.        ,\n",
              "         0.        ,   0.        ,   0.        ,   0.        ,\n",
              "         0.        ,   0.        ,   0.        ,   0.        ,\n",
              "         0.        ,   0.        ,   0.        ,   0.        ,\n",
              "         0.        ,   0.        ,   0.        ,   0.        ,\n",
              "         0.        ,   0.        ,   0.        ,   0.        ,\n",
              "         0.        ,   0.        ,   0.        ,   0.        ,\n",
              "         0.        ,   0.        ,   0.        ,   0.        ,\n",
              "         0.        ,   0.        ,  -7.19776231,  21.78544341,\n",
              "        47.80001884,  21.5325881 , -28.13264046, -11.73312066,\n",
              "        -2.74549047,  -5.62598217,   4.91886945,  13.82901722,\n",
              "        20.0878061 , -18.73098255,   6.99581921, -19.16344747,\n",
              "        -4.59956518,  15.09639113,  -1.13389748,  35.92809797,\n",
              "        10.00970816,  -7.58049146,  -9.90091632,   8.21751139,\n",
              "        -1.98776922,  -8.76454459,  31.20459424,   4.83544112,\n",
              "         0.        ,   0.        ,   0.        ,   0.        ,\n",
              "         0.        ,   0.        ,   0.        ,   0.        ,\n",
              "         0.        ,   0.        ,   0.        ,   0.        ,\n",
              "         0.        ,   0.        ])"
            ]
          },
          "metadata": {
            "tags": []
          },
          "execution_count": 69
        }
      ]
    },
    {
      "cell_type": "code",
      "metadata": {
        "id": "R0LDH2DQj-Mq",
        "colab_type": "code",
        "colab": {
          "base_uri": "https://localhost:8080/",
          "height": 1000
        },
        "outputId": "88eedb4d-d577-40c2-edc9-fa6ebf36a058"
      },
      "source": [
        "ff2g/ff2r"
      ],
      "execution_count": 81,
      "outputs": [
        {
          "output_type": "stream",
          "text": [
            "/usr/local/lib/python3.6/dist-packages/ipykernel_launcher.py:1: RuntimeWarning: invalid value encountered in true_divide\n",
            "  \"\"\"Entry point for launching an IPython kernel.\n"
          ],
          "name": "stderr"
        },
        {
          "output_type": "execute_result",
          "data": {
            "text/plain": [
              "array([         nan,          nan,          nan,          nan,\n",
              "                nan,          nan,          nan,          nan,\n",
              "                nan,          nan,          nan,          nan,\n",
              "                nan,          nan,   0.85253109,  -0.53538331,\n",
              "         0.85219205,   0.33956608,  -0.25743438,  -0.49443853,\n",
              "       -28.62770291,  -6.82685109,  -1.91078793,   0.77416397,\n",
              "        -0.09726923,   1.60888281,   0.51463905,   3.96689982,\n",
              "         0.72858143,   0.7155667 ,   0.94621824,   0.54900117,\n",
              "        -1.71730108,   0.34064832,  -0.19752664,   0.88548729,\n",
              "         0.83509955,   1.30937065,   0.87251049,   1.70158792,\n",
              "                nan,          nan,          nan,          nan,\n",
              "                nan,          nan,          nan,          nan,\n",
              "                nan,          nan,          nan,          nan,\n",
              "                nan,          nan,          nan,          nan,\n",
              "                nan,          nan,          nan,          nan,\n",
              "                nan,          nan,          nan,          nan,\n",
              "                nan,          nan,          nan,          nan,\n",
              "                nan,          nan,          nan,          nan,\n",
              "                nan,          nan,          nan,          nan,\n",
              "                nan,          nan,          nan,          nan,\n",
              "                nan,          nan,          nan,          nan,\n",
              "                nan,          nan,          nan,          nan,\n",
              "                nan,          nan,          nan,          nan,\n",
              "                nan,          nan,          nan,          nan,\n",
              "                nan,          nan,          nan,          nan,\n",
              "                nan,          nan,          nan,          nan,\n",
              "                nan,          nan,          nan,          nan,\n",
              "                nan,          nan,          nan,          nan,\n",
              "                nan,          nan,          nan,          nan,\n",
              "                nan,          nan,          nan,          nan,\n",
              "                nan,          nan,          nan,          nan,\n",
              "                nan,          nan,          nan,          nan,\n",
              "                nan,          nan,          nan,          nan,\n",
              "                nan,          nan,          nan,          nan,\n",
              "                nan,          nan,          nan,          nan,\n",
              "                nan,          nan,          nan,          nan,\n",
              "                nan,          nan,          nan,          nan,\n",
              "                nan,          nan,          nan,          nan,\n",
              "                nan,          nan,          nan,          nan,\n",
              "                nan,          nan,          nan,          nan,\n",
              "                nan,          nan,          nan,          nan,\n",
              "                nan,          nan,          nan,          nan,\n",
              "                nan,          nan,          nan,          nan,\n",
              "                nan,          nan,          nan,          nan,\n",
              "                nan,          nan,          nan,          nan,\n",
              "                nan,          nan,          nan,          nan,\n",
              "                nan,          nan,          nan,          nan,\n",
              "                nan,          nan,          nan,          nan,\n",
              "                nan,          nan,          nan,          nan,\n",
              "                nan,          nan,          nan,          nan,\n",
              "                nan,          nan,          nan,          nan,\n",
              "                nan,          nan,          nan,          nan,\n",
              "                nan,          nan,          nan,          nan,\n",
              "                nan,          nan,          nan,          nan,\n",
              "                nan,          nan,          nan,          nan,\n",
              "                nan,          nan,          nan,          nan,\n",
              "                nan,          nan,          nan,          nan,\n",
              "                nan,          nan,          nan,          nan,\n",
              "                nan,          nan,          nan,          nan,\n",
              "                nan,          nan,          nan,          nan,\n",
              "                nan,          nan,          nan,          nan,\n",
              "                nan,          nan,          nan,          nan,\n",
              "                nan,          nan,          nan,          nan,\n",
              "                nan,          nan,          nan,          nan,\n",
              "                nan,          nan,          nan,          nan,\n",
              "                nan,          nan,          nan,          nan,\n",
              "                nan,          nan,          nan,          nan,\n",
              "                nan,          nan,          nan,          nan,\n",
              "                nan,          nan,          nan,          nan,\n",
              "                nan,          nan,          nan,          nan,\n",
              "                nan,          nan,          nan,          nan,\n",
              "                nan,          nan,          nan,          nan,\n",
              "                nan,          nan,          nan,          nan,\n",
              "                nan,          nan,          nan,          nan,\n",
              "                nan,          nan,          nan,          nan,\n",
              "                nan,          nan,          nan,          nan,\n",
              "                nan,          nan,          nan,          nan,\n",
              "                nan,          nan,          nan,          nan,\n",
              "                nan,          nan,          nan,          nan,\n",
              "                nan,          nan,          nan,          nan,\n",
              "                nan,          nan,          nan,          nan,\n",
              "                nan,          nan,          nan,          nan,\n",
              "                nan,          nan,          nan,          nan,\n",
              "                nan,          nan,          nan,          nan,\n",
              "                nan,          nan,          nan,          nan,\n",
              "                nan,          nan,          nan,          nan,\n",
              "                nan,          nan,          nan,          nan,\n",
              "                nan,          nan,          nan,          nan,\n",
              "                nan,          nan,          nan,          nan,\n",
              "                nan,          nan,          nan,          nan,\n",
              "                nan,          nan,          nan,          nan,\n",
              "                nan,          nan,          nan,          nan,\n",
              "                nan,          nan,          nan,          nan,\n",
              "                nan,          nan,          nan,          nan,\n",
              "                nan,          nan,          nan,          nan,\n",
              "                nan,          nan,          nan,          nan,\n",
              "                nan,          nan,          nan,          nan,\n",
              "                nan,          nan,          nan,          nan,\n",
              "                nan,          nan,          nan,          nan,\n",
              "                nan,          nan,          nan,          nan,\n",
              "                nan,          nan,          nan,          nan,\n",
              "                nan,          nan,          nan,          nan,\n",
              "                nan,          nan,          nan,          nan,\n",
              "                nan,          nan,          nan,          nan,\n",
              "                nan,          nan,          nan,          nan,\n",
              "                nan,          nan,          nan,          nan,\n",
              "                nan,          nan,          nan,          nan,\n",
              "                nan,          nan,          nan,          nan,\n",
              "                nan,          nan,          nan,          nan,\n",
              "                nan,          nan,          nan,          nan,\n",
              "                nan,          nan,          nan,          nan,\n",
              "                nan,          nan,          nan,          nan,\n",
              "                nan,          nan,          nan,          nan,\n",
              "                nan,          nan,          nan,          nan,\n",
              "                nan,          nan,          nan,          nan,\n",
              "                nan,          nan,          nan,          nan,\n",
              "                nan,          nan,          nan,          nan,\n",
              "                nan,          nan,          nan,          nan,\n",
              "                nan,          nan,          nan,          nan,\n",
              "                nan,          nan,          nan,          nan,\n",
              "                nan,          nan,          nan,          nan,\n",
              "                nan,          nan,          nan,          nan,\n",
              "                nan,          nan,          nan,          nan,\n",
              "                nan,          nan,          nan,          nan,\n",
              "                nan,          nan,          nan,          nan,\n",
              "                nan,          nan,          nan,          nan,\n",
              "                nan,          nan,          nan,          nan,\n",
              "                nan,          nan,          nan,          nan,\n",
              "                nan,          nan,          nan,          nan,\n",
              "                nan,          nan,          nan,          nan,\n",
              "                nan,          nan,          nan,          nan,\n",
              "                nan,          nan,          nan,          nan,\n",
              "                nan,          nan,          nan,          nan,\n",
              "                nan,          nan,          nan,          nan,\n",
              "                nan,          nan,          nan,          nan,\n",
              "                nan,          nan,          nan,          nan,\n",
              "                nan,          nan,          nan,          nan,\n",
              "                nan,          nan,          nan,          nan,\n",
              "                nan,          nan,          nan,          nan,\n",
              "                nan,          nan,          nan,          nan,\n",
              "                nan,          nan,          nan,          nan,\n",
              "                nan,          nan,          nan,          nan,\n",
              "                nan,          nan,          nan,          nan,\n",
              "                nan,          nan,          nan,          nan,\n",
              "                nan,          nan,          nan,          nan,\n",
              "                nan,          nan,          nan,          nan,\n",
              "                nan,          nan,          nan,          nan,\n",
              "                nan,          nan,          nan,          nan,\n",
              "                nan,          nan,          nan,          nan,\n",
              "                nan,          nan,          nan,          nan,\n",
              "                nan,          nan,          nan,          nan,\n",
              "                nan,          nan,          nan,          nan,\n",
              "                nan,          nan,          nan,          nan,\n",
              "                nan,          nan,          nan,          nan,\n",
              "                nan,          nan,          nan,          nan,\n",
              "                nan,          nan,          nan,          nan,\n",
              "                nan,          nan,          nan,          nan,\n",
              "                nan,          nan,          nan,          nan,\n",
              "                nan,          nan,          nan,          nan,\n",
              "                nan,          nan,          nan,          nan,\n",
              "                nan,          nan,          nan,          nan,\n",
              "                nan,          nan,          nan,          nan,\n",
              "                nan,          nan,          nan,          nan,\n",
              "                nan,          nan,          nan,          nan,\n",
              "                nan,          nan,          nan,          nan,\n",
              "                nan,          nan,          nan,          nan,\n",
              "                nan,          nan,          nan,          nan,\n",
              "                nan,          nan,          nan,          nan,\n",
              "                nan,          nan,          nan,          nan,\n",
              "                nan,          nan,          nan,          nan,\n",
              "                nan,          nan,          nan,          nan,\n",
              "                nan,          nan,          nan,          nan,\n",
              "                nan,          nan,          nan,          nan,\n",
              "                nan,          nan,          nan,          nan,\n",
              "                nan,          nan,          nan,          nan,\n",
              "                nan,          nan,          nan,          nan,\n",
              "                nan,          nan,          nan,          nan,\n",
              "                nan,          nan,          nan,          nan,\n",
              "                nan,          nan,          nan,          nan,\n",
              "                nan,          nan,          nan,          nan,\n",
              "                nan,          nan,          nan,          nan,\n",
              "                nan,          nan,          nan,          nan,\n",
              "                nan,          nan,          nan,          nan,\n",
              "                nan,          nan,          nan,          nan,\n",
              "                nan,          nan,          nan,          nan,\n",
              "                nan,          nan,          nan,          nan,\n",
              "                nan,          nan,          nan,          nan,\n",
              "                nan,          nan,          nan,          nan,\n",
              "                nan,          nan,          nan,          nan,\n",
              "                nan,          nan,          nan,          nan,\n",
              "                nan,          nan,          nan,          nan,\n",
              "                nan,          nan,          nan,          nan,\n",
              "                nan,          nan,          nan,          nan,\n",
              "                nan,          nan,          nan,          nan,\n",
              "                nan,          nan,          nan,          nan,\n",
              "                nan,          nan,          nan,          nan,\n",
              "                nan,          nan,          nan,          nan,\n",
              "                nan,          nan,          nan,          nan,\n",
              "                nan,          nan,          nan,          nan,\n",
              "                nan,          nan,          nan,          nan,\n",
              "                nan,          nan,  88.82970651,   1.70158792,\n",
              "         0.87251049,   1.30937065,   0.83509955,   0.88548729,\n",
              "        -0.19752664,   0.34064832,  -1.71730108,   0.54900117,\n",
              "         0.94621824,   0.7155667 ,   0.72858143,   3.96689982,\n",
              "         0.51463905,   1.60888281,  -0.09726923,   0.77416397,\n",
              "        -1.91078793,  -6.82685109, -28.62770291,  -0.49443853,\n",
              "        -0.25743438,   0.33956608,   0.85219205,  -0.53538331,\n",
              "                nan,          nan,          nan,          nan,\n",
              "                nan,          nan,          nan,          nan,\n",
              "                nan,          nan,          nan,          nan,\n",
              "                nan,          nan])"
            ]
          },
          "metadata": {
            "tags": []
          },
          "execution_count": 81
        }
      ]
    },
    {
      "cell_type": "code",
      "metadata": {
        "id": "xxj5MeF4oU5e",
        "colab_type": "code",
        "colab": {}
      },
      "source": [
        ""
      ],
      "execution_count": 0,
      "outputs": []
    }
  ]
}