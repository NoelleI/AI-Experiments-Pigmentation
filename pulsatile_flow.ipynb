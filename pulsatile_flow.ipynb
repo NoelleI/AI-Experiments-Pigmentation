{
  "nbformat": 4,
  "nbformat_minor": 0,
  "metadata": {
    "colab": {
      "name": "pulsatile_flow",
      "provenance": [],
      "collapsed_sections": [],
      "authorship_tag": "ABX9TyNxr1uR18+kbLPptpW+Sdan",
      "include_colab_link": true
    },
    "kernelspec": {
      "name": "python3",
      "display_name": "Python 3"
    },
    "accelerator": "GPU"
  },
  "cells": [
    {
      "cell_type": "markdown",
      "metadata": {
        "id": "view-in-github",
        "colab_type": "text"
      },
      "source": [
        "<a href=\"https://colab.research.google.com/github/NoelleI/AI-Experiments-Pigmentation/blob/master/pulsatile_flow.ipynb\" target=\"_parent\"><img src=\"https://colab.research.google.com/assets/colab-badge.svg\" alt=\"Open In Colab\"/></a>"
      ]
    },
    {
      "cell_type": "code",
      "metadata": {
        "id": "qCd8i0jiUZzo",
        "colab_type": "code",
        "outputId": "cd1e13a6-b53a-462c-cbea-88ab6732bedd",
        "colab": {
          "base_uri": "https://localhost:8080/",
          "height": 1000
        }
      },
      "source": [
        "import numpy as np\n",
        "import cv2\n",
        "from google.colab.patches import cv2_imshow\n",
        "\n",
        "file = 'IMG_3447 (1)_Trim.mp4'\n",
        "\n",
        "cap = cv2.VideoCapture(file)\n",
        "\n",
        "# Get frame count\n",
        "n_frames = int(cap.get(cv2.CAP_PROP_FRAME_COUNT))\n",
        "\n",
        "\n",
        "green = []\n",
        "blue = []\n",
        "red = []\n",
        "\n",
        "i = 0\n",
        "ret = True\n",
        "ret, frame = cap.read()\n",
        "\n",
        "#transforms = np.zeros((n_frames-1, 3), np.float32) - don't need this\n",
        "prev = frame\n",
        "#convert to gray_scale\n",
        "prev_gray = cv2.cvtColor(prev, cv2.COLOR_BGR2GRAY)\n",
        "prev_pts = cv2.goodFeaturesToTrack(prev_gray, maxCorners=200, qualityLevel=0.01,minDistance=30,blockSize=3)\n",
        "#find this set of points in all subsequent frames\n",
        "\n",
        "for i in range(n_frames-2):\n",
        "\n",
        "    # Capture frame-by-frame\n",
        "    # Read first frame\n",
        "\n",
        "  \n",
        "    \n",
        "    # measure this later on the aligned frames\n",
        "    #gray = cv2.cvtColor(frame, cv2.COLOR_BGR2GRAY)\n",
        "    \n",
        "    # Display the resulting frame\n",
        "    #cv2_imshow(frame)\n",
        "    #green += [g]\n",
        "    #blue += [b]\n",
        "   # red += [r]\n",
        "    #if cv2.waitKey(1) & 0xFF == ord('q'):\n",
        "        #break\n",
        "   #get the previous frame for image stabilization\n",
        "    \n",
        "   \n",
        "    ret, frame = cap.read()\n",
        "\n",
        "    curr_gray = cv2.cvtColor(frame, cv2.COLOR_BGR2GRAY)\n",
        "\n",
        "    \n",
        "    \n",
        "\n",
        "  # Calculate optical flow (i.e. track feature points)\n",
        "\n",
        "    curr_pts, status, err = cv2.calcOpticalFlowPyrLK(prev_gray, curr_gray, prev_pts, None)\n",
        "\n",
        "  #generate and error if the shapes of prjected points do not make sense\n",
        "    assert prev_pts.shape == curr_pts.shape\n",
        " \n",
        "    idx = np.where(status==1)[0]\n",
        "    prev_pts = prev_pts[idx]\n",
        "    curr_pts = curr_pts[idx]\n",
        "    #estimate the transform between the frames\n",
        "    #m = cv2.estimateAffine2D(prev_pts, curr_pts)\n",
        "    \n",
        "    g = np.mean(frame[np.around(curr_pts[curr_pts[:,0,1]<1919]).astype(int)][1].reshape(-1))\n",
        "    b = np.mean(frame[np.around(curr_pts[curr_pts[:,0,1]<1919]).astype(int)][2].reshape(-1))\n",
        "    r = np.mean(frame[np.around(curr_pts[curr_pts[:,0,1]<1919]).astype(int)][0].reshape(-1))\n",
        "\n",
        "    green += [g]\n",
        "    blue += [b]\n",
        "    red += [r]\n",
        "    #b = np.mean(frame[:,:,2].reshape(-1))\n",
        "    #r = np.mean(frame[:,:,0].reshape(-1))\n",
        "\n",
        "    # Extract traslation\n",
        "    #dx = m[0][1]\n",
        "    #dy = m[0][2]\n",
        "  # Extract rotation angle\n",
        "    #da = np.arctan2(m[1,0], m[0,0])\n",
        "\n",
        "    \n",
        "\n",
        "  # Store transformation\n",
        "\n",
        "    #transforms[i] = [dx,dy,da]\n",
        "\n",
        "    print(\"Frame: \" + str(i) +  \"/\" + str(n_frames) + \" -  Tracked points : \" + str(len(prev_pts)))\n",
        "\n",
        "# When everything done, release the capture\n",
        "#cap.release()\n",
        "#cv2.destroyAllWindows()"
      ],
      "execution_count": 101,
      "outputs": [
        {
          "output_type": "stream",
          "text": [
            "Frame: 0/424 -  Tracked points : 200\n",
            "Frame: 1/424 -  Tracked points : 200\n",
            "Frame: 2/424 -  Tracked points : 200\n",
            "Frame: 3/424 -  Tracked points : 200\n",
            "Frame: 4/424 -  Tracked points : 200\n",
            "Frame: 5/424 -  Tracked points : 200\n",
            "Frame: 6/424 -  Tracked points : 200\n",
            "Frame: 7/424 -  Tracked points : 200\n",
            "Frame: 8/424 -  Tracked points : 200\n",
            "Frame: 9/424 -  Tracked points : 200\n",
            "Frame: 10/424 -  Tracked points : 200\n",
            "Frame: 11/424 -  Tracked points : 200\n",
            "Frame: 12/424 -  Tracked points : 200\n",
            "Frame: 13/424 -  Tracked points : 200\n",
            "Frame: 14/424 -  Tracked points : 200\n",
            "Frame: 15/424 -  Tracked points : 200\n",
            "Frame: 16/424 -  Tracked points : 200\n",
            "Frame: 17/424 -  Tracked points : 200\n",
            "Frame: 18/424 -  Tracked points : 200\n",
            "Frame: 19/424 -  Tracked points : 200\n",
            "Frame: 20/424 -  Tracked points : 200\n",
            "Frame: 21/424 -  Tracked points : 200\n",
            "Frame: 22/424 -  Tracked points : 200\n",
            "Frame: 23/424 -  Tracked points : 199\n",
            "Frame: 24/424 -  Tracked points : 199\n",
            "Frame: 25/424 -  Tracked points : 199\n",
            "Frame: 26/424 -  Tracked points : 199\n",
            "Frame: 27/424 -  Tracked points : 199\n",
            "Frame: 28/424 -  Tracked points : 199\n",
            "Frame: 29/424 -  Tracked points : 199\n",
            "Frame: 30/424 -  Tracked points : 199\n",
            "Frame: 31/424 -  Tracked points : 199\n",
            "Frame: 32/424 -  Tracked points : 199\n",
            "Frame: 33/424 -  Tracked points : 199\n",
            "Frame: 34/424 -  Tracked points : 199\n",
            "Frame: 35/424 -  Tracked points : 199\n",
            "Frame: 36/424 -  Tracked points : 199\n",
            "Frame: 37/424 -  Tracked points : 199\n",
            "Frame: 38/424 -  Tracked points : 199\n",
            "Frame: 39/424 -  Tracked points : 199\n",
            "Frame: 40/424 -  Tracked points : 199\n",
            "Frame: 41/424 -  Tracked points : 199\n",
            "Frame: 42/424 -  Tracked points : 199\n",
            "Frame: 43/424 -  Tracked points : 199\n",
            "Frame: 44/424 -  Tracked points : 199\n",
            "Frame: 45/424 -  Tracked points : 199\n",
            "Frame: 46/424 -  Tracked points : 199\n",
            "Frame: 47/424 -  Tracked points : 199\n",
            "Frame: 48/424 -  Tracked points : 198\n",
            "Frame: 49/424 -  Tracked points : 198\n",
            "Frame: 50/424 -  Tracked points : 197\n",
            "Frame: 51/424 -  Tracked points : 197\n",
            "Frame: 52/424 -  Tracked points : 197\n",
            "Frame: 53/424 -  Tracked points : 197\n",
            "Frame: 54/424 -  Tracked points : 197\n",
            "Frame: 55/424 -  Tracked points : 197\n",
            "Frame: 56/424 -  Tracked points : 197\n",
            "Frame: 57/424 -  Tracked points : 197\n",
            "Frame: 58/424 -  Tracked points : 197\n",
            "Frame: 59/424 -  Tracked points : 197\n",
            "Frame: 60/424 -  Tracked points : 197\n",
            "Frame: 61/424 -  Tracked points : 197\n",
            "Frame: 62/424 -  Tracked points : 197\n",
            "Frame: 63/424 -  Tracked points : 197\n",
            "Frame: 64/424 -  Tracked points : 197\n",
            "Frame: 65/424 -  Tracked points : 197\n",
            "Frame: 66/424 -  Tracked points : 197\n",
            "Frame: 67/424 -  Tracked points : 197\n",
            "Frame: 68/424 -  Tracked points : 197\n",
            "Frame: 69/424 -  Tracked points : 197\n",
            "Frame: 70/424 -  Tracked points : 197\n",
            "Frame: 71/424 -  Tracked points : 197\n",
            "Frame: 72/424 -  Tracked points : 197\n",
            "Frame: 73/424 -  Tracked points : 197\n",
            "Frame: 74/424 -  Tracked points : 197\n",
            "Frame: 75/424 -  Tracked points : 197\n",
            "Frame: 76/424 -  Tracked points : 197\n",
            "Frame: 77/424 -  Tracked points : 197\n",
            "Frame: 78/424 -  Tracked points : 197\n",
            "Frame: 79/424 -  Tracked points : 197\n",
            "Frame: 80/424 -  Tracked points : 197\n",
            "Frame: 81/424 -  Tracked points : 197\n",
            "Frame: 82/424 -  Tracked points : 197\n",
            "Frame: 83/424 -  Tracked points : 197\n",
            "Frame: 84/424 -  Tracked points : 197\n",
            "Frame: 85/424 -  Tracked points : 197\n",
            "Frame: 86/424 -  Tracked points : 197\n",
            "Frame: 87/424 -  Tracked points : 197\n",
            "Frame: 88/424 -  Tracked points : 197\n",
            "Frame: 89/424 -  Tracked points : 197\n",
            "Frame: 90/424 -  Tracked points : 197\n",
            "Frame: 91/424 -  Tracked points : 197\n",
            "Frame: 92/424 -  Tracked points : 197\n",
            "Frame: 93/424 -  Tracked points : 197\n",
            "Frame: 94/424 -  Tracked points : 197\n",
            "Frame: 95/424 -  Tracked points : 197\n",
            "Frame: 96/424 -  Tracked points : 197\n",
            "Frame: 97/424 -  Tracked points : 197\n",
            "Frame: 98/424 -  Tracked points : 197\n",
            "Frame: 99/424 -  Tracked points : 197\n",
            "Frame: 100/424 -  Tracked points : 197\n",
            "Frame: 101/424 -  Tracked points : 197\n",
            "Frame: 102/424 -  Tracked points : 197\n",
            "Frame: 103/424 -  Tracked points : 197\n",
            "Frame: 104/424 -  Tracked points : 197\n",
            "Frame: 105/424 -  Tracked points : 197\n",
            "Frame: 106/424 -  Tracked points : 197\n",
            "Frame: 107/424 -  Tracked points : 197\n",
            "Frame: 108/424 -  Tracked points : 197\n",
            "Frame: 109/424 -  Tracked points : 197\n",
            "Frame: 110/424 -  Tracked points : 197\n",
            "Frame: 111/424 -  Tracked points : 197\n",
            "Frame: 112/424 -  Tracked points : 197\n",
            "Frame: 113/424 -  Tracked points : 197\n",
            "Frame: 114/424 -  Tracked points : 197\n",
            "Frame: 115/424 -  Tracked points : 197\n",
            "Frame: 116/424 -  Tracked points : 197\n",
            "Frame: 117/424 -  Tracked points : 197\n",
            "Frame: 118/424 -  Tracked points : 197\n",
            "Frame: 119/424 -  Tracked points : 197\n",
            "Frame: 120/424 -  Tracked points : 197\n",
            "Frame: 121/424 -  Tracked points : 197\n",
            "Frame: 122/424 -  Tracked points : 197\n",
            "Frame: 123/424 -  Tracked points : 197\n",
            "Frame: 124/424 -  Tracked points : 197\n",
            "Frame: 125/424 -  Tracked points : 197\n",
            "Frame: 126/424 -  Tracked points : 197\n",
            "Frame: 127/424 -  Tracked points : 197\n",
            "Frame: 128/424 -  Tracked points : 197\n",
            "Frame: 129/424 -  Tracked points : 197\n",
            "Frame: 130/424 -  Tracked points : 197\n",
            "Frame: 131/424 -  Tracked points : 197\n",
            "Frame: 132/424 -  Tracked points : 197\n",
            "Frame: 133/424 -  Tracked points : 197\n",
            "Frame: 134/424 -  Tracked points : 197\n",
            "Frame: 135/424 -  Tracked points : 196\n",
            "Frame: 136/424 -  Tracked points : 195\n",
            "Frame: 137/424 -  Tracked points : 194\n",
            "Frame: 138/424 -  Tracked points : 194\n",
            "Frame: 139/424 -  Tracked points : 194\n",
            "Frame: 140/424 -  Tracked points : 194\n",
            "Frame: 141/424 -  Tracked points : 194\n",
            "Frame: 142/424 -  Tracked points : 194\n",
            "Frame: 143/424 -  Tracked points : 194\n",
            "Frame: 144/424 -  Tracked points : 194\n",
            "Frame: 145/424 -  Tracked points : 194\n",
            "Frame: 146/424 -  Tracked points : 194\n",
            "Frame: 147/424 -  Tracked points : 193\n",
            "Frame: 148/424 -  Tracked points : 193\n",
            "Frame: 149/424 -  Tracked points : 192\n",
            "Frame: 150/424 -  Tracked points : 192\n",
            "Frame: 151/424 -  Tracked points : 192\n",
            "Frame: 152/424 -  Tracked points : 192\n",
            "Frame: 153/424 -  Tracked points : 192\n",
            "Frame: 154/424 -  Tracked points : 192\n",
            "Frame: 155/424 -  Tracked points : 192\n",
            "Frame: 156/424 -  Tracked points : 192\n",
            "Frame: 157/424 -  Tracked points : 192\n",
            "Frame: 158/424 -  Tracked points : 191\n",
            "Frame: 159/424 -  Tracked points : 191\n",
            "Frame: 160/424 -  Tracked points : 190\n",
            "Frame: 161/424 -  Tracked points : 190\n",
            "Frame: 162/424 -  Tracked points : 190\n",
            "Frame: 163/424 -  Tracked points : 189\n",
            "Frame: 164/424 -  Tracked points : 189\n",
            "Frame: 165/424 -  Tracked points : 189\n",
            "Frame: 166/424 -  Tracked points : 189\n",
            "Frame: 167/424 -  Tracked points : 189\n",
            "Frame: 168/424 -  Tracked points : 189\n",
            "Frame: 169/424 -  Tracked points : 189\n",
            "Frame: 170/424 -  Tracked points : 189\n",
            "Frame: 171/424 -  Tracked points : 189\n",
            "Frame: 172/424 -  Tracked points : 188\n",
            "Frame: 173/424 -  Tracked points : 186\n",
            "Frame: 174/424 -  Tracked points : 186\n",
            "Frame: 175/424 -  Tracked points : 186\n",
            "Frame: 176/424 -  Tracked points : 186\n",
            "Frame: 177/424 -  Tracked points : 186\n",
            "Frame: 178/424 -  Tracked points : 186\n",
            "Frame: 179/424 -  Tracked points : 185\n",
            "Frame: 180/424 -  Tracked points : 184\n",
            "Frame: 181/424 -  Tracked points : 184\n",
            "Frame: 182/424 -  Tracked points : 184\n",
            "Frame: 183/424 -  Tracked points : 184\n",
            "Frame: 184/424 -  Tracked points : 184\n",
            "Frame: 185/424 -  Tracked points : 184\n",
            "Frame: 186/424 -  Tracked points : 184\n",
            "Frame: 187/424 -  Tracked points : 184\n",
            "Frame: 188/424 -  Tracked points : 184\n",
            "Frame: 189/424 -  Tracked points : 183\n",
            "Frame: 190/424 -  Tracked points : 183\n",
            "Frame: 191/424 -  Tracked points : 183\n",
            "Frame: 192/424 -  Tracked points : 183\n",
            "Frame: 193/424 -  Tracked points : 183\n",
            "Frame: 194/424 -  Tracked points : 183\n",
            "Frame: 195/424 -  Tracked points : 183\n",
            "Frame: 196/424 -  Tracked points : 183\n",
            "Frame: 197/424 -  Tracked points : 183\n",
            "Frame: 198/424 -  Tracked points : 182\n",
            "Frame: 199/424 -  Tracked points : 182\n",
            "Frame: 200/424 -  Tracked points : 182\n",
            "Frame: 201/424 -  Tracked points : 182\n",
            "Frame: 202/424 -  Tracked points : 182\n",
            "Frame: 203/424 -  Tracked points : 182\n",
            "Frame: 204/424 -  Tracked points : 182\n",
            "Frame: 205/424 -  Tracked points : 182\n",
            "Frame: 206/424 -  Tracked points : 182\n",
            "Frame: 207/424 -  Tracked points : 182\n",
            "Frame: 208/424 -  Tracked points : 182\n",
            "Frame: 209/424 -  Tracked points : 182\n",
            "Frame: 210/424 -  Tracked points : 181\n",
            "Frame: 211/424 -  Tracked points : 181\n",
            "Frame: 212/424 -  Tracked points : 181\n",
            "Frame: 213/424 -  Tracked points : 181\n",
            "Frame: 214/424 -  Tracked points : 181\n",
            "Frame: 215/424 -  Tracked points : 181\n",
            "Frame: 216/424 -  Tracked points : 181\n",
            "Frame: 217/424 -  Tracked points : 181\n",
            "Frame: 218/424 -  Tracked points : 181\n",
            "Frame: 219/424 -  Tracked points : 180\n",
            "Frame: 220/424 -  Tracked points : 180\n",
            "Frame: 221/424 -  Tracked points : 180\n",
            "Frame: 222/424 -  Tracked points : 180\n",
            "Frame: 223/424 -  Tracked points : 180\n",
            "Frame: 224/424 -  Tracked points : 180\n",
            "Frame: 225/424 -  Tracked points : 180\n",
            "Frame: 226/424 -  Tracked points : 180\n",
            "Frame: 227/424 -  Tracked points : 180\n",
            "Frame: 228/424 -  Tracked points : 179\n",
            "Frame: 229/424 -  Tracked points : 179\n",
            "Frame: 230/424 -  Tracked points : 179\n",
            "Frame: 231/424 -  Tracked points : 179\n",
            "Frame: 232/424 -  Tracked points : 179\n",
            "Frame: 233/424 -  Tracked points : 179\n",
            "Frame: 234/424 -  Tracked points : 179\n",
            "Frame: 235/424 -  Tracked points : 179\n",
            "Frame: 236/424 -  Tracked points : 179\n",
            "Frame: 237/424 -  Tracked points : 179\n",
            "Frame: 238/424 -  Tracked points : 179\n",
            "Frame: 239/424 -  Tracked points : 179\n",
            "Frame: 240/424 -  Tracked points : 179\n",
            "Frame: 241/424 -  Tracked points : 179\n",
            "Frame: 242/424 -  Tracked points : 179\n",
            "Frame: 243/424 -  Tracked points : 179\n",
            "Frame: 244/424 -  Tracked points : 179\n",
            "Frame: 245/424 -  Tracked points : 179\n",
            "Frame: 246/424 -  Tracked points : 179\n",
            "Frame: 247/424 -  Tracked points : 179\n",
            "Frame: 248/424 -  Tracked points : 179\n",
            "Frame: 249/424 -  Tracked points : 179\n",
            "Frame: 250/424 -  Tracked points : 179\n",
            "Frame: 251/424 -  Tracked points : 179\n",
            "Frame: 252/424 -  Tracked points : 179\n",
            "Frame: 253/424 -  Tracked points : 179\n",
            "Frame: 254/424 -  Tracked points : 179\n",
            "Frame: 255/424 -  Tracked points : 179\n",
            "Frame: 256/424 -  Tracked points : 179\n",
            "Frame: 257/424 -  Tracked points : 179\n",
            "Frame: 258/424 -  Tracked points : 179\n",
            "Frame: 259/424 -  Tracked points : 179\n",
            "Frame: 260/424 -  Tracked points : 179\n",
            "Frame: 261/424 -  Tracked points : 179\n",
            "Frame: 262/424 -  Tracked points : 179\n",
            "Frame: 263/424 -  Tracked points : 179\n",
            "Frame: 264/424 -  Tracked points : 179\n",
            "Frame: 265/424 -  Tracked points : 179\n",
            "Frame: 266/424 -  Tracked points : 179\n",
            "Frame: 267/424 -  Tracked points : 178\n",
            "Frame: 268/424 -  Tracked points : 178\n",
            "Frame: 269/424 -  Tracked points : 178\n",
            "Frame: 270/424 -  Tracked points : 178\n",
            "Frame: 271/424 -  Tracked points : 178\n",
            "Frame: 272/424 -  Tracked points : 178\n",
            "Frame: 273/424 -  Tracked points : 178\n",
            "Frame: 274/424 -  Tracked points : 178\n",
            "Frame: 275/424 -  Tracked points : 178\n",
            "Frame: 276/424 -  Tracked points : 178\n",
            "Frame: 277/424 -  Tracked points : 178\n",
            "Frame: 278/424 -  Tracked points : 178\n",
            "Frame: 279/424 -  Tracked points : 178\n",
            "Frame: 280/424 -  Tracked points : 177\n",
            "Frame: 281/424 -  Tracked points : 177\n",
            "Frame: 282/424 -  Tracked points : 177\n",
            "Frame: 283/424 -  Tracked points : 177\n",
            "Frame: 284/424 -  Tracked points : 177\n",
            "Frame: 285/424 -  Tracked points : 177\n",
            "Frame: 286/424 -  Tracked points : 177\n",
            "Frame: 287/424 -  Tracked points : 177\n",
            "Frame: 288/424 -  Tracked points : 177\n",
            "Frame: 289/424 -  Tracked points : 177\n",
            "Frame: 290/424 -  Tracked points : 177\n",
            "Frame: 291/424 -  Tracked points : 177\n",
            "Frame: 292/424 -  Tracked points : 177\n",
            "Frame: 293/424 -  Tracked points : 177\n",
            "Frame: 294/424 -  Tracked points : 177\n",
            "Frame: 295/424 -  Tracked points : 177\n",
            "Frame: 296/424 -  Tracked points : 177\n",
            "Frame: 297/424 -  Tracked points : 177\n",
            "Frame: 298/424 -  Tracked points : 176\n",
            "Frame: 299/424 -  Tracked points : 176\n",
            "Frame: 300/424 -  Tracked points : 176\n",
            "Frame: 301/424 -  Tracked points : 176\n",
            "Frame: 302/424 -  Tracked points : 175\n",
            "Frame: 303/424 -  Tracked points : 175\n",
            "Frame: 304/424 -  Tracked points : 175\n",
            "Frame: 305/424 -  Tracked points : 175\n",
            "Frame: 306/424 -  Tracked points : 175\n",
            "Frame: 307/424 -  Tracked points : 175\n",
            "Frame: 308/424 -  Tracked points : 175\n",
            "Frame: 309/424 -  Tracked points : 175\n",
            "Frame: 310/424 -  Tracked points : 175\n",
            "Frame: 311/424 -  Tracked points : 175\n",
            "Frame: 312/424 -  Tracked points : 175\n",
            "Frame: 313/424 -  Tracked points : 175\n",
            "Frame: 314/424 -  Tracked points : 175\n",
            "Frame: 315/424 -  Tracked points : 175\n",
            "Frame: 316/424 -  Tracked points : 175\n",
            "Frame: 317/424 -  Tracked points : 175\n",
            "Frame: 318/424 -  Tracked points : 175\n",
            "Frame: 319/424 -  Tracked points : 175\n",
            "Frame: 320/424 -  Tracked points : 175\n",
            "Frame: 321/424 -  Tracked points : 175\n",
            "Frame: 322/424 -  Tracked points : 175\n",
            "Frame: 323/424 -  Tracked points : 175\n",
            "Frame: 324/424 -  Tracked points : 175\n",
            "Frame: 325/424 -  Tracked points : 175\n",
            "Frame: 326/424 -  Tracked points : 175\n",
            "Frame: 327/424 -  Tracked points : 175\n",
            "Frame: 328/424 -  Tracked points : 175\n",
            "Frame: 329/424 -  Tracked points : 175\n",
            "Frame: 330/424 -  Tracked points : 175\n",
            "Frame: 331/424 -  Tracked points : 175\n",
            "Frame: 332/424 -  Tracked points : 175\n",
            "Frame: 333/424 -  Tracked points : 175\n",
            "Frame: 334/424 -  Tracked points : 175\n",
            "Frame: 335/424 -  Tracked points : 175\n",
            "Frame: 336/424 -  Tracked points : 175\n",
            "Frame: 337/424 -  Tracked points : 175\n",
            "Frame: 338/424 -  Tracked points : 175\n",
            "Frame: 339/424 -  Tracked points : 175\n",
            "Frame: 340/424 -  Tracked points : 175\n",
            "Frame: 341/424 -  Tracked points : 175\n",
            "Frame: 342/424 -  Tracked points : 175\n",
            "Frame: 343/424 -  Tracked points : 175\n",
            "Frame: 344/424 -  Tracked points : 175\n",
            "Frame: 345/424 -  Tracked points : 175\n",
            "Frame: 346/424 -  Tracked points : 175\n",
            "Frame: 347/424 -  Tracked points : 175\n",
            "Frame: 348/424 -  Tracked points : 175\n",
            "Frame: 349/424 -  Tracked points : 175\n",
            "Frame: 350/424 -  Tracked points : 175\n",
            "Frame: 351/424 -  Tracked points : 175\n",
            "Frame: 352/424 -  Tracked points : 175\n",
            "Frame: 353/424 -  Tracked points : 175\n",
            "Frame: 354/424 -  Tracked points : 175\n",
            "Frame: 355/424 -  Tracked points : 175\n",
            "Frame: 356/424 -  Tracked points : 175\n",
            "Frame: 357/424 -  Tracked points : 175\n",
            "Frame: 358/424 -  Tracked points : 175\n",
            "Frame: 359/424 -  Tracked points : 175\n",
            "Frame: 360/424 -  Tracked points : 175\n",
            "Frame: 361/424 -  Tracked points : 175\n",
            "Frame: 362/424 -  Tracked points : 175\n",
            "Frame: 363/424 -  Tracked points : 175\n",
            "Frame: 364/424 -  Tracked points : 175\n",
            "Frame: 365/424 -  Tracked points : 175\n",
            "Frame: 366/424 -  Tracked points : 175\n",
            "Frame: 367/424 -  Tracked points : 175\n",
            "Frame: 368/424 -  Tracked points : 175\n",
            "Frame: 369/424 -  Tracked points : 175\n",
            "Frame: 370/424 -  Tracked points : 175\n",
            "Frame: 371/424 -  Tracked points : 175\n",
            "Frame: 372/424 -  Tracked points : 175\n",
            "Frame: 373/424 -  Tracked points : 175\n",
            "Frame: 374/424 -  Tracked points : 175\n",
            "Frame: 375/424 -  Tracked points : 175\n",
            "Frame: 376/424 -  Tracked points : 175\n",
            "Frame: 377/424 -  Tracked points : 175\n",
            "Frame: 378/424 -  Tracked points : 175\n",
            "Frame: 379/424 -  Tracked points : 175\n",
            "Frame: 380/424 -  Tracked points : 175\n",
            "Frame: 381/424 -  Tracked points : 175\n",
            "Frame: 382/424 -  Tracked points : 175\n",
            "Frame: 383/424 -  Tracked points : 175\n",
            "Frame: 384/424 -  Tracked points : 175\n",
            "Frame: 385/424 -  Tracked points : 175\n",
            "Frame: 386/424 -  Tracked points : 175\n",
            "Frame: 387/424 -  Tracked points : 175\n",
            "Frame: 388/424 -  Tracked points : 175\n",
            "Frame: 389/424 -  Tracked points : 175\n",
            "Frame: 390/424 -  Tracked points : 175\n",
            "Frame: 391/424 -  Tracked points : 175\n",
            "Frame: 392/424 -  Tracked points : 175\n",
            "Frame: 393/424 -  Tracked points : 175\n",
            "Frame: 394/424 -  Tracked points : 175\n",
            "Frame: 395/424 -  Tracked points : 175\n",
            "Frame: 396/424 -  Tracked points : 175\n",
            "Frame: 397/424 -  Tracked points : 175\n",
            "Frame: 398/424 -  Tracked points : 175\n",
            "Frame: 399/424 -  Tracked points : 175\n",
            "Frame: 400/424 -  Tracked points : 175\n",
            "Frame: 401/424 -  Tracked points : 175\n",
            "Frame: 402/424 -  Tracked points : 175\n",
            "Frame: 403/424 -  Tracked points : 175\n",
            "Frame: 404/424 -  Tracked points : 175\n",
            "Frame: 405/424 -  Tracked points : 175\n",
            "Frame: 406/424 -  Tracked points : 175\n",
            "Frame: 407/424 -  Tracked points : 175\n",
            "Frame: 408/424 -  Tracked points : 175\n",
            "Frame: 409/424 -  Tracked points : 175\n",
            "Frame: 410/424 -  Tracked points : 175\n",
            "Frame: 411/424 -  Tracked points : 175\n",
            "Frame: 412/424 -  Tracked points : 175\n",
            "Frame: 413/424 -  Tracked points : 175\n",
            "Frame: 414/424 -  Tracked points : 175\n",
            "Frame: 415/424 -  Tracked points : 175\n",
            "Frame: 416/424 -  Tracked points : 174\n",
            "Frame: 417/424 -  Tracked points : 173\n",
            "Frame: 418/424 -  Tracked points : 173\n",
            "Frame: 419/424 -  Tracked points : 173\n",
            "Frame: 420/424 -  Tracked points : 173\n",
            "Frame: 421/424 -  Tracked points : 173\n"
          ],
          "name": "stdout"
        }
      ]
    },
    {
      "cell_type": "code",
      "metadata": {
        "id": "y0oNMgDiWIyP",
        "colab_type": "code",
        "colab": {}
      },
      "source": [
        "green = np.array(green)\n",
        "blue = np.array(blue)\n",
        "red = np.array(red)"
      ],
      "execution_count": 0,
      "outputs": []
    },
    {
      "cell_type": "code",
      "metadata": {
        "id": "NKObVgRKbSLd",
        "colab_type": "code",
        "colab": {}
      },
      "source": [
        "import matplotlib.pyplot as plt"
      ],
      "execution_count": 0,
      "outputs": []
    },
    {
      "cell_type": "code",
      "metadata": {
        "id": "52BiDXbUhpPN",
        "colab_type": "code",
        "colab": {
          "base_uri": "https://localhost:8080/",
          "height": 282
        },
        "outputId": "e33a01a1-12ce-4042-f545-f58f7041f673"
      },
      "source": [
        "\n",
        "plt.plot(blue, 'b-')\n",
        "\n",
        "#plt.plot(red, 'r-')"
      ],
      "execution_count": 107,
      "outputs": [
        {
          "output_type": "execute_result",
          "data": {
            "text/plain": [
              "[<matplotlib.lines.Line2D at 0x7fec378b0978>]"
            ]
          },
          "metadata": {
            "tags": []
          },
          "execution_count": 107
        },
        {
          "output_type": "display_data",
          "data": {
            "image/png": "[encoded data removed]",
            "text/plain": [
              "<Figure size 432x288 with 1 Axes>"
            ]
          },
          "metadata": {
            "tags": []
          }
        }
      ]
    },
    {
      "cell_type": "code",
      "metadata": {
        "id": "ixoOtfkQltl-",
        "colab_type": "code",
        "colab": {
          "base_uri": "https://localhost:8080/",
          "height": 282
        },
        "outputId": "f721050b-ef5a-4321-d3f8-f11cac87f488"
      },
      "source": [
        "plt.plot(green, 'g-')"
      ],
      "execution_count": 106,
      "outputs": [
        {
          "output_type": "execute_result",
          "data": {
            "text/plain": [
              "[<matplotlib.lines.Line2D at 0x7fec378d4710>]"
            ]
          },
          "metadata": {
            "tags": []
          },
          "execution_count": 106
        },
        {
          "output_type": "display_data",
          "data": {
            "image/png": "[encoded data removed]",
            "text/plain": [
              "<Figure size 432x288 with 1 Axes>"
            ]
          },
          "metadata": {
            "tags": []
          }
        }
      ]
    },
    {
      "cell_type": "code",
      "metadata": {
        "id": "J5ngvx-ZhvJl",
        "colab_type": "code",
        "colab": {
          "base_uri": "https://localhost:8080/",
          "height": 34
        },
        "outputId": "24f48b55-ce0b-4a4c-f1ae-301379cb8d1a"
      },
      "source": [
        "green.shape"
      ],
      "execution_count": 44,
      "outputs": [
        {
          "output_type": "execute_result",
          "data": {
            "text/plain": [
              "(424,)"
            ]
          },
          "metadata": {
            "tags": []
          },
          "execution_count": 44
        }
      ]
    },
    {
      "cell_type": "code",
      "metadata": {
        "id": "YL2K-Yx-h23e",
        "colab_type": "code",
        "colab": {
          "base_uri": "https://localhost:8080/",
          "height": 34
        },
        "outputId": "b136757c-6140-43d5-f6fc-f2e706f85184"
      },
      "source": [
        "14/424"
      ],
      "execution_count": 45,
      "outputs": [
        {
          "output_type": "execute_result",
          "data": {
            "text/plain": [
              "0.0330188679245283"
            ]
          },
          "metadata": {
            "tags": []
          },
          "execution_count": 45
        }
      ]
    },
    {
      "cell_type": "code",
      "metadata": {
        "id": "K4s023GumsEP",
        "colab_type": "code",
        "colab": {
          "base_uri": "https://localhost:8080/",
          "height": 34
        },
        "outputId": "b77ee0c0-da4a-40b1-849e-d87bd762240a"
      },
      "source": [
        "424/14"
      ],
      "execution_count": 46,
      "outputs": [
        {
          "output_type": "execute_result",
          "data": {
            "text/plain": [
              "30.285714285714285"
            ]
          },
          "metadata": {
            "tags": []
          },
          "execution_count": 46
        }
      ]
    },
    {
      "cell_type": "code",
      "metadata": {
        "id": "myCscpd7m8tE",
        "colab_type": "code",
        "colab": {}
      },
      "source": [
        "#67 beats per minute measured heart rate"
      ],
      "execution_count": 0,
      "outputs": []
    },
    {
      "cell_type": "code",
      "metadata": {
        "id": "Gpqs0LU0nxIm",
        "colab_type": "code",
        "colab": {
          "base_uri": "https://localhost:8080/",
          "height": 34
        },
        "outputId": "7970cc26-42d4-4bdc-de96-6842d04256e9"
      },
      "source": [
        "67/60"
      ],
      "execution_count": 48,
      "outputs": [
        {
          "output_type": "execute_result",
          "data": {
            "text/plain": [
              "1.1166666666666667"
            ]
          },
          "metadata": {
            "tags": []
          },
          "execution_count": 48
        }
      ]
    },
    {
      "cell_type": "code",
      "metadata": {
        "id": "QLxS0Yl_nydz",
        "colab_type": "code",
        "colab": {
          "base_uri": "https://localhost:8080/",
          "height": 34
        },
        "outputId": "fca347ed-93af-4ffb-c418-3e0872a64224"
      },
      "source": [
        "(424*60)/(14*67)"
      ],
      "execution_count": 49,
      "outputs": [
        {
          "output_type": "execute_result",
          "data": {
            "text/plain": [
              "27.121535181236673"
            ]
          },
          "metadata": {
            "tags": []
          },
          "execution_count": 49
        }
      ]
    },
    {
      "cell_type": "code",
      "metadata": {
        "id": "kEPGV-bWoECq",
        "colab_type": "code",
        "colab": {
          "base_uri": "https://localhost:8080/",
          "height": 34
        },
        "outputId": "e66587ce-83a6-4516-b6ec-08fdd02721a5"
      },
      "source": [
        "cap"
      ],
      "execution_count": 50,
      "outputs": [
        {
          "output_type": "execute_result",
          "data": {
            "text/plain": [
              "<VideoCapture 0x7fec39395270>"
            ]
          },
          "metadata": {
            "tags": []
          },
          "execution_count": 50
        }
      ]
    },
    {
      "cell_type": "code",
      "metadata": {
        "id": "-PvyLVCSwzCL",
        "colab_type": "code",
        "colab": {}
      },
      "source": [
        ""
      ],
      "execution_count": 0,
      "outputs": []
    }
  ]
}