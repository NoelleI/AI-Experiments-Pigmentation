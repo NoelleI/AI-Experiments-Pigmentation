{
  "nbformat": 4,
  "nbformat_minor": 0,
  "metadata": {
    "colab": {
      "name": "redness.ipynb",
      "provenance": [],
      "authorship_tag": "ABX9TyPzkYgVyHZ9QGgzUoIgrNUr",
      "include_colab_link": true
    },
    "kernelspec": {
      "name": "python3",
      "display_name": "Python 3"
    }
  },
  "cells": [
    {
      "cell_type": "markdown",
      "metadata": {
        "id": "view-in-github",
        "colab_type": "text"
      },
      "source": [
        "<a href=\"https://colab.research.google.com/github/NoelleI/AI-Experiments-Pigmentation/blob/master/redness.ipynb\" target=\"_parent\"><img src=\"https://colab.research.google.com/assets/colab-badge.svg\" alt=\"Open In Colab\"/></a>"
      ]
    },
    {
      "cell_type": "code",
      "metadata": {
        "id": "_TjczdQjEdMw",
        "colab_type": "code",
        "outputId": "18e54a21-97a8-4663-9400-0d1dc0b5e00d",
        "colab": {
          "base_uri": "https://localhost:8080/",
          "height": 134
        }
      },
      "source": [
        "!git clone https://github.com/NoelleI/Pigmentation.git"
      ],
      "execution_count": 1,
      "outputs": [
        {
          "output_type": "stream",
          "text": [
            "Cloning into 'Pigmentation'...\n",
            "remote: Enumerating objects: 145, done.\u001b[K\n",
            "remote: Counting objects: 100% (145/145), done.\u001b[K\n",
            "remote: Compressing objects: 100% (138/138), done.\u001b[K\n",
            "remote: Total 725 (delta 44), reused 71 (delta 5), pack-reused 580\n",
            "Receiving objects: 100% (725/725), 91.22 MiB | 28.89 MiB/s, done.\n",
            "Resolving deltas: 100% (249/249), done.\n"
          ],
          "name": "stdout"
        }
      ]
    },
    {
      "cell_type": "code",
      "metadata": {
        "id": "sOy_90rrEnXe",
        "colab_type": "code",
        "colab": {}
      },
      "source": [
        "import numpy as np\n",
        "from scipy import ndimage, misc\n",
        "import re\n",
        "import os\n",
        "from datetime import datetime\n",
        "import matplotlib.pyplot as plt\n",
        "import skimage\n",
        "\n",
        "\n",
        "pigs = []\n",
        "filenames_dict = {}\n",
        "str = \"./Pigmentation/Pigmentation_photos/Experiment 2/Spot 1\"    #photo directory on cloned repository for experimental pigmentation data\n",
        "\n",
        "\n",
        "for root, dirnames, filenames in os.walk(str): \n",
        "    #print(filenames)\n",
        "    for filename in filenames:\n",
        "           # print(filename, \"\\n\")\n",
        "      #if re.search('d*[^{r|f}].jpg', filename):\n",
        "            n =  re.match(\"(.*)(2019)(\\d*_\\d*)_(.*)\", filename)\n",
        "            if n:\n",
        "              key = n.group(3)\n",
        "\n",
        "              key = datetime.strptime(key, '%m%d_%H%M%S')\n",
        "           # print(key, \" \")\n",
        "           # print(filename, \"\\n\")\n",
        "            #print(os.path.join(root, filename), \"\\n\")\n",
        "              filenames_dict.update({key: os.path.join(root, filename)})\n",
        "            #print(filenames_dict, \"\\n\\n\")\n",
        "#print(filenames_dict.keys(),\"\\n\")\n",
        "for key in sorted(filenames_dict.keys()):\n",
        "  #print(key,filenames_dict[key], \"\\n\")\n",
        "  image = plt.imread(filenames_dict[key])\n",
        "  #image = skimage.transform.resize(image, (192,256,3))  \n",
        "  \n",
        "  pigs+= [image]\n",
        "  \n",
        "  \n",
        "pigs = np.asarray(pigs)"
      ],
      "execution_count": 0,
      "outputs": []
    },
    {
      "cell_type": "code",
      "metadata": {
        "id": "ZRCArkx-FqWE",
        "colab_type": "code",
        "outputId": "fe0b00fa-0b25-49dd-a42b-7b21b79c04ec",
        "colab": {
          "base_uri": "https://localhost:8080/",
          "height": 319
        }
      },
      "source": [
        "filenames"
      ],
      "execution_count": 46,
      "outputs": [
        {
          "output_type": "execute_result",
          "data": {
            "text/plain": [
              "['1_F_43_XX_25_20190228_214705_FA101129_0100_SPOTS_57_SPOTS#01_S_UnitedStates_CND_TRXXURXX_FR57.jpg',\n",
              " '1_F_43_XX_25_20190226_224523_FA101129_0100_SPOTS_24_SPOTS#01_S_UnitedStates_CND_TRXXURXX_FR24.jpg',\n",
              " '1_F_43_XX_25_20190223_170715_FA101129_0100_SPOTS_XX_SPOTS#01_S_UnitedStates_CND_XX.jpg',\n",
              " '1_F_43_XX_25_20190225_100933_FA101129_0100_SPOTS_71_SPOTS#01_S_UnitedStates_CND_TRXXURXX_FR71.jpg',\n",
              " '1_F_43_XX_25_20190306_230513_FA101129_0100_SPOTS_64_SPOTS#01_S_UnitedStates_CND_TRXXURXX_FR64.jpg',\n",
              " '1_F_43_XX_25_20190310_203414_FA101129_0100_SPOTS_60_SPOTS#01_S_UnitedStates_CND_TRXXURXX_FR60.jpg',\n",
              " '1_F_43_XX_25_20190227_212058_FA101129_0100_SPOTS_51_SPOTS#01_S_UnitedStates_CND_TRXXURXX_FR51.jpg',\n",
              " '1_F_43_XX_25_20190301_083613_FA101129_0100_SPOTS_81_SPOTS#01_S_UnitedStates_CND_TRXXURXX_FR81.jpg',\n",
              " '1_F_43_XX_25_20190228_083804_FA101129_0100_SPOTS_74_SPOTS#01_S_UnitedStates_CND_TRXXURXX_FR74.jpg',\n",
              " '1_F_43_XX_25_20190310_104002_FA101129_0100_SPOTS_86_SPOTS#01_S_UnitedStates_CND_TRXXURXX_FR86.jpg',\n",
              " '1_F_43_XX_25_20190304_205823_FA101129_0100_SPOTS_52_SPOTS#01_S_UnitedStates_CND_TRXXURXX_FR52.jpg',\n",
              " '1_F_43_XX_25_20190307_083311_FA101129_0100_SPOTS_58_SPOTS#01_S_UnitedStates_CND_TRXXURXX_FR58.jpg',\n",
              " '1_F_43_XX_25_20190303_224859_FA101129_0100_SPOTS_57_SPOTS#01_S_UnitedStates_CND_TRXXURXX_FR57.jpg',\n",
              " '1_F_43_XX_25_20190226_094300_FA101129_0100_SPOTS_74_SPOTS#01_S_UnitedStates_CND_TRXXURXX_FR74.jpg',\n",
              " '1_F_43_XX_25_20190320_072610_FA101129_0100_SPOTS_58_SPOTS#01_S_UnitedStates_CND_TRXXURXX_FR58.jpg',\n",
              " '1_F_43_XX_25_20190319_085424_FA101129_0100_SPOTS_57_SPOTS#01_S_UnitedStates_CND_TRXXURXX_FR57.jpg',\n",
              " '1_F_43_XX_25_20190311_101537_FA101129_0100_SPOTS_67_SPOTS#01_S_UnitedStates_CND_TRXXURXX_FR67.jpg',\n",
              " '1_F_43_XX_25_20190227_073748_FA101129_0100_SPOTS_58_SPOTS#01_S_UnitedStates_CND_TRXXURXX_FR58.jpg']"
            ]
          },
          "metadata": {
            "tags": []
          },
          "execution_count": 46
        }
      ]
    },
    {
      "cell_type": "code",
      "metadata": {
        "id": "vzhFKdiIF2kp",
        "colab_type": "code",
        "outputId": "c8f5ad15-448a-4c8c-96cf-03f49ed2f857",
        "colab": {
          "base_uri": "https://localhost:8080/",
          "height": 34
        }
      },
      "source": [
        "len(pigs)"
      ],
      "execution_count": 47,
      "outputs": [
        {
          "output_type": "execute_result",
          "data": {
            "text/plain": [
              "18"
            ]
          },
          "metadata": {
            "tags": []
          },
          "execution_count": 47
        }
      ]
    },
    {
      "cell_type": "code",
      "metadata": {
        "id": "0SnQ0cEXGFg7",
        "colab_type": "code",
        "outputId": "163d3ad7-42b8-4ea6-9a39-6c835997d85b",
        "colab": {
          "base_uri": "https://localhost:8080/",
          "height": 34
        }
      },
      "source": [
        "pigs.shape"
      ],
      "execution_count": 48,
      "outputs": [
        {
          "output_type": "execute_result",
          "data": {
            "text/plain": [
              "(18, 480, 640, 3)"
            ]
          },
          "metadata": {
            "tags": []
          },
          "execution_count": 48
        }
      ]
    },
    {
      "cell_type": "code",
      "metadata": {
        "id": "Gv9gNCYvJH3r",
        "colab_type": "code",
        "colab": {}
      },
      "source": [
        "import pandas as pd\n",
        "from scipy import stats\n",
        "#del str\n",
        "def measure_score(pigs): \n",
        "  \n",
        "    score = []\n",
        "\n",
        "    i = 0\n",
        "    \n",
        "\n",
        "    for pig in pigs:\n",
        "       \n",
        "        g = pig[:,:,1].reshape(-1)  #- 3*imagen[:,:,1].reshape(-1)/8\n",
        "        b = pig[:,:,2].reshape(-1)\n",
        "            \n",
        "\n",
        "        if i > 0:\n",
        "\n",
        "          mg = np.min(g)               ###may need to scroll over earlier days ###\n",
        "          ag = np.mean(g)\n",
        "          #sg = stats.skew(g)\n",
        "\n",
        "          mg_last = np.min(g_last)\n",
        "          ag_last = np.mean(g_last)\n",
        "          #sg = stats.skew(g_last)\n",
        " \n",
        "          mb = np.min(b)\n",
        "          ab = np.mean(b)\n",
        "          \n",
        "          mb_last = np.min(b_last)\n",
        "          ab_last = np.mean(b_last)\n",
        "\n",
        "          delba = np.abs(ab-ab_last)\n",
        "          delbm = np.abs(mb - mb_last)\n",
        "\n",
        "          delga = np.abs(ag -ag_last)\n",
        "          delgm = np.abs(mg - mg_last)\n",
        "\n",
        "          \n",
        "\n",
        "          if delba/delga >= (1*10**3.25)/(1*10**3.1):\n",
        "            print(\"here\", i)\n",
        "            sca = 0\n",
        "          else:\n",
        "            sca = delga\n",
        "\n",
        "          if delbm/delgm >= (1*10**3.25)/(1*10**3.1):\n",
        "           \n",
        "            scm = 0\n",
        "          else:\n",
        "            scm = delgm\n",
        "\n",
        "          sc = (sca + scm)/2\n",
        "\n",
        "          \n",
        "\n",
        "\n",
        "\n",
        "\n",
        "            \n",
        "          \n",
        "\n",
        "        else:\n",
        "          sc = 0\n",
        "          g_last = g\n",
        "          b_last = b\n",
        "          print(\"here\")\n",
        "\n",
        "        \n",
        "       \n",
        "        score += [sc]\n",
        "        \n",
        "        i += 1\n",
        "       \n",
        "      \n",
        "        \n",
        "    \n",
        "    green_score = np.array(score)\n",
        "    \n",
        "    return(green_score)\n",
        "        "
      ],
      "execution_count": 0,
      "outputs": []
    },
    {
      "cell_type": "code",
      "metadata": {
        "id": "oMNh6vMFMnc7",
        "colab_type": "code",
        "colab": {
          "base_uri": "https://localhost:8080/",
          "height": 118
        },
        "outputId": "5ccac326-a3e9-4800-8a8d-397983a2d57f"
      },
      "source": [
        "green_score = measure_score(pigs)"
      ],
      "execution_count": 86,
      "outputs": [
        {
          "output_type": "stream",
          "text": [
            "here\n",
            "here 2\n",
            "here 9\n",
            "here 10\n"
          ],
          "name": "stdout"
        },
        {
          "output_type": "stream",
          "text": [
            "/usr/local/lib/python3.6/dist-packages/ipykernel_launcher.py:49: RuntimeWarning: overflow encountered in ubyte_scalars\n",
            "/usr/local/lib/python3.6/dist-packages/ipykernel_launcher.py:46: RuntimeWarning: overflow encountered in ubyte_scalars\n"
          ],
          "name": "stderr"
        }
      ]
    },
    {
      "cell_type": "code",
      "metadata": {
        "id": "3Y61nBzgfSkV",
        "colab_type": "code",
        "colab": {
          "base_uri": "https://localhost:8080/",
          "height": 34
        },
        "outputId": "36ed5d66-bbcf-46f0-d532-7ae6902f078e"
      },
      "source": [
        "(1*10**3.25)/(1*10**3.1)"
      ],
      "execution_count": 87,
      "outputs": [
        {
          "output_type": "execute_result",
          "data": {
            "text/plain": [
              "1.412537544622754"
            ]
          },
          "metadata": {
            "tags": []
          },
          "execution_count": 87
        }
      ]
    },
    {
      "cell_type": "code",
      "metadata": {
        "id": "avAyBNN5bzhj",
        "colab_type": "code",
        "colab": {}
      },
      "source": [
        ""
      ],
      "execution_count": 0,
      "outputs": []
    },
    {
      "cell_type": "code",
      "metadata": {
        "id": "L0QKTIXyVxWf",
        "colab_type": "code",
        "outputId": "4e144185-d3f7-4b86-c4f0-1ed6bc1668be",
        "colab": {
          "base_uri": "https://localhost:8080/",
          "height": 298
        }
      },
      "source": [
        "\n",
        "plt.plot(green_score, 'g-')\n",
        "\n",
        "\n",
        "plt.title('Experiment 2, Spot 1')\n",
        "\n"
      ],
      "execution_count": 88,
      "outputs": [
        {
          "output_type": "execute_result",
          "data": {
            "text/plain": [
              "Text(0.5, 1.0, 'Experiment 2, Spot 1')"
            ]
          },
          "metadata": {
            "tags": []
          },
          "execution_count": 88
        },
        {
          "output_type": "display_data",
          "data": {
            "image/png": "[encoded data removed]",
            "text/plain": [
              "<Figure size 432x288 with 1 Axes>"
            ]
          },
          "metadata": {
            "tags": []
          }
        }
      ]
    },
    {
      "cell_type": "code",
      "metadata": {
        "id": "gZdNmkSCXWG_",
        "colab_type": "code",
        "colab": {}
      },
      "source": [
        "#del str\n",
        "pigs = []\n",
        "filenames_dict_pigs = {}\n",
        "str = \"./Pigmentation/Pigmentation_photos/Experiment 1/Spot 4\"    #photo directory on cloned repository for experimental pigmentation data\n",
        "\n",
        "\n",
        "for root, dirnames, filenames in os.walk(str): \n",
        "    #print(filenames)\n",
        "    for filename in filenames:   ####remember to update in order to avoid masks###\n",
        "           # print(filename, \"\\n\")\n",
        "      #if re.search('d*[^{r|f}].jpg', filename):\n",
        "            #n =  re.match(\"(.*)(2019)(\\d*_\\d*)_(.*)\", filename)\n",
        "            #key = n.group(3)\n",
        "\n",
        "            #key = datetime.strptime(key, '%m%d_%H%M%S')\n",
        "           # print(key, \" \")\n",
        "           # print(filename, \"\\n\")\n",
        "            #print(os.path.join(root, filename), \"\\n\")\n",
        "            #filenames_dict.update({key: os.path.join(root, filename)})\n",
        "            #print(filenames_dict, \"\\n\\n\")\n",
        "            n = re.match(\"(\\d*)\", filename)\n",
        "            #print(n.group(), \" \")\n",
        "            #print(filename, \"\\n\")\n",
        "            #print(os.path.join(root, filename), \"\\n\")\n",
        "            filenames_dict_pigs.update({int(n.group()): [os.path.join(root, filename), filename]})\n",
        "            #print(filenames_dict, \"\\n\\n\")\n",
        "#print(filenames_dict.keys(),\"\\n\")\n",
        "for key in sorted(filenames_dict_pigs.keys()):\n",
        "  #print(key,filenames_dict[key], \"\\n\")\n",
        "  image = plt.imread(filenames_dict_pigs[key][0])\n",
        "  \n",
        "  pigs+= [image]\n",
        "  \n",
        "  \n",
        "pigs = np.asarray(pigs)"
      ],
      "execution_count": 0,
      "outputs": []
    },
    {
      "cell_type": "code",
      "metadata": {
        "id": "i0kzi7y_Yf5R",
        "colab_type": "code",
        "colab": {
          "base_uri": "https://localhost:8080/",
          "height": 202
        },
        "outputId": "674b6c91-e1bb-4950-fd4f-c88694aae634"
      },
      "source": [
        "del str\n",
        "green_score = 255*measure_score(pigs)\n"
      ],
      "execution_count": 90,
      "outputs": [
        {
          "output_type": "stream",
          "text": [
            "here\n",
            "here 1\n",
            "here 2\n",
            "here 3\n",
            "here 10\n",
            "here 14\n",
            "here 15\n",
            "here 19\n",
            "here 20\n",
            "here 26\n"
          ],
          "name": "stdout"
        },
        {
          "output_type": "stream",
          "text": [
            "/usr/local/lib/python3.6/dist-packages/ipykernel_launcher.py:59: RuntimeWarning: divide by zero encountered in float_scalars\n"
          ],
          "name": "stderr"
        }
      ]
    },
    {
      "cell_type": "code",
      "metadata": {
        "id": "v6C2gS0hYsew",
        "colab_type": "code",
        "outputId": "d71d106c-8748-488f-fcbb-a50a3f2abb4e",
        "colab": {
          "base_uri": "https://localhost:8080/",
          "height": 298
        }
      },
      "source": [
        "\n",
        "plt.plot(green_score, 'g-')\n",
        "\n",
        "plt.title('Experiment 1, Spot 4')"
      ],
      "execution_count": 91,
      "outputs": [
        {
          "output_type": "execute_result",
          "data": {
            "text/plain": [
              "Text(0.5, 1.0, 'Experiment 1, Spot 4')"
            ]
          },
          "metadata": {
            "tags": []
          },
          "execution_count": 91
        },
        {
          "output_type": "display_data",
          "data": {
            "image/png": "[encoded data removed]",
            "text/plain": [
              "<Figure size 432x288 with 1 Axes>"
            ]
          },
          "metadata": {
            "tags": []
          }
        }
      ]
    },
    {
      "cell_type": "code",
      "metadata": {
        "id": "pA1jdisIY6Hh",
        "colab_type": "code",
        "colab": {}
      },
      "source": [
        "pigs = []\n",
        "filenames_dict = {}\n",
        "str = \"./Pigmentation/Pigmentation_photos/Experiment 2/Spot 4\"    #photo directory on cloned repository for experimental pigmentation data\n",
        "\n",
        "\n",
        "for root, dirnames, filenames in os.walk(str): \n",
        "    #print(filenames)\n",
        "    for filename in filenames:\n",
        "           # print(filename, \"\\n\")\n",
        "      #if re.search('d*[^{r|f}].jpg', filename):\n",
        "            n =  re.match(\"(.*)(2019)(\\d*_\\d*)_(.*)\", filename)\n",
        "            if n:\n",
        "              key = n.group(3)\n",
        "\n",
        "              key = datetime.strptime(key, '%m%d_%H%M%S')\n",
        "           # print(key, \" \")\n",
        "           # print(filename, \"\\n\")\n",
        "            #print(os.path.join(root, filename), \"\\n\")\n",
        "              filenames_dict.update({key: os.path.join(root, filename)})\n",
        "            #print(filenames_dict, \"\\n\\n\")\n",
        "#print(filenames_dict.keys(),\"\\n\")\n",
        "for key in sorted(filenames_dict.keys()):\n",
        "  #print(key,filenames_dict[key], \"\\n\")\n",
        "  image = plt.imread(filenames_dict[key])\n",
        "  #image = skimage.transform.resize(image, (192,256,3))  \n",
        "  \n",
        "  pigs+= [image]\n",
        "  \n",
        "  \n",
        "pigs = np.asarray(pigs)"
      ],
      "execution_count": 0,
      "outputs": []
    },
    {
      "cell_type": "code",
      "metadata": {
        "id": "XNg9Ygz3aIqy",
        "colab_type": "code",
        "colab": {}
      },
      "source": [
        "del str\n",
        "green_score = measure_score(pigs)"
      ],
      "execution_count": 0,
      "outputs": []
    },
    {
      "cell_type": "code",
      "metadata": {
        "id": "XKDbbeJDaOfG",
        "colab_type": "code",
        "outputId": "0592b1b7-b8e8-40b2-e41a-e9d40d8b0673",
        "colab": {
          "base_uri": "https://localhost:8080/",
          "height": 298
        }
      },
      "source": [
        "\n",
        "plt.plot(green_score, 'g-')\n",
        "\n",
        "plt.title('Experiment 2, Spot 4')"
      ],
      "execution_count": 16,
      "outputs": [
        {
          "output_type": "execute_result",
          "data": {
            "text/plain": [
              "Text(0.5, 1.0, 'Experiment 2, Spot 4')"
            ]
          },
          "metadata": {
            "tags": []
          },
          "execution_count": 16
        },
        {
          "output_type": "display_data",
          "data": {
            "image/png": "[encoded data removed]",
            "text/plain": [
              "<Figure size 432x288 with 1 Axes>"
            ]
          },
          "metadata": {
            "tags": []
          }
        }
      ]
    },
    {
      "cell_type": "code",
      "metadata": {
        "id": "UFA5AXNbaVvH",
        "colab_type": "code",
        "colab": {}
      },
      "source": [
        "pigs = []\n",
        "filenames_dict = {}\n",
        "str = \"./Pigmentation/Pigmentation_photos/Experiment 2/Spot 2\"    #photo directory on cloned repository for experimental pigmentation data\n",
        "\n",
        "\n",
        "for root, dirnames, filenames in os.walk(str): \n",
        "    #print(filenames)\n",
        "    for filename in filenames:\n",
        "           # print(filename, \"\\n\")\n",
        "      #if re.search('d*[^{r|f}].jpg', filename):\n",
        "            n =  re.match(\"(.*)(2019)(\\d*_\\d*)_(.*)\", filename)\n",
        "            if n:\n",
        "              key = n.group(3)\n",
        "\n",
        "              key = datetime.strptime(key, '%m%d_%H%M%S')\n",
        "           # print(key, \" \")\n",
        "           # print(filename, \"\\n\")\n",
        "            #print(os.path.join(root, filename), \"\\n\")\n",
        "              filenames_dict.update({key: os.path.join(root, filename)})\n",
        "            #print(filenames_dict, \"\\n\\n\")\n",
        "#print(filenames_dict.keys(),\"\\n\")\n",
        "for key in sorted(filenames_dict.keys()):\n",
        "  #print(key,filenames_dict[key], \"\\n\")\n",
        "  image = plt.imread(filenames_dict[key])\n",
        "  #image = skimage.transform.resize(image, (192,256,3))  \n",
        "  \n",
        "  pigs+= [image]\n",
        "  \n",
        "  \n",
        "pigs = np.asarray(pigs)"
      ],
      "execution_count": 0,
      "outputs": []
    },
    {
      "cell_type": "code",
      "metadata": {
        "id": "_XR8HBTTf-o2",
        "colab_type": "code",
        "colab": {}
      },
      "source": [
        "red, green, blue = measure_min_colours(pigs)"
      ],
      "execution_count": 0,
      "outputs": []
    },
    {
      "cell_type": "code",
      "metadata": {
        "id": "N8q591cbf_6U",
        "colab_type": "code",
        "outputId": "6977cd12-4edf-4eb9-ea51-c794c736135b",
        "colab": {
          "base_uri": "https://localhost:8080/",
          "height": 298
        }
      },
      "source": [
        "plt.plot(red, 'r-')\n",
        "plt.plot(green, 'g-')\n",
        "plt.plot(blue, 'b-')\n",
        "plt.title('Experiment 2, Spot 2')"
      ],
      "execution_count": 0,
      "outputs": [
        {
          "output_type": "execute_result",
          "data": {
            "text/plain": [
              "Text(0.5, 1.0, 'Experiment 2, Spot 2')"
            ]
          },
          "metadata": {
            "tags": []
          },
          "execution_count": 149
        },
        {
          "output_type": "display_data",
          "data": {
            "image/png": "[encoded data removed]",
            "text/plain": [
              "<Figure size 432x288 with 1 Axes>"
            ]
          },
          "metadata": {
            "tags": []
          }
        }
      ]
    },
    {
      "cell_type": "code",
      "metadata": {
        "id": "QAj25gSfgKsL",
        "colab_type": "code",
        "outputId": "fc4d7cb0-e4c8-4ce6-ccae-653475904ed3",
        "colab": {
          "base_uri": "https://localhost:8080/",
          "height": 50
        }
      },
      "source": [
        "red"
      ],
      "execution_count": 0,
      "outputs": [
        {
          "output_type": "execute_result",
          "data": {
            "text/plain": [
              "array([ 92,  88,  88, 104,  81,  71,  79,  82,  84,  86,  86,  93,  97,\n",
              "        82,  97,  70,  93,  84], dtype=uint8)"
            ]
          },
          "metadata": {
            "tags": []
          },
          "execution_count": 150
        }
      ]
    },
    {
      "cell_type": "code",
      "metadata": {
        "id": "DLwSE_ePgNcK",
        "colab_type": "code",
        "colab": {}
      },
      "source": [
        ""
      ],
      "execution_count": 0,
      "outputs": []
    }
  ]
}