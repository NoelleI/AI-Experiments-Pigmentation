{
  "nbformat": 4,
  "nbformat_minor": 0,
  "metadata": {
    "colab": {
      "name": "redness.ipynb",
      "provenance": [],
      "authorship_tag": "ABX9TyOxSWtejw1BwTT8Gx7MHHSm",
      "include_colab_link": true
    },
    "kernelspec": {
      "name": "python3",
      "display_name": "Python 3"
    }
  },
  "cells": [
    {
      "cell_type": "markdown",
      "metadata": {
        "id": "view-in-github",
        "colab_type": "text"
      },
      "source": [
        "<a href=\"https://colab.research.google.com/github/NoelleI/AI-Experiments-Pigmentation/blob/master/redness.ipynb\" target=\"_parent\"><img src=\"https://colab.research.google.com/assets/colab-badge.svg\" alt=\"Open In Colab\"/></a>"
      ]
    },
    {
      "cell_type": "code",
      "metadata": {
        "id": "_TjczdQjEdMw",
        "colab_type": "code",
        "outputId": "1ee5581d-21c3-4037-986e-c46848dae922",
        "colab": {
          "base_uri": "https://localhost:8080/",
          "height": 134
        }
      },
      "source": [
        "!git clone https://github.com/NoelleI/Pigmentation.git"
      ],
      "execution_count": 10,
      "outputs": [
        {
          "output_type": "stream",
          "text": [
            "Cloning into 'Pigmentation'...\n",
            "remote: Enumerating objects: 145, done.\u001b[K\n",
            "remote: Counting objects: 100% (145/145), done.\u001b[K\n",
            "remote: Compressing objects: 100% (138/138), done.\u001b[K\n",
            "remote: Total 725 (delta 44), reused 71 (delta 5), pack-reused 580\u001b[K\n",
            "Receiving objects: 100% (725/725), 91.22 MiB | 28.06 MiB/s, done.\n",
            "Resolving deltas: 100% (249/249), done.\n"
          ],
          "name": "stdout"
        }
      ]
    },
    {
      "cell_type": "code",
      "metadata": {
        "id": "sOy_90rrEnXe",
        "colab_type": "code",
        "colab": {}
      },
      "source": [
        "import numpy as np\n",
        "from scipy import ndimage, misc\n",
        "import re\n",
        "import os\n",
        "from datetime import datetime\n",
        "import matplotlib.pyplot as plt\n",
        "import skimage\n",
        "\n",
        "\n",
        "pigs = []\n",
        "filenames_dict = {}\n",
        "str = \"./Pigmentation/Pigmentation_photos/Experiment 2/Spot 1\"    #photo directory on cloned repository for experimental pigmentation data\n",
        "\n",
        "\n",
        "for root, dirnames, filenames in os.walk(str): \n",
        "    #print(filenames)\n",
        "    for filename in filenames:\n",
        "           # print(filename, \"\\n\")\n",
        "      #if re.search('d*[^{r|f}].jpg', filename):\n",
        "            n =  re.match(\"(.*)(2019)(\\d*_\\d*)_(.*)\", filename)\n",
        "            if n:\n",
        "              key = n.group(3)\n",
        "\n",
        "              key = datetime.strptime(key, '%m%d_%H%M%S')\n",
        "           # print(key, \" \")\n",
        "           # print(filename, \"\\n\")\n",
        "            #print(os.path.join(root, filename), \"\\n\")\n",
        "              filenames_dict.update({key: os.path.join(root, filename)})\n",
        "            #print(filenames_dict, \"\\n\\n\")\n",
        "#print(filenames_dict.keys(),\"\\n\")\n",
        "for key in sorted(filenames_dict.keys()):\n",
        "  #print(key,filenames_dict[key], \"\\n\")\n",
        "  image = plt.imread(filenames_dict[key])\n",
        "  #image = skimage.transform.resize(image, (192,256,3))  \n",
        "  \n",
        "  pigs+= [image]\n",
        "  \n",
        "  \n",
        "pigs = np.asarray(pigs)"
      ],
      "execution_count": 0,
      "outputs": []
    },
    {
      "cell_type": "code",
      "metadata": {
        "id": "ZRCArkx-FqWE",
        "colab_type": "code",
        "outputId": "4bdfba73-df07-4f47-cce0-30cb57b40517",
        "colab": {
          "base_uri": "https://localhost:8080/",
          "height": 319
        }
      },
      "source": [
        "filenames"
      ],
      "execution_count": 4,
      "outputs": [
        {
          "output_type": "execute_result",
          "data": {
            "text/plain": [
              "['1_F_43_XX_25_20190228_214705_FA101129_0100_SPOTS_57_SPOTS#01_S_UnitedStates_CND_TRXXURXX_FR57.jpg',\n",
              " '1_F_43_XX_25_20190226_224523_FA101129_0100_SPOTS_24_SPOTS#01_S_UnitedStates_CND_TRXXURXX_FR24.jpg',\n",
              " '1_F_43_XX_25_20190223_170715_FA101129_0100_SPOTS_XX_SPOTS#01_S_UnitedStates_CND_XX.jpg',\n",
              " '1_F_43_XX_25_20190225_100933_FA101129_0100_SPOTS_71_SPOTS#01_S_UnitedStates_CND_TRXXURXX_FR71.jpg',\n",
              " '1_F_43_XX_25_20190306_230513_FA101129_0100_SPOTS_64_SPOTS#01_S_UnitedStates_CND_TRXXURXX_FR64.jpg',\n",
              " '1_F_43_XX_25_20190310_203414_FA101129_0100_SPOTS_60_SPOTS#01_S_UnitedStates_CND_TRXXURXX_FR60.jpg',\n",
              " '1_F_43_XX_25_20190227_212058_FA101129_0100_SPOTS_51_SPOTS#01_S_UnitedStates_CND_TRXXURXX_FR51.jpg',\n",
              " '1_F_43_XX_25_20190301_083613_FA101129_0100_SPOTS_81_SPOTS#01_S_UnitedStates_CND_TRXXURXX_FR81.jpg',\n",
              " '1_F_43_XX_25_20190228_083804_FA101129_0100_SPOTS_74_SPOTS#01_S_UnitedStates_CND_TRXXURXX_FR74.jpg',\n",
              " '1_F_43_XX_25_20190310_104002_FA101129_0100_SPOTS_86_SPOTS#01_S_UnitedStates_CND_TRXXURXX_FR86.jpg',\n",
              " '1_F_43_XX_25_20190304_205823_FA101129_0100_SPOTS_52_SPOTS#01_S_UnitedStates_CND_TRXXURXX_FR52.jpg',\n",
              " '1_F_43_XX_25_20190307_083311_FA101129_0100_SPOTS_58_SPOTS#01_S_UnitedStates_CND_TRXXURXX_FR58.jpg',\n",
              " '1_F_43_XX_25_20190303_224859_FA101129_0100_SPOTS_57_SPOTS#01_S_UnitedStates_CND_TRXXURXX_FR57.jpg',\n",
              " '1_F_43_XX_25_20190226_094300_FA101129_0100_SPOTS_74_SPOTS#01_S_UnitedStates_CND_TRXXURXX_FR74.jpg',\n",
              " '1_F_43_XX_25_20190320_072610_FA101129_0100_SPOTS_58_SPOTS#01_S_UnitedStates_CND_TRXXURXX_FR58.jpg',\n",
              " '1_F_43_XX_25_20190319_085424_FA101129_0100_SPOTS_57_SPOTS#01_S_UnitedStates_CND_TRXXURXX_FR57.jpg',\n",
              " '1_F_43_XX_25_20190311_101537_FA101129_0100_SPOTS_67_SPOTS#01_S_UnitedStates_CND_TRXXURXX_FR67.jpg',\n",
              " '1_F_43_XX_25_20190227_073748_FA101129_0100_SPOTS_58_SPOTS#01_S_UnitedStates_CND_TRXXURXX_FR58.jpg']"
            ]
          },
          "metadata": {
            "tags": []
          },
          "execution_count": 4
        }
      ]
    },
    {
      "cell_type": "code",
      "metadata": {
        "id": "vzhFKdiIF2kp",
        "colab_type": "code",
        "outputId": "9d3b0a19-99aa-4b74-b6d9-9ee1929f7aa3",
        "colab": {
          "base_uri": "https://localhost:8080/",
          "height": 34
        }
      },
      "source": [
        "len(pigs)"
      ],
      "execution_count": 5,
      "outputs": [
        {
          "output_type": "execute_result",
          "data": {
            "text/plain": [
              "18"
            ]
          },
          "metadata": {
            "tags": []
          },
          "execution_count": 5
        }
      ]
    },
    {
      "cell_type": "code",
      "metadata": {
        "id": "0SnQ0cEXGFg7",
        "colab_type": "code",
        "outputId": "8c4acec7-4f0a-4917-b150-98dcd16ff827",
        "colab": {
          "base_uri": "https://localhost:8080/",
          "height": 34
        }
      },
      "source": [
        "pigs.shape"
      ],
      "execution_count": 6,
      "outputs": [
        {
          "output_type": "execute_result",
          "data": {
            "text/plain": [
              "(18, 480, 640, 3)"
            ]
          },
          "metadata": {
            "tags": []
          },
          "execution_count": 6
        }
      ]
    },
    {
      "cell_type": "code",
      "metadata": {
        "id": "Gv9gNCYvJH3r",
        "colab_type": "code",
        "colab": {}
      },
      "source": [
        "##Note that this has been adapted in an ad-hoc way for comparison of Exp 2 to Exp 1 spot 4\n",
        "\n",
        "\n",
        "import pandas as pd\n",
        "from scipy import stats\n",
        "#del str\n",
        "def measure_score(pigs): \n",
        "  \n",
        "    score = []\n",
        "\n",
        "    i = 0\n",
        "    \n",
        "\n",
        "    for pig in pigs:\n",
        "        print(i, \"\\n\")\n",
        "        g = pig[:,:,1].reshape(-1)  #- 3*imagen[:,:,1].reshape(-1)/8\n",
        "        b = pig[:,:,2].reshape(-1)\n",
        "            \n",
        "\n",
        "        if i > 0:\n",
        "\n",
        "          mg = np.min(g)               ###may need to scroll over earlier days ###\n",
        "          ag = np.mean(g)\n",
        "          sg = stats.skew(g)\n",
        "\n",
        "          mg_last = np.min(g_last)\n",
        "          ag_last = np.mean(g_last)\n",
        "          sgl = stats.skew(g_last)\n",
        " \n",
        "          mb = np.min(b)\n",
        "          ab = np.mean(b)\n",
        "          \n",
        "          mb_last = np.min(b_last)\n",
        "          ab_last = np.mean(b_last)\n",
        "\n",
        "          delbaa = np.abs(ab-ab_last)\n",
        "          delbma = np.abs(sg*mb - sgl*mb_last)\n",
        "\n",
        "          delgaa = np.abs(ag -ag_last)\n",
        "          delgma = np.abs(sg*mg - sgl*mg_last)\n",
        "\n",
        "          delba = ab-ab_last\n",
        "          delbm = sg*mb - sgl*mb_last\n",
        "\n",
        "          delga = ag -ag_last\n",
        "          delgm = sg*mg - sgl*mg_last\n",
        "          \n",
        "          print(\"i =\", i, \"delavg\", delbaa/delgaa)\n",
        "          print(\"i = \", i, \"delavm\", delbma/delgma)\n",
        "\n",
        "          if delbaa/delgaa >= (1*10**3.25)/(1*10**3.1):\n",
        "            \n",
        "            sca = 0\n",
        "          else:\n",
        "            sca = delga\n",
        "\n",
        "          if delbma/delgma >= (1*10**3.25)/(1*10**3.1):\n",
        "           \n",
        "            scm = 0\n",
        "          else:\n",
        "            scm = delgm\n",
        "\n",
        "          sc = (sca + scm)/2\n",
        "          print(sca, scm, sc, \"\\n\")\n",
        "\n",
        "          \n",
        "\n",
        "\n",
        "\n",
        "\n",
        "            \n",
        "          \n",
        "\n",
        "        else:\n",
        "          #sc = 0  ###change this\n",
        "          \n",
        "          g_last = g_rlast\n",
        "          b_last = br_last\n",
        "          \n",
        "          mg = np.min(g)               ###may need to scroll over earlier days ###\n",
        "          ag = np.mean(g)\n",
        "          sg = stats.skew(g)\n",
        "\n",
        "          mg_last = np.min(g_last)\n",
        "          ag_last = np.mean(g_last)\n",
        "          sgl = stats.skew(g_last)\n",
        " \n",
        "          mb = np.min(b)\n",
        "          ab = np.mean(b)\n",
        "          \n",
        "          mb_last = np.min(b_last)\n",
        "          ab_last = np.mean(b_last)\n",
        "\n",
        "          delbaa = np.abs(ab-ab_last)\n",
        "          delbma = np.abs(sg*mb - sgl*mb_last)\n",
        "\n",
        "          delgaa = np.abs(ag -ag_last)\n",
        "          delgma = np.abs(sg*mg - sgl*mg_last)\n",
        "\n",
        "          delba = ab-ab_last\n",
        "          delbm = sg*mb - sgl*mb_last\n",
        "\n",
        "          delga = ag -ag_last\n",
        "          delgm = sg*mg - sgl*mg_last\n",
        "          \n",
        "          print(\"i = 0 delavg\", delbaa/delgaa)\n",
        "          print(\"i = 0 delavm\", delbma/delgma)\n",
        "\n",
        "          if delbaa/delgaa >= (1*10**3.25)/(1*10**3.1):\n",
        "            \n",
        "            sca = 0\n",
        "          else:\n",
        "            sca = delga\n",
        "\n",
        "          if delbma/delgma >= (1*10**3.25)/(1*10**3.1):\n",
        "           \n",
        "            scm = 0\n",
        "          else:\n",
        "            scm = delgm\n",
        "\n",
        "          sc = (sca + scm)/2\n",
        "          print(sca, scm, sc, \"\\n\")\n",
        "\n",
        "          \n",
        "\n",
        "\n",
        "          #print(\"here min g_last = \", np.min(g_last, \"b_last = \", b_last)\n",
        "\n",
        "        \n",
        "       \n",
        "        score += [sc]\n",
        "        \n",
        "        i += 1\n",
        "       \n",
        "      \n",
        "        \n",
        "    \n",
        "    green_score = np.array(score)\n",
        "    \n",
        "    return(green_score)\n",
        "        "
      ],
      "execution_count": 0,
      "outputs": []
    },
    {
      "cell_type": "code",
      "metadata": {
        "id": "oMNh6vMFMnc7",
        "colab_type": "code",
        "outputId": "f3188403-d1fd-47d2-8197-4d78bc578bae",
        "colab": {
          "base_uri": "https://localhost:8080/",
          "height": 1000
        }
      },
      "source": [
        "\n",
        "green_score =  measure_score(pigs)"
      ],
      "execution_count": 66,
      "outputs": [
        {
          "output_type": "stream",
          "text": [
            "0 \n",
            "\n",
            "i = 0 delavg nan\n",
            "i = 0 delavm nan\n",
            "0.0 0.0 0.0 \n",
            "\n",
            "1 \n",
            "\n",
            "i = 1 delavg 0.4052356453341036\n",
            "i =  1 delavm 0.3382094208548524\n",
            "-8.82895182291665 248 119.58552408854167 \n",
            "\n",
            "2 \n",
            "\n",
            "i = 2 delavg 1.412609260364378\n",
            "i =  2 delavm 1.7905614315051086\n",
            "0 0 0.0 \n",
            "\n",
            "3 \n",
            "\n",
            "i = 3 delavg 0.8853763434055365\n",
            "i =  3 delavm 0.7793083766164464\n",
            "11.316188151041672 30 20.658094075520836 \n",
            "\n",
            "4 \n",
            "\n",
            "i = 4 delavg 1.1786708857432728\n",
            "i =  4 delavm 0.5207531282271135\n",
            "-9.289404296874977 246 118.35529785156251 \n",
            "\n",
            "5 \n",
            "\n",
            "i = 5 delavg 0.5017552661232947\n",
            "i =  5 delavm 0.24486069001266436\n",
            "5.009108072916689 7 6.0045540364583445 \n",
            "\n",
            "6 \n",
            "\n",
            "i = 6 delavg 1.3262806791754382\n",
            "i =  6 delavm 0.3357137837562838\n",
            "-17.548277994791647 242 112.22586100260418 \n",
            "\n",
            "7 \n",
            "\n",
            "i = 7 delavg 0.14066063958481587\n",
            "i =  7 delavm 0.28637937689704224\n",
            "-7.050065104166663 254 123.47496744791667 \n",
            "\n",
            "8 \n",
            "\n",
            "i = 8 delavg 0.6987012588790424\n",
            "i =  8 delavm 0.4026001105981879\n",
            "-24.841513671874992 235 105.0792431640625 \n",
            "\n",
            "9 \n",
            "\n"
          ],
          "name": "stdout"
        },
        {
          "output_type": "stream",
          "text": [
            "/usr/local/lib/python3.6/dist-packages/ipykernel_launcher.py:105: RuntimeWarning: invalid value encountered in double_scalars\n",
            "/usr/local/lib/python3.6/dist-packages/ipykernel_launcher.py:106: RuntimeWarning: invalid value encountered in double_scalars\n",
            "/usr/local/lib/python3.6/dist-packages/ipykernel_launcher.py:108: RuntimeWarning: invalid value encountered in double_scalars\n",
            "/usr/local/lib/python3.6/dist-packages/ipykernel_launcher.py:114: RuntimeWarning: invalid value encountered in double_scalars\n",
            "/usr/local/lib/python3.6/dist-packages/ipykernel_launcher.py:45: RuntimeWarning: overflow encountered in ubyte_scalars\n",
            "/usr/local/lib/python3.6/dist-packages/ipykernel_launcher.py:42: RuntimeWarning: overflow encountered in ubyte_scalars\n"
          ],
          "name": "stderr"
        },
        {
          "output_type": "stream",
          "text": [
            "i = 9 delavg 1.7860621104434968\n",
            "i =  9 delavm 0.7217892298986892\n",
            "0 255 127.5 \n",
            "\n",
            "10 \n",
            "\n",
            "i = 10 delavg 1.9440778978947393\n",
            "i =  10 delavm 1.2210859691649745\n",
            "0 10 5.0 \n",
            "\n",
            "11 \n",
            "\n",
            "i = 11 delavg 0.5305185031484712\n",
            "i =  11 delavm 0.07262856814116171\n",
            "-10.071748046875001 4 -3.0358740234375006 \n",
            "\n",
            "12 \n",
            "\n",
            "i = 12 delavg 0.765031407465826\n",
            "i =  12 delavm 0.7024905346528583\n",
            "-8.40400716145831 253 122.29799641927085 \n",
            "\n",
            "13 \n",
            "\n",
            "i = 13 delavg 1.1384800143984044\n",
            "i =  13 delavm 0.4735779242021972\n",
            "-16.241673177083328 247 115.37916341145834 \n",
            "\n",
            "14 \n",
            "\n",
            "i = 14 delavg 0.7187045789095198\n",
            "i =  14 delavm 0.4608436334148894\n",
            "-17.554016927083325 245 113.72299153645834 \n",
            "\n",
            "15 \n",
            "\n",
            "i = 15 delavg 0.8610307772376182\n",
            "i =  15 delavm 0.5656155105616583\n",
            "-6.604921875000002 2 -2.302460937500001 \n",
            "\n",
            "16 \n",
            "\n",
            "i = 16 delavg 1.3431912163504698\n",
            "i =  16 delavm 0.0390218695220819\n",
            "-4.8987207031249795 254 124.55063964843751 \n",
            "\n",
            "17 \n",
            "\n",
            "i = 17 delavg 0.9866127022441705\n",
            "i =  17 delavm 0.3607580183327276\n",
            "-8.309873046874998 3 -2.654936523437499 \n",
            "\n"
          ],
          "name": "stdout"
        }
      ]
    },
    {
      "cell_type": "code",
      "metadata": {
        "id": "3Y61nBzgfSkV",
        "colab_type": "code",
        "outputId": "1262b899-9571-4a43-d458-b33122bd892c",
        "colab": {
          "base_uri": "https://localhost:8080/",
          "height": 34
        }
      },
      "source": [
        "(1*10**3.25)/(1*10**3.1)"
      ],
      "execution_count": 13,
      "outputs": [
        {
          "output_type": "execute_result",
          "data": {
            "text/plain": [
              "1.412537544622754"
            ]
          },
          "metadata": {
            "tags": []
          },
          "execution_count": 13
        }
      ]
    },
    {
      "cell_type": "code",
      "metadata": {
        "id": "avAyBNN5bzhj",
        "colab_type": "code",
        "colab": {}
      },
      "source": [
        ""
      ],
      "execution_count": 0,
      "outputs": []
    },
    {
      "cell_type": "code",
      "metadata": {
        "id": "L0QKTIXyVxWf",
        "colab_type": "code",
        "outputId": "619b2ef2-9c87-4462-eb2c-f0b2be7eb457",
        "colab": {
          "base_uri": "https://localhost:8080/",
          "height": 298
        }
      },
      "source": [
        "\n",
        "plt.plot(green_score, 'g-')\n",
        "\n",
        "\n",
        "plt.title('Experiment 2, Spot 1')\n",
        "\n"
      ],
      "execution_count": 69,
      "outputs": [
        {
          "output_type": "execute_result",
          "data": {
            "text/plain": [
              "Text(0.5, 1.0, 'Experiment 2, Spot 1')"
            ]
          },
          "metadata": {
            "tags": []
          },
          "execution_count": 69
        },
        {
          "output_type": "display_data",
          "data": {
            "image/png": "[encoded data removed]",
            "text/plain": [
              "<Figure size 432x288 with 1 Axes>"
            ]
          },
          "metadata": {
            "tags": []
          }
        }
      ]
    },
    {
      "cell_type": "code",
      "metadata": {
        "id": "gZdNmkSCXWG_",
        "colab_type": "code",
        "colab": {}
      },
      "source": [
        "#del str\n",
        "pigs = []\n",
        "filenames_dict_pigs = {}\n",
        "str = \"./Pigmentation/Pigmentation_photos/Experiment 1/Spot 4\"    #photo directory on cloned repository for experimental pigmentation data\n",
        "\n",
        "\n",
        "for root, dirnames, filenames in os.walk(str): \n",
        "    #print(filenames)\n",
        "    for filename in filenames:   ####remember to update in order to avoid masks###\n",
        "           # print(filename, \"\\n\")\n",
        "      #if re.search('d*[^{r|f}].jpg', filename):\n",
        "            #n =  re.match(\"(.*)(2019)(\\d*_\\d*)_(.*)\", filename)\n",
        "            #key = n.group(3)\n",
        "\n",
        "            #key = datetime.strptime(key, '%m%d_%H%M%S')\n",
        "           # print(key, \" \")\n",
        "           # print(filename, \"\\n\")\n",
        "            #print(os.path.join(root, filename), \"\\n\")\n",
        "            #filenames_dict.update({key: os.path.join(root, filename)})\n",
        "            #print(filenames_dict, \"\\n\\n\")\n",
        "            n = re.match(\"(\\d*)\", filename)\n",
        "            #print(n.group(), \" \")\n",
        "            #print(filename, \"\\n\")\n",
        "            #print(os.path.join(root, filename), \"\\n\")\n",
        "            filenames_dict_pigs.update({int(n.group()): [os.path.join(root, filename), filename]})\n",
        "            #print(filenames_dict, \"\\n\\n\")\n",
        "#print(filenames_dict.keys(),\"\\n\")\n",
        "for key in sorted(filenames_dict_pigs.keys()):\n",
        "  #print(key,filenames_dict[key], \"\\n\")\n",
        "  image = plt.imread(filenames_dict_pigs[key][0])\n",
        "  \n",
        "  pigs+= [image]\n",
        "  \n",
        "  \n",
        "pigs = np.asarray(pigs)"
      ],
      "execution_count": 0,
      "outputs": []
    },
    {
      "cell_type": "code",
      "metadata": {
        "id": "9Fk1HA2pUA6Z",
        "colab_type": "code",
        "colab": {}
      },
      "source": [
        "g_rlast = pigs[0][:,:,1].reshape(-1)\n",
        "g_rlast.shape\n",
        "br_last = pigs[0][:,:,2].reshape(-1)"
      ],
      "execution_count": 0,
      "outputs": []
    },
    {
      "cell_type": "code",
      "metadata": {
        "id": "i0kzi7y_Yf5R",
        "colab_type": "code",
        "outputId": "433b29ed-5eea-4e8f-d795-b1a17e253489",
        "colab": {
          "base_uri": "https://localhost:8080/",
          "height": 1000
        }
      },
      "source": [
        "#del str\n",
        "green_score = measure_score(pigs)\n"
      ],
      "execution_count": 57,
      "outputs": [
        {
          "output_type": "stream",
          "text": [
            "0 \n",
            "\n",
            "i = 0 delavg nan\n",
            "i = 0 delavm nan\n",
            "0.0 0.0 0.0 \n",
            "\n",
            "1 \n",
            "\n",
            "i = 1 delavg 2.444737\n",
            "i =  1 delavm 1.0518796384488918\n",
            "0 -0.007843137 -0.003921568393707275 \n",
            "\n",
            "2 \n",
            "\n",
            "i = 2 delavg 1.4812952\n",
            "i =  2 delavm 1.7552968867740235\n",
            "0 0 0.0 \n",
            "\n",
            "3 \n",
            "\n",
            "i = 3 delavg 1.6442915\n",
            "i =  3 delavm 7.417702141914257\n",
            "0 0 0.0 \n",
            "\n",
            "4 \n",
            "\n",
            "i = 4 delavg 0.88656896\n",
            "i =  4 delavm 0.7058202561648493\n",
            "0.009486318 0.0 0.00474315881729126 \n",
            "\n",
            "5 \n",
            "\n",
            "i = 5 delavg 0.9738218\n",
            "i =  5 delavm 0.6942252465710993\n",
            "-0.06380963 -0.04705882 -0.055434226989746094 \n",
            "\n",
            "6 \n",
            "\n",
            "i = 6 delavg 0.83435714\n",
            "i =  6 delavm 0.6596158902577837\n",
            "0.009664178 -0.015686274 -0.003011047840118408 \n",
            "\n",
            "7 \n",
            "\n"
          ],
          "name": "stdout"
        },
        {
          "output_type": "stream",
          "text": [
            "/usr/local/lib/python3.6/dist-packages/ipykernel_launcher.py:105: RuntimeWarning: invalid value encountered in float_scalars\n",
            "/usr/local/lib/python3.6/dist-packages/ipykernel_launcher.py:106: RuntimeWarning: invalid value encountered in double_scalars\n",
            "/usr/local/lib/python3.6/dist-packages/ipykernel_launcher.py:108: RuntimeWarning: invalid value encountered in float_scalars\n",
            "/usr/local/lib/python3.6/dist-packages/ipykernel_launcher.py:114: RuntimeWarning: invalid value encountered in double_scalars\n"
          ],
          "name": "stderr"
        },
        {
          "output_type": "stream",
          "text": [
            "i = 7 delavg 0.6375181\n",
            "i =  7 delavm 3.9020794938448224\n",
            "0.035803378 0 0.017901688814163208 \n",
            "\n",
            "8 \n",
            "\n",
            "i = 8 delavg 0.46304846\n",
            "i =  8 delavm 0.7150583036667418\n",
            "-0.019302547 0.019607842 0.0001526474952697754 \n",
            "\n",
            "9 \n",
            "\n",
            "i = 9 delavg 0.52370507\n",
            "i =  9 delavm 0.8865323563968793\n",
            "0.027959168 0.0 0.013979583978652954 \n",
            "\n",
            "10 \n",
            "\n",
            "i = 10 delavg 53.117065\n",
            "i =  10 delavm 0.8104692544479852\n",
            "0 0.0039215684 0.0019607841968536377 \n",
            "\n",
            "11 \n",
            "\n",
            "i = 11 delavg 1.2187477\n",
            "i =  11 delavm 0.6026962236982846\n",
            "0.011287808 0.007843137 0.009565472602844238 \n",
            "\n",
            "12 \n",
            "\n",
            "i = 12 delavg 0.9368215\n",
            "i =  12 delavm 0.6711695444812432\n",
            "0.03494662 0.043137252 0.03904193639755249 \n",
            "\n",
            "13 \n",
            "\n",
            "i = 13 delavg 0.3382216\n",
            "i =  13 delavm 0.8221280682642725\n",
            "0.025984168 0.039215684 0.03259992599487305 \n",
            "\n",
            "14 \n",
            "\n",
            "i = 14 delavg 4.2636037\n",
            "i =  14 delavm 1.1430391278372\n",
            "0 0.043137252 0.021568626165390015 \n",
            "\n",
            "15 \n",
            "\n",
            "i = 15 delavg 3.6720648\n",
            "i =  15 delavm 4.107196700468229\n",
            "0 0 0.0 \n",
            "\n",
            "16 \n",
            "\n",
            "i = 16 delavg 1.1086414\n",
            "i =  16 delavm 1.3184156748091345\n",
            "0.03564 0.054901958 0.04527097940444946 \n",
            "\n",
            "17 \n",
            "\n",
            "i = 17 delavg 0.9885871\n",
            "i =  17 delavm 0.8171778995814087\n",
            "0.03742999 0.07843137 0.05793067812919617 \n",
            "\n",
            "18 \n",
            "\n",
            "i = 18 delavg 0.96717966\n",
            "i =  18 delavm 1.0617685830445311\n",
            "0.026794553 0.031372547 0.029083549976348877 \n",
            "\n",
            "19 \n",
            "\n",
            "i = 19 delavg 4.251839\n",
            "i =  19 delavm 0.694560743631963\n",
            "0 0.007843137 0.003921568393707275 \n",
            "\n",
            "20 \n",
            "\n",
            "i = 20 delavg 2.7005033\n",
            "i =  20 delavm 0.6918168041921635\n",
            "0 0.011764705 0.005882352590560913 \n",
            "\n",
            "21 \n",
            "\n",
            "i = 21 delavg 0.16701505\n",
            "i =  21 delavm 0.6533886033655092\n",
            "-0.0143716335 -0.027450979 -0.020911306142807007 \n",
            "\n",
            "22 \n",
            "\n",
            "i = 22 delavg 0.7196806\n",
            "i =  22 delavm 0.6348000352496137\n",
            "0.02769202 0.039215684 0.03345385193824768 \n",
            "\n",
            "23 \n",
            "\n",
            "i = 23 delavg 0.018984884\n",
            "i =  23 delavm 0.8066311412444488\n",
            "0.025779128 0.07058823 0.04818367958068848 \n",
            "\n",
            "24 \n",
            "\n",
            "i = 24 delavg 1.0341343\n",
            "i =  24 delavm 0.9084984642447747\n",
            "0.05889696 0.0745098 0.06670337915420532 \n",
            "\n",
            "25 \n",
            "\n",
            "i = 25 delavg 0.7801764\n",
            "i =  25 delavm 0.6802248349554688\n",
            "0.0547024 -0.043137252 0.005782574415206909 \n",
            "\n",
            "26 \n",
            "\n",
            "i = 26 delavg 1.5399444\n",
            "i =  26 delavm 0.6894213379685791\n",
            "0 0.031372547 0.0156862735748291 \n",
            "\n",
            "27 \n",
            "\n",
            "i = 27 delavg 1.4122654\n",
            "i =  27 delavm 0.7056370091922527\n",
            "0.026657641 0.039215684 0.032936662435531616 \n",
            "\n"
          ],
          "name": "stdout"
        }
      ]
    },
    {
      "cell_type": "code",
      "metadata": {
        "id": "v6C2gS0hYsew",
        "colab_type": "code",
        "outputId": "310e983d-b0f0-4a75-f7d5-126ea32d1bc9",
        "colab": {
          "base_uri": "https://localhost:8080/",
          "height": 298
        }
      },
      "source": [
        "\n",
        "green_score = 255*green_score\n",
        "\n",
        "plt.plot(green_score, 'g-')\n",
        "\n",
        "plt.title('Experiment 1, Spot 4')"
      ],
      "execution_count": 58,
      "outputs": [
        {
          "output_type": "execute_result",
          "data": {
            "text/plain": [
              "Text(0.5, 1.0, 'Experiment 1, Spot 4')"
            ]
          },
          "metadata": {
            "tags": []
          },
          "execution_count": 58
        },
        {
          "output_type": "display_data",
          "data": {
            "image/png": "[encoded data removed]",
            "text/plain": [
              "<Figure size 432x288 with 1 Axes>"
            ]
          },
          "metadata": {
            "tags": []
          }
        }
      ]
    },
    {
      "cell_type": "code",
      "metadata": {
        "id": "Y-yJgTWi1WTn",
        "colab_type": "code",
        "colab": {
          "base_uri": "https://localhost:8080/",
          "height": 34
        },
        "outputId": "bd46813b-e50e-4dce-a107-0611b202b958"
      },
      "source": [
        "green_score"
      ],
      "execution_count": 43,
      "outputs": [
        {
          "output_type": "execute_result",
          "data": {
            "text/plain": [
              "array([165., 165., 166., ..., 159., 160., 161.], dtype=float32)"
            ]
          },
          "metadata": {
            "tags": []
          },
          "execution_count": 43
        }
      ]
    },
    {
      "cell_type": "code",
      "metadata": {
        "id": "pA1jdisIY6Hh",
        "colab_type": "code",
        "colab": {}
      },
      "source": [
        "import numpy as np\n",
        "from scipy import ndimage, misc\n",
        "import re\n",
        "import os\n",
        "from datetime import datetime\n",
        "import matplotlib.pyplot as plt\n",
        "import skimage\n",
        "\n",
        "\n",
        "pigs = []\n",
        "filenames_dict = {}\n",
        "str = \"./Pigmentation/Pigmentation_photos/Experiment 2/Spot 4\"    #photo directory on cloned repository for experimental pigmentation data\n",
        "\n",
        "\n",
        "for root, dirnames, filenames in os.walk(str): \n",
        "    #print(filenames)\n",
        "    for filename in filenames:\n",
        "           # print(filename, \"\\n\")\n",
        "      #if re.search('d*[^{r|f}].jpg', filename):\n",
        "            n =  re.match(\"(.*)(2019)(\\d*_\\d*)_(.*)\", filename)\n",
        "            if n:\n",
        "              key = n.group(3)\n",
        "\n",
        "              key = datetime.strptime(key, '%m%d_%H%M%S')\n",
        "           # print(key, \" \")\n",
        "           # print(filename, \"\\n\")\n",
        "            #print(os.path.join(root, filename), \"\\n\")\n",
        "              filenames_dict.update({key: os.path.join(root, filename)})\n",
        "            #print(filenames_dict, \"\\n\\n\")\n",
        "#print(filenames_dict.keys(),\"\\n\")\n",
        "for key in sorted(filenames_dict.keys()):\n",
        "  #print(key,filenames_dict[key], \"\\n\")\n",
        "  image = plt.imread(filenames_dict[key])\n",
        "  #image = skimage.transform.resize(image, (192,256,3))  \n",
        "  \n",
        "  pigs+= [image]\n",
        "  \n",
        "  \n",
        "pigs = np.asarray(pigs)"
      ],
      "execution_count": 0,
      "outputs": []
    },
    {
      "cell_type": "code",
      "metadata": {
        "id": "XNg9Ygz3aIqy",
        "colab_type": "code",
        "colab": {
          "base_uri": "https://localhost:8080/",
          "height": 1000
        },
        "outputId": "cf95cf09-2851-44e1-f155-1eb1c0416f10"
      },
      "source": [
        "#del str\n",
        "green_score = measure_score(pigs)"
      ],
      "execution_count": 61,
      "outputs": [
        {
          "output_type": "stream",
          "text": [
            "0 \n",
            "\n",
            "i = 0 delavg 0.8719090268072689\n",
            "i = 0 delavm 0.26307666337951413\n",
            "-25.569520874023425 -7.840218050013746 -16.704869462018586 \n",
            "\n",
            "1 \n",
            "\n",
            "i = 1 delavg 2.1282907898144767\n",
            "i =  1 delavm 0.0642135781542345\n",
            "0 -26.0 -13.0 \n",
            "\n",
            "2 \n",
            "\n",
            "i = 2 delavg 8.27893374889159\n",
            "i =  2 delavm 0.5114245560819873\n",
            "0 -34.0 -17.0 \n",
            "\n",
            "3 \n",
            "\n",
            "i = 3 delavg 0.7817647525702236\n",
            "i =  3 delavm 0.9912299640229002\n",
            "-21.375673217773425 -44.0 -32.68783660888671 \n",
            "\n",
            "4 \n",
            "\n",
            "i = 4 delavg 2.648494864080347\n",
            "i =  4 delavm 0.4327986264351121\n",
            "0 -22.0 -11.0 \n",
            "\n",
            "5 \n",
            "\n",
            "i = 5 delavg 5.085666101885376\n",
            "i =  5 delavm 0.7526145396612143\n",
            "0 -12.0 -6.0 \n",
            "\n",
            "6 \n",
            "\n",
            "i = 6 delavg 4.276152435000569\n",
            "i =  6 delavm 0.8917173349421021\n",
            "0 -24.0 -12.0 \n",
            "\n",
            "7 \n",
            "\n",
            "i = 7 delavg 0.46074015128493245\n",
            "i =  7 delavm 0.941365634647563\n",
            "2.090840454101567 -15.0 -6.4545797729492165 \n",
            "\n",
            "8 \n",
            "\n",
            "i = 8 delavg 0.33901845304799205\n",
            "i =  8 delavm 0.5647505296204994\n",
            "7.221917928059895 8.0 7.6109589640299475 \n",
            "\n",
            "9 \n",
            "\n",
            "i = 9 delavg 0.08800356779895356\n",
            "i =  9 delavm 0.8177160317681922\n",
            "4.1837440999348985 -15.0 -5.408127950032551 \n",
            "\n",
            "10 \n",
            "\n",
            "i = 10 delavg 3.1732324648884505\n",
            "i =  10 delavm 1.5615510153557426\n",
            "0 0 0.0 \n",
            "\n",
            "11 \n",
            "\n",
            "i = 11 delavg 0.4997773816679044\n",
            "i =  11 delavm 0.8603167366080269\n",
            "-4.337818400065117 4.0 -0.16890920003255872 \n",
            "\n",
            "12 \n",
            "\n",
            "i = 12 delavg 0.24906346010978903\n",
            "i =  12 delavm 0.8836504376733813\n",
            "-10.219504597981768 -10.0 -10.109752298990884 \n",
            "\n",
            "13 \n",
            "\n",
            "i = 13 delavg 1.6246451284427799\n",
            "i =  13 delavm 0.7866029267430509\n",
            "0 -8.0 -4.0 \n",
            "\n",
            "14 \n",
            "\n",
            "i = 14 delavg 0.6232592901696591\n",
            "i =  14 delavm 1.0398235740366675\n",
            "-8.320552775065096 -18.0 -13.160276387532548 \n",
            "\n",
            "15 \n",
            "\n",
            "i = 15 delavg 0.11848226436470849\n",
            "i =  15 delavm 0.9966022793202486\n",
            "0.684554646809886 -17.0 -8.157722676595057 \n",
            "\n",
            "16 \n",
            "\n",
            "i = 16 delavg 0.5314697106565929\n",
            "i =  16 delavm 0.7685490828690373\n",
            "-12.132909545898428 -23.0 -17.566454772949214 \n",
            "\n",
            "17 \n",
            "\n",
            "i = 17 delavg 1.0836092511033923\n",
            "i =  17 delavm 0.9236114287760568\n",
            "4.01670308430991 -23.0 -9.491648457845045 \n",
            "\n"
          ],
          "name": "stdout"
        }
      ]
    },
    {
      "cell_type": "code",
      "metadata": {
        "id": "XKDbbeJDaOfG",
        "colab_type": "code",
        "outputId": "e0bdad78-e4ff-4084-d6ca-d3ae7e1f27ae",
        "colab": {
          "base_uri": "https://localhost:8080/",
          "height": 298
        }
      },
      "source": [
        "\n",
        "\n",
        "plt.plot(green_score, 'g-')\n",
        "\n",
        "plt.title('Experiment 2, Spot 4')"
      ],
      "execution_count": 62,
      "outputs": [
        {
          "output_type": "execute_result",
          "data": {
            "text/plain": [
              "Text(0.5, 1.0, 'Experiment 2, Spot 4')"
            ]
          },
          "metadata": {
            "tags": []
          },
          "execution_count": 62
        },
        {
          "output_type": "display_data",
          "data": {
            "image/png": "[encoded data removed]",
            "text/plain": [
              "<Figure size 432x288 with 1 Axes>"
            ]
          },
          "metadata": {
            "tags": []
          }
        }
      ]
    },
    {
      "cell_type": "code",
      "metadata": {
        "id": "_gxSHqX2TINk",
        "colab_type": "code",
        "colab": {
          "base_uri": "https://localhost:8080/",
          "height": 34
        },
        "outputId": "1edc273b-c068-440b-ff60-bdaa21bf15b9"
      },
      "source": [
        "green_score"
      ],
      "execution_count": 6,
      "outputs": [
        {
          "output_type": "execute_result",
          "data": {
            "text/plain": [
              "array([], dtype=float64)"
            ]
          },
          "metadata": {
            "tags": []
          },
          "execution_count": 6
        }
      ]
    },
    {
      "cell_type": "code",
      "metadata": {
        "id": "UFA5AXNbaVvH",
        "colab_type": "code",
        "colab": {}
      },
      "source": [
        "pigs = []\n",
        "filenames_dict = {}\n",
        "str = \"./Pigmentation/Pigmentation_photos/Experiment 2/Spot 2\"    #photo directory on cloned repository for experimental pigmentation data\n",
        "\n",
        "\n",
        "for root, dirnames, filenames in os.walk(str): \n",
        "    #print(filenames)\n",
        "    for filename in filenames:\n",
        "           # print(filename, \"\\n\")\n",
        "      #if re.search('d*[^{r|f}].jpg', filename):\n",
        "            n =  re.match(\"(.*)(2019)(\\d*_\\d*)_(.*)\", filename)\n",
        "            if n:\n",
        "              key = n.group(3)\n",
        "\n",
        "              key = datetime.strptime(key, '%m%d_%H%M%S')\n",
        "           # print(key, \" \")\n",
        "           # print(filename, \"\\n\")\n",
        "            #print(os.path.join(root, filename), \"\\n\")\n",
        "              filenames_dict.update({key: os.path.join(root, filename)})\n",
        "            #print(filenames_dict, \"\\n\\n\")\n",
        "#print(filenames_dict.keys(),\"\\n\")\n",
        "for key in sorted(filenames_dict.keys()):\n",
        "  #print(key,filenames_dict[key], \"\\n\")\n",
        "  image = plt.imread(filenames_dict[key])\n",
        "  #image = skimage.transform.resize(image, (192,256,3))  \n",
        "  \n",
        "  pigs+= [image]\n",
        "  \n",
        "  \n",
        "pigs = np.asarray(pigs)"
      ],
      "execution_count": 0,
      "outputs": []
    },
    {
      "cell_type": "code",
      "metadata": {
        "id": "_XR8HBTTf-o2",
        "colab_type": "code",
        "colab": {
          "base_uri": "https://localhost:8080/",
          "height": 218
        },
        "outputId": "8ace9b8f-e2e4-4c90-90fd-642ca91a2a50"
      },
      "source": [
        "green_score = measure_score(pigs)"
      ],
      "execution_count": 22,
      "outputs": [
        {
          "output_type": "stream",
          "text": [
            "here\n",
            "here 4\n",
            "here 5\n",
            "here 6\n",
            "here 9\n",
            "here 10\n",
            "here 16\n",
            "here 17\n"
          ],
          "name": "stdout"
        },
        {
          "output_type": "stream",
          "text": [
            "/usr/local/lib/python3.6/dist-packages/ipykernel_launcher.py:34: RuntimeWarning: overflow encountered in ubyte_scalars\n",
            "/usr/local/lib/python3.6/dist-packages/ipykernel_launcher.py:37: RuntimeWarning: overflow encountered in ubyte_scalars\n",
            "/usr/local/lib/python3.6/dist-packages/ipykernel_launcher.py:40: RuntimeWarning: overflow encountered in ubyte_scalars\n",
            "/usr/local/lib/python3.6/dist-packages/ipykernel_launcher.py:43: RuntimeWarning: overflow encountered in ubyte_scalars\n"
          ],
          "name": "stderr"
        }
      ]
    },
    {
      "cell_type": "code",
      "metadata": {
        "id": "N8q591cbf_6U",
        "colab_type": "code",
        "outputId": "c7ebf21d-e64e-42be-b78c-90f9564e6cd5",
        "colab": {
          "base_uri": "https://localhost:8080/",
          "height": 298
        }
      },
      "source": [
        "\n",
        "plt.plot(green_score, 'g-')\n",
        "#plt.plot(blue, 'b-')\n",
        "plt.title('Experiment 2, Spot 2')"
      ],
      "execution_count": 23,
      "outputs": [
        {
          "output_type": "execute_result",
          "data": {
            "text/plain": [
              "Text(0.5, 1.0, 'Experiment 2, Spot 2')"
            ]
          },
          "metadata": {
            "tags": []
          },
          "execution_count": 23
        },
        {
          "output_type": "display_data",
          "data": {
            "image/png": "[encoded data removed]",
            "text/plain": [
              "<Figure size 432x288 with 1 Axes>"
            ]
          },
          "metadata": {
            "tags": []
          }
        }
      ]
    },
    {
      "cell_type": "code",
      "metadata": {
        "id": "QAj25gSfgKsL",
        "colab_type": "code",
        "outputId": "fc4d7cb0-e4c8-4ce6-ccae-653475904ed3",
        "colab": {
          "base_uri": "https://localhost:8080/",
          "height": 50
        }
      },
      "source": [
        "red"
      ],
      "execution_count": 0,
      "outputs": [
        {
          "output_type": "execute_result",
          "data": {
            "text/plain": [
              "array([ 92,  88,  88, 104,  81,  71,  79,  82,  84,  86,  86,  93,  97,\n",
              "        82,  97,  70,  93,  84], dtype=uint8)"
            ]
          },
          "metadata": {
            "tags": []
          },
          "execution_count": 150
        }
      ]
    },
    {
      "cell_type": "code",
      "metadata": {
        "id": "DLwSE_ePgNcK",
        "colab_type": "code",
        "colab": {}
      },
      "source": [
        ""
      ],
      "execution_count": 0,
      "outputs": []
    }
  ]
}