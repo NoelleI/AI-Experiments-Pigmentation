{
  "nbformat": 4,
  "nbformat_minor": 0,
  "metadata": {
    "colab": {
      "name": "redness.ipynb",
      "provenance": [],
      "authorship_tag": "ABX9TyPI70bdRjkULCrVLtKIkPK+",
      "include_colab_link": true
    },
    "kernelspec": {
      "name": "python3",
      "display_name": "Python 3"
    }
  },
  "cells": [
    {
      "cell_type": "markdown",
      "metadata": {
        "id": "view-in-github",
        "colab_type": "text"
      },
      "source": [
        "<a href=\"https://colab.research.google.com/github/NoelleI/AI-Experiments-Pigmentation/blob/master/redness.ipynb\" target=\"_parent\"><img src=\"https://colab.research.google.com/assets/colab-badge.svg\" alt=\"Open In Colab\"/></a>"
      ]
    },
    {
      "cell_type": "code",
      "metadata": {
        "id": "_TjczdQjEdMw",
        "colab_type": "code",
        "outputId": "dd4ad075-a1dc-436c-c560-d86a17f19899",
        "colab": {
          "base_uri": "https://localhost:8080/",
          "height": 34
        }
      },
      "source": [
        "!git clone https://github.com/NoelleI/Pigmentation.git"
      ],
      "execution_count": 200,
      "outputs": [
        {
          "output_type": "stream",
          "text": [
            "fatal: destination path 'Pigmentation' already exists and is not an empty directory.\n"
          ],
          "name": "stdout"
        }
      ]
    },
    {
      "cell_type": "code",
      "metadata": {
        "id": "sOy_90rrEnXe",
        "colab_type": "code",
        "colab": {}
      },
      "source": [
        "import numpy as np\n",
        "from scipy import ndimage, misc\n",
        "import re\n",
        "import os\n",
        "from datetime import datetime\n",
        "import matplotlib.pyplot as plt\n",
        "import skimage\n",
        "\n",
        "\n",
        "pigs = []\n",
        "filenames_dict = {}\n",
        "str = \"./Pigmentation/Pigmentation_photos/Experiment 2/Spot 1\"    #photo directory on cloned repository for experimental pigmentation data\n",
        "\n",
        "\n",
        "for root, dirnames, filenames in os.walk(str): \n",
        "    #print(filenames)\n",
        "    for filename in filenames:\n",
        "           # print(filename, \"\\n\")\n",
        "      #if re.search('d*[^{r|f}].jpg', filename):\n",
        "            n =  re.match(\"(.*)(2019)(\\d*_\\d*)_(.*)\", filename)\n",
        "            if n:\n",
        "              key = n.group(3)\n",
        "\n",
        "              key = datetime.strptime(key, '%m%d_%H%M%S')\n",
        "           # print(key, \" \")\n",
        "           # print(filename, \"\\n\")\n",
        "            #print(os.path.join(root, filename), \"\\n\")\n",
        "              filenames_dict.update({key: os.path.join(root, filename)})\n",
        "            #print(filenames_dict, \"\\n\\n\")\n",
        "#print(filenames_dict.keys(),\"\\n\")\n",
        "for key in sorted(filenames_dict.keys()):\n",
        "  #print(key,filenames_dict[key], \"\\n\")\n",
        "  image = plt.imread(filenames_dict[key])\n",
        "  #image = skimage.transform.resize(image, (192,256,3))  \n",
        "  \n",
        "  pigs+= [image]\n",
        "  \n",
        "  \n",
        "pigs = np.asarray(pigs)"
      ],
      "execution_count": 0,
      "outputs": []
    },
    {
      "cell_type": "code",
      "metadata": {
        "id": "ZRCArkx-FqWE",
        "colab_type": "code",
        "outputId": "f92f0a81-8f93-488c-ed07-97311c9584f3",
        "colab": {
          "base_uri": "https://localhost:8080/",
          "height": 319
        }
      },
      "source": [
        "filenames"
      ],
      "execution_count": 202,
      "outputs": [
        {
          "output_type": "execute_result",
          "data": {
            "text/plain": [
              "['1_F_43_XX_25_20190228_214705_FA101129_0100_SPOTS_57_SPOTS#01_S_UnitedStates_CND_TRXXURXX_FR57.jpg',\n",
              " '1_F_43_XX_25_20190226_224523_FA101129_0100_SPOTS_24_SPOTS#01_S_UnitedStates_CND_TRXXURXX_FR24.jpg',\n",
              " '1_F_43_XX_25_20190223_170715_FA101129_0100_SPOTS_XX_SPOTS#01_S_UnitedStates_CND_XX.jpg',\n",
              " '1_F_43_XX_25_20190225_100933_FA101129_0100_SPOTS_71_SPOTS#01_S_UnitedStates_CND_TRXXURXX_FR71.jpg',\n",
              " '1_F_43_XX_25_20190306_230513_FA101129_0100_SPOTS_64_SPOTS#01_S_UnitedStates_CND_TRXXURXX_FR64.jpg',\n",
              " '1_F_43_XX_25_20190310_203414_FA101129_0100_SPOTS_60_SPOTS#01_S_UnitedStates_CND_TRXXURXX_FR60.jpg',\n",
              " '1_F_43_XX_25_20190227_212058_FA101129_0100_SPOTS_51_SPOTS#01_S_UnitedStates_CND_TRXXURXX_FR51.jpg',\n",
              " '1_F_43_XX_25_20190301_083613_FA101129_0100_SPOTS_81_SPOTS#01_S_UnitedStates_CND_TRXXURXX_FR81.jpg',\n",
              " '1_F_43_XX_25_20190228_083804_FA101129_0100_SPOTS_74_SPOTS#01_S_UnitedStates_CND_TRXXURXX_FR74.jpg',\n",
              " '1_F_43_XX_25_20190310_104002_FA101129_0100_SPOTS_86_SPOTS#01_S_UnitedStates_CND_TRXXURXX_FR86.jpg',\n",
              " '1_F_43_XX_25_20190304_205823_FA101129_0100_SPOTS_52_SPOTS#01_S_UnitedStates_CND_TRXXURXX_FR52.jpg',\n",
              " '1_F_43_XX_25_20190307_083311_FA101129_0100_SPOTS_58_SPOTS#01_S_UnitedStates_CND_TRXXURXX_FR58.jpg',\n",
              " '1_F_43_XX_25_20190303_224859_FA101129_0100_SPOTS_57_SPOTS#01_S_UnitedStates_CND_TRXXURXX_FR57.jpg',\n",
              " '1_F_43_XX_25_20190226_094300_FA101129_0100_SPOTS_74_SPOTS#01_S_UnitedStates_CND_TRXXURXX_FR74.jpg',\n",
              " '1_F_43_XX_25_20190320_072610_FA101129_0100_SPOTS_58_SPOTS#01_S_UnitedStates_CND_TRXXURXX_FR58.jpg',\n",
              " '1_F_43_XX_25_20190319_085424_FA101129_0100_SPOTS_57_SPOTS#01_S_UnitedStates_CND_TRXXURXX_FR57.jpg',\n",
              " '1_F_43_XX_25_20190311_101537_FA101129_0100_SPOTS_67_SPOTS#01_S_UnitedStates_CND_TRXXURXX_FR67.jpg',\n",
              " '1_F_43_XX_25_20190227_073748_FA101129_0100_SPOTS_58_SPOTS#01_S_UnitedStates_CND_TRXXURXX_FR58.jpg']"
            ]
          },
          "metadata": {
            "tags": []
          },
          "execution_count": 202
        }
      ]
    },
    {
      "cell_type": "code",
      "metadata": {
        "id": "vzhFKdiIF2kp",
        "colab_type": "code",
        "outputId": "5b4ccc34-5fe7-4408-a51b-3f39184950f6",
        "colab": {
          "base_uri": "https://localhost:8080/",
          "height": 34
        }
      },
      "source": [
        "len(pigs)"
      ],
      "execution_count": 203,
      "outputs": [
        {
          "output_type": "execute_result",
          "data": {
            "text/plain": [
              "18"
            ]
          },
          "metadata": {
            "tags": []
          },
          "execution_count": 203
        }
      ]
    },
    {
      "cell_type": "code",
      "metadata": {
        "id": "0SnQ0cEXGFg7",
        "colab_type": "code",
        "outputId": "a8d0326f-25d2-46f8-b5a5-5a4589eaefba",
        "colab": {
          "base_uri": "https://localhost:8080/",
          "height": 34
        }
      },
      "source": [
        "pigs.shape"
      ],
      "execution_count": 204,
      "outputs": [
        {
          "output_type": "execute_result",
          "data": {
            "text/plain": [
              "(18, 480, 640, 3)"
            ]
          },
          "metadata": {
            "tags": []
          },
          "execution_count": 204
        }
      ]
    },
    {
      "cell_type": "code",
      "metadata": {
        "id": "Gv9gNCYvJH3r",
        "colab_type": "code",
        "colab": {}
      },
      "source": [
        "\n",
        "\n",
        "\n",
        "import pandas as pd\n",
        "from scipy import stats\n",
        "#del str\n",
        "def measure_score(pigs): \n",
        "  \n",
        "    score = []\n",
        "\n",
        "    i = 0\n",
        "    \n",
        "\n",
        "    for pig in pigs:\n",
        "        print(i, \"\\n\")\n",
        "        g = pig[:,:,1].reshape(-1)  #- 3*imagen[:,:,1].reshape(-1)/8\n",
        "        b = pig[:,:,2].reshape(-1)\n",
        "            \n",
        "\n",
        "        if i > 0:\n",
        "\n",
        "          mg = np.min(g)               ###may need to scroll over earlier days ###\n",
        "          ag = np.mean(g)\n",
        "          sg = stats.skew(g)\n",
        "\n",
        "          mg_last = np.min(g_last)\n",
        "          ag_last = np.mean(g_last)\n",
        "          sgl = stats.skew(g_last)\n",
        " \n",
        "          mb = np.min(b)\n",
        "          ab = np.mean(b)\n",
        "          \n",
        "          mb_last = np.min(b_last)\n",
        "          ab_last = np.mean(b_last)\n",
        "\n",
        "          delbaa = np.abs(ab-ab_last)\n",
        "          delbma = np.abs(sg*mb - sgl*mb_last)\n",
        "\n",
        "          delgaa = np.abs(ag -ag_last)\n",
        "          delgma = np.abs(sg*mg - sgl*mg_last)\n",
        "\n",
        "          delba = ab-ab_last\n",
        "          delbm = sg*mb - sgl*mb_last\n",
        "\n",
        "          delga = ag -ag_last\n",
        "          delgm = sg*mg - sgl*mg_last\n",
        "          \n",
        "          print(\"i =\", i, \"delavg\", delbaa/delgaa)\n",
        "          print(\"i = \", i, \"delavm\", delbma/delgma)\n",
        "\n",
        "          if delbaa/delgaa >= ((1*10**3.25)/(1*10**3.1) + 0.8)/2:\n",
        "            \n",
        "            sca = 0\n",
        "          else:\n",
        "            sca = delga\n",
        "\n",
        "          if delbma/delgma >= 0.8: ##(1*10**3.25)/(1*10**3.1):\n",
        "           \n",
        "            scm = 0\n",
        "          else:\n",
        "            scm = delgm\n",
        "\n",
        "          sc = (sca + scm)/2\n",
        "          print(sca, scm, sc, \"\\n\")\n",
        "\n",
        "          #g_last = g\n",
        "          #b_last = b\n",
        "          \n",
        "\n",
        "\n",
        "\n",
        "\n",
        "            \n",
        "          \n",
        "\n",
        "        else:\n",
        "          sc = 0  \n",
        "          \n",
        "          g_last = g\n",
        "          b_last = b\n",
        "          \n",
        "         \n",
        "        score += [sc]\n",
        "        \n",
        "        i += 1\n",
        "       \n",
        "      \n",
        "        \n",
        "    \n",
        "    green_score = np.array(score)\n",
        "    \n",
        "    return(green_score)\n",
        "        "
      ],
      "execution_count": 0,
      "outputs": []
    },
    {
      "cell_type": "code",
      "metadata": {
        "id": "oMNh6vMFMnc7",
        "colab_type": "code",
        "outputId": "4f0f0fab-6ba3-47db-ecc6-f7860c44e39d",
        "colab": {
          "base_uri": "https://localhost:8080/",
          "height": 1000
        }
      },
      "source": [
        "\n",
        "green_score =  measure_score(pigs)"
      ],
      "execution_count": 206,
      "outputs": [
        {
          "output_type": "stream",
          "text": [
            "0 \n",
            "\n",
            "1 \n",
            "\n",
            "i = 1 delavg 0.4052356453341036\n",
            "i =  1 delavm 0.3382094208548524\n",
            "-8.82895182291665 40.51090679566097 15.84097748637216 \n",
            "\n",
            "2 \n",
            "\n",
            "i = 2 delavg 1.412609260364378\n",
            "i =  2 delavm 1.7905614315051086\n",
            "0 0 0.0 \n",
            "\n",
            "3 \n",
            "\n",
            "i = 3 delavg 0.8853763434055365\n",
            "i =  3 delavm 0.7793083766164464\n",
            "11.316188151041672 -7.422135359307191 1.9470263958672405 \n",
            "\n",
            "4 \n",
            "\n",
            "i = 4 delavg 1.1786708857432728\n",
            "i =  4 delavm 0.5207531282271135\n",
            "0 9.53248812425332 4.76624406212666 \n",
            "\n",
            "5 \n",
            "\n",
            "i = 5 delavg 0.5017552661232947\n",
            "i =  5 delavm 0.24486069001266436\n",
            "5.009108072916689 -12.814787272602302 -3.9028395998428067 \n",
            "\n",
            "6 \n",
            "\n",
            "i = 6 delavg 1.3262806791754382\n",
            "i =  6 delavm 0.3357137837562838\n",
            "0 34.35796372729234 17.17898186364617 \n",
            "\n",
            "7 \n",
            "\n",
            "i = 7 delavg 0.14066063958481587\n",
            "i =  7 delavm 0.28637937689704224\n",
            "-7.050065104166663 13.564120514968494 3.2570277054009154 \n",
            "\n",
            "8 \n",
            "\n",
            "i = 8 delavg 0.6987012588790424\n",
            "i =  8 delavm 0.4026001105981879\n",
            "-24.841513671874992 59.12689822872508 17.142692278425045 \n",
            "\n",
            "9 \n",
            "\n",
            "i = 9 delavg 1.7860621104434968\n",
            "i =  9 delavm 0.7217892298986892\n",
            "0 4.615058686653839 2.3075293433269195 \n",
            "\n",
            "10 \n",
            "\n",
            "i = 10 delavg 1.9440778978947393\n",
            "i =  10 delavm 1.2210859691649745\n",
            "0 0 0.0 \n",
            "\n",
            "11 \n",
            "\n",
            "i = 11 delavg 0.5305185031484712\n",
            "i =  11 delavm 0.07262856814116171\n",
            "-10.071748046875001 9.23039183503576 -0.4206781059196203 \n",
            "\n",
            "12 \n",
            "\n",
            "i = 12 delavg 0.765031407465826\n",
            "i =  12 delavm 0.7024905346528583\n",
            "-8.40400716145831 39.60209381537899 15.599043326960341 \n",
            "\n",
            "13 \n",
            "\n",
            "i = 13 delavg 1.1384800143984044\n",
            "i =  13 delavm 0.4735779242021972\n",
            "0 46.656481981152695 23.328240990576347 \n",
            "\n",
            "14 \n",
            "\n",
            "i = 14 delavg 0.7187045789095198\n",
            "i =  14 delavm 0.4608436334148894\n",
            "-17.554016927083325 44.38217341962968 13.414078246273178 \n",
            "\n",
            "15 \n",
            "\n",
            "i = 15 delavg 0.8610307772376182\n",
            "i =  15 delavm 0.5656155105616583\n",
            "-6.604921875000002 26.982964232223495 10.189021178611746 \n",
            "\n",
            "16 \n",
            "\n",
            "i = 16 delavg 1.3431912163504698\n",
            "i =  16 delavm 0.0390218695220819\n",
            "0 23.290289345322392 11.645144672661196 \n",
            "\n",
            "17 \n",
            "\n",
            "i = 17 delavg 0.9866127022441705\n",
            "i =  17 delavm 0.3607580183327276\n",
            "-8.309873046874998 34.291392211722965 12.990759582423983 \n",
            "\n"
          ],
          "name": "stdout"
        }
      ]
    },
    {
      "cell_type": "code",
      "metadata": {
        "id": "3Y61nBzgfSkV",
        "colab_type": "code",
        "outputId": "19ec0d3a-2ddf-4d69-a75e-da7a77173cec",
        "colab": {
          "base_uri": "https://localhost:8080/",
          "height": 34
        }
      },
      "source": [
        "(1*10**3.25)/(1*10**3.1)"
      ],
      "execution_count": 207,
      "outputs": [
        {
          "output_type": "execute_result",
          "data": {
            "text/plain": [
              "1.412537544622754"
            ]
          },
          "metadata": {
            "tags": []
          },
          "execution_count": 207
        }
      ]
    },
    {
      "cell_type": "code",
      "metadata": {
        "id": "avAyBNN5bzhj",
        "colab_type": "code",
        "colab": {}
      },
      "source": [
        ""
      ],
      "execution_count": 0,
      "outputs": []
    },
    {
      "cell_type": "code",
      "metadata": {
        "id": "L0QKTIXyVxWf",
        "colab_type": "code",
        "outputId": "3a0fde9b-5e31-4c96-a4a6-f799499ab4c4",
        "colab": {
          "base_uri": "https://localhost:8080/",
          "height": 298
        }
      },
      "source": [
        "\n",
        "plt.plot(green_score, 'g-')\n",
        "\n",
        "\n",
        "plt.title('Experiment 2, Spot 1')\n",
        "\n"
      ],
      "execution_count": 208,
      "outputs": [
        {
          "output_type": "execute_result",
          "data": {
            "text/plain": [
              "Text(0.5, 1.0, 'Experiment 2, Spot 1')"
            ]
          },
          "metadata": {
            "tags": []
          },
          "execution_count": 208
        },
        {
          "output_type": "display_data",
          "data": {
            "image/png": "[encoded data removed]",
            "text/plain": [
              "<Figure size 432x288 with 1 Axes>"
            ]
          },
          "metadata": {
            "tags": []
          }
        }
      ]
    },
    {
      "cell_type": "code",
      "metadata": {
        "id": "gZdNmkSCXWG_",
        "colab_type": "code",
        "colab": {}
      },
      "source": [
        "#del str\n",
        "pigs = []\n",
        "filenames_dict_pigs = {}\n",
        "str = \"./Pigmentation/Pigmentation_photos/Experiment 1/Spot 4\"    #photo directory on cloned repository for experimental pigmentation data\n",
        "\n",
        "\n",
        "for root, dirnames, filenames in os.walk(str): \n",
        "    #print(filenames)\n",
        "    for filename in filenames:   ####remember to update in order to avoid masks###\n",
        "           # print(filename, \"\\n\")\n",
        "      #if re.search('d*[^{r|f}].jpg', filename):\n",
        "            #n =  re.match(\"(.*)(2019)(\\d*_\\d*)_(.*)\", filename)\n",
        "            #key = n.group(3)\n",
        "\n",
        "            #key = datetime.strptime(key, '%m%d_%H%M%S')\n",
        "           # print(key, \" \")\n",
        "           # print(filename, \"\\n\")\n",
        "            #print(os.path.join(root, filename), \"\\n\")\n",
        "            #filenames_dict.update({key: os.path.join(root, filename)})\n",
        "            #print(filenames_dict, \"\\n\\n\")\n",
        "            n = re.match(\"(\\d*)\", filename)\n",
        "            #print(n.group(), \" \")\n",
        "            #print(filename, \"\\n\")\n",
        "            #print(os.path.join(root, filename), \"\\n\")\n",
        "            filenames_dict_pigs.update({int(n.group()): [os.path.join(root, filename), filename]})\n",
        "            #print(filenames_dict, \"\\n\\n\")\n",
        "#print(filenames_dict.keys(),\"\\n\")\n",
        "for key in sorted(filenames_dict_pigs.keys()):\n",
        "  #print(key,filenames_dict[key], \"\\n\")\n",
        "  image = plt.imread(filenames_dict_pigs[key][0])\n",
        "  \n",
        "  pigs+= [image]\n",
        "  \n",
        "  \n",
        "pigs = np.asarray(pigs)"
      ],
      "execution_count": 0,
      "outputs": []
    },
    {
      "cell_type": "code",
      "metadata": {
        "id": "i0kzi7y_Yf5R",
        "colab_type": "code",
        "outputId": "4789152f-6381-4b76-b3bb-96d89b17fa93",
        "colab": {
          "base_uri": "https://localhost:8080/",
          "height": 1000
        }
      },
      "source": [
        "#del str\n",
        "green_score = measure_score(pigs)\n"
      ],
      "execution_count": 210,
      "outputs": [
        {
          "output_type": "stream",
          "text": [
            "0 \n",
            "\n",
            "1 \n",
            "\n",
            "i = 1 delavg 2.444737\n",
            "i =  1 delavm 1.0518796384488918\n",
            "0 0 0.0 \n",
            "\n",
            "2 \n",
            "\n",
            "i = 2 delavg 1.4812952\n",
            "i =  2 delavm 1.7552968867740235\n",
            "0 0 0.0 \n",
            "\n",
            "3 \n",
            "\n",
            "i = 3 delavg 1.6442915\n",
            "i =  3 delavm 7.417702141914257\n",
            "0 0 0.0 \n",
            "\n",
            "4 \n",
            "\n",
            "i = 4 delavg 0.88656896\n",
            "i =  4 delavm 0.7058202561648493\n",
            "0.009486318 0.25487121330422013 0.13217876546940133 \n",
            "\n",
            "5 \n",
            "\n",
            "i = 5 delavg 0.9738218\n",
            "i =  5 delavm 0.6942252465710993\n",
            "-0.06380963 0.29722323110584226 0.11670679892541869 \n",
            "\n",
            "6 \n",
            "\n",
            "i = 6 delavg 0.83435714\n",
            "i =  6 delavm 0.6596158902577837\n",
            "0.009664178 0.23111123398164324 0.12038770593811776 \n",
            "\n",
            "7 \n",
            "\n",
            "i = 7 delavg 0.6375181\n",
            "i =  7 delavm 3.9020794938448224\n",
            "0.035803378 0 0.017901688814163208 \n",
            "\n",
            "8 \n",
            "\n",
            "i = 8 delavg 0.46304846\n",
            "i =  8 delavm 0.7150583036667418\n",
            "-0.019302547 0.24506846283564254 0.11288295792882286 \n",
            "\n",
            "9 \n",
            "\n",
            "i = 9 delavg 0.52370507\n",
            "i =  9 delavm 0.8865323563968793\n",
            "0.027959168 0 0.013979583978652954 \n",
            "\n",
            "10 \n",
            "\n",
            "i = 10 delavg 53.117065\n",
            "i =  10 delavm 0.8104692544479852\n",
            "0 0 0.0 \n",
            "\n",
            "11 \n",
            "\n",
            "i = 11 delavg 1.2187477\n",
            "i =  11 delavm 0.6026962236982846\n",
            "0 0.1040905606780349 0.05204528033901745 \n",
            "\n",
            "12 \n",
            "\n",
            "i = 12 delavg 0.9368215\n",
            "i =  12 delavm 0.6711695444812432\n",
            "0.03494662 0.27874535586390303 0.156845988164114 \n",
            "\n",
            "13 \n",
            "\n",
            "i = 13 delavg 0.3382216\n",
            "i =  13 delavm 0.8221280682642725\n",
            "0.025984168 0 0.01299208402633667 \n",
            "\n",
            "14 \n",
            "\n",
            "i = 14 delavg 4.2636037\n",
            "i =  14 delavm 1.1430391278372\n",
            "0 0 0.0 \n",
            "\n",
            "15 \n",
            "\n",
            "i = 15 delavg 3.6720648\n",
            "i =  15 delavm 4.107196700468229\n",
            "0 0 0.0 \n",
            "\n",
            "16 \n",
            "\n",
            "i = 16 delavg 1.1086414\n",
            "i =  16 delavm 1.3184156748091345\n",
            "0 0 0.0 \n",
            "\n",
            "17 \n",
            "\n",
            "i = 17 delavg 0.9885871\n",
            "i =  17 delavm 0.8171778995814087\n",
            "0.03742999 0 0.018714994192123413 \n",
            "\n",
            "18 \n",
            "\n",
            "i = 18 delavg 0.96717966\n",
            "i =  18 delavm 1.0617685830445311\n",
            "0.026794553 0 0.013397276401519775 \n",
            "\n",
            "19 \n",
            "\n",
            "i = 19 delavg 4.251839\n",
            "i =  19 delavm 0.694560743631963\n",
            "0 0.21175091711157812 0.10587545855578906 \n",
            "\n",
            "20 \n",
            "\n",
            "i = 20 delavg 2.7005033\n",
            "i =  20 delavm 0.6918168041921635\n",
            "0 0.2788710325906214 0.1394355162953107 \n",
            "\n",
            "21 \n",
            "\n",
            "i = 21 delavg 0.16701505\n",
            "i =  21 delavm 0.6533886033655092\n",
            "-0.0143716335 0.25948461949787127 0.12255649298410409 \n",
            "\n",
            "22 \n",
            "\n",
            "i = 22 delavg 0.7196806\n",
            "i =  22 delavm 0.6348000352496137\n",
            "0.02769202 0.17027626873473878 0.09898414433708069 \n",
            "\n",
            "23 \n",
            "\n",
            "i = 23 delavg 0.018984884\n",
            "i =  23 delavm 0.8066311412444488\n",
            "0.025779128 0 0.012889564037322998 \n",
            "\n",
            "24 \n",
            "\n",
            "i = 24 delavg 1.0341343\n",
            "i =  24 delavm 0.9084984642447747\n",
            "0.05889696 0 0.029448479413986206 \n",
            "\n",
            "25 \n",
            "\n",
            "i = 25 delavg 0.7801764\n",
            "i =  25 delavm 0.6802248349554688\n",
            "0.0547024 0.15319671284739123 0.10394955700429254 \n",
            "\n",
            "26 \n",
            "\n",
            "i = 26 delavg 1.5399444\n",
            "i =  26 delavm 0.6894213379685791\n",
            "0 0.3226429838076954 0.1613214919038477 \n",
            "\n",
            "27 \n",
            "\n",
            "i = 27 delavg 1.4122654\n",
            "i =  27 delavm 0.7056370091922527\n",
            "0 0.24452317950485192 0.12226158975242596 \n",
            "\n"
          ],
          "name": "stdout"
        }
      ]
    },
    {
      "cell_type": "code",
      "metadata": {
        "id": "v6C2gS0hYsew",
        "colab_type": "code",
        "outputId": "46896efc-ba3d-4c73-a8df-3b0dd74fb6cc",
        "colab": {
          "base_uri": "https://localhost:8080/",
          "height": 298
        }
      },
      "source": [
        "\n",
        "green_score = 255*green_score\n",
        "\n",
        "plt.plot(green_score, 'g-')\n",
        "\n",
        "plt.title('Experiment 1, Spot 4')"
      ],
      "execution_count": 211,
      "outputs": [
        {
          "output_type": "execute_result",
          "data": {
            "text/plain": [
              "Text(0.5, 1.0, 'Experiment 1, Spot 4')"
            ]
          },
          "metadata": {
            "tags": []
          },
          "execution_count": 211
        },
        {
          "output_type": "display_data",
          "data": {
            "image/png": "[encoded data removed]",
            "text/plain": [
              "<Figure size 432x288 with 1 Axes>"
            ]
          },
          "metadata": {
            "tags": []
          }
        }
      ]
    },
    {
      "cell_type": "code",
      "metadata": {
        "id": "Y-yJgTWi1WTn",
        "colab_type": "code",
        "colab": {
          "base_uri": "https://localhost:8080/",
          "height": 118
        },
        "outputId": "b37ed812-6bf6-498d-b241-d1e77b2e0889"
      },
      "source": [
        "green_score"
      ],
      "execution_count": 212,
      "outputs": [
        {
          "output_type": "execute_result",
          "data": {
            "text/plain": [
              "array([ 0.        ,  0.        ,  0.        ,  0.        , 33.70558519,\n",
              "       29.76023373, 30.69886501,  4.56493065, 28.78515427,  3.56479391,\n",
              "        0.        , 13.27154649, 39.99572698,  3.31298143,  0.        ,\n",
              "        0.        ,  0.        ,  4.77232352,  3.41630548, 26.99824193,\n",
              "       35.55605666, 31.25190571, 25.24095681,  3.28683883,  7.50936225,\n",
              "       26.50713704, 41.13698044, 31.17670539])"
            ]
          },
          "metadata": {
            "tags": []
          },
          "execution_count": 212
        }
      ]
    },
    {
      "cell_type": "code",
      "metadata": {
        "id": "pA1jdisIY6Hh",
        "colab_type": "code",
        "colab": {
          "base_uri": "https://localhost:8080/",
          "height": 319
        },
        "outputId": "4d74fb35-418e-49b2-e0bc-335bbb91d2cf"
      },
      "source": [
        "import numpy as np\n",
        "from scipy import ndimage, misc\n",
        "import re\n",
        "import os\n",
        "from datetime import datetime\n",
        "import matplotlib.pyplot as plt\n",
        "import skimage\n",
        "import cv2\n",
        "\n",
        "#image = cv2.resize(pigs[0], (640,480))\n",
        "\n",
        "#print(image.shape)\n",
        "pigs = []\n",
        "  ##set the first day of experiment 2 to the last day of experiment 1 \n",
        "filenames_dict = {}\n",
        "str = \"./Pigmentation/Pigmentation_photos/Experiment 2/Spot 4\"    #photo directory on cloned repository for experimental pigmentation data\n",
        "\n",
        "\n",
        "for root, dirnames, filenames in os.walk(str): \n",
        "    #print(filenames)\n",
        "    for filename in filenames:\n",
        "           # print(filename, \"\\n\")\n",
        "      #if re.search('d*[^{r|f}].jpg', filename):\n",
        "            n =  re.match(\"(.*)(2019)(\\d*_\\d*)_(.*)\", filename)\n",
        "            if n:\n",
        "              key = n.group(3)\n",
        "\n",
        "              key = datetime.strptime(key, '%m%d_%H%M%S')\n",
        "           # print(key, \" \")\n",
        "           # print(filename, \"\\n\")\n",
        "            #print(os.path.join(root, filename), \"\\n\")\n",
        "              filenames_dict.update({key: os.path.join(root, filename)})\n",
        "            #print(filenames_dict, \"\\n\\n\")\n",
        "#print(filenames_dict.keys(),\"\\n\")\n",
        "for key in sorted(filenames_dict.keys()):\n",
        "  #print(key,filenames_dict[key], \"\\n\")\n",
        "  image = plt.imread(filenames_dict[key])\n",
        "  #image = skimage.transform.resize(image, (192,256,3))  \n",
        "  print(image.shape)\n",
        "\n",
        "  pigs+= [image]\n",
        "  \n",
        "  \n",
        "pigs = np.asarray(pigs)\n",
        "g0 = pigs[0][:,:,1].reshape(-1)  #- 3*imagen[:,:,1].reshape(-1)/8\n",
        "b0 = pigs[0][:,:,2].reshape(-1)"
      ],
      "execution_count": 213,
      "outputs": [
        {
          "output_type": "stream",
          "text": [
            "(480, 640, 3)\n",
            "(480, 640, 3)\n",
            "(480, 640, 3)\n",
            "(480, 640, 3)\n",
            "(480, 640, 3)\n",
            "(480, 640, 3)\n",
            "(480, 640, 3)\n",
            "(480, 640, 3)\n",
            "(480, 640, 3)\n",
            "(480, 640, 3)\n",
            "(480, 640, 3)\n",
            "(480, 640, 3)\n",
            "(480, 640, 3)\n",
            "(480, 640, 3)\n",
            "(480, 640, 3)\n",
            "(480, 640, 3)\n",
            "(480, 640, 3)\n",
            "(480, 640, 3)\n"
          ],
          "name": "stdout"
        }
      ]
    },
    {
      "cell_type": "code",
      "metadata": {
        "id": "AQ1vdhq6Er7y",
        "colab_type": "code",
        "colab": {
          "base_uri": "https://localhost:8080/",
          "height": 34
        },
        "outputId": "62c9462a-3a66-4244-bb2c-8112b6fe4fef"
      },
      "source": [
        "pigs.shape"
      ],
      "execution_count": 214,
      "outputs": [
        {
          "output_type": "execute_result",
          "data": {
            "text/plain": [
              "(18, 480, 640, 3)"
            ]
          },
          "metadata": {
            "tags": []
          },
          "execution_count": 214
        }
      ]
    },
    {
      "cell_type": "code",
      "metadata": {
        "id": "XNg9Ygz3aIqy",
        "colab_type": "code",
        "colab": {
          "base_uri": "https://localhost:8080/",
          "height": 1000
        },
        "outputId": "6ed18e62-c721-4958-f0db-7ee14f31182a"
      },
      "source": [
        "#del str\n",
        "green_score = measure_score(pigs)"
      ],
      "execution_count": 215,
      "outputs": [
        {
          "output_type": "stream",
          "text": [
            "0 \n",
            "\n",
            "1 \n",
            "\n",
            "i = 1 delavg 0.02630205704203132\n",
            "i =  1 delavm 0.5088325453982125\n",
            "15.283183593749982 -5.771294182909173 4.755944705420404 \n",
            "\n",
            "2 \n",
            "\n",
            "i = 2 delavg 0.1699502493941451\n",
            "i =  2 delavm 0.567922376426864\n",
            "23.35608072916665 -34.46330529502232 -5.553612282927837 \n",
            "\n",
            "3 \n",
            "\n",
            "i = 3 delavg 1.3313664765009465\n",
            "i =  3 delavm 1.1953074409294564\n",
            "0 0 0.0 \n",
            "\n",
            "4 \n",
            "\n",
            "i = 4 delavg 0.5183236634840549\n",
            "i =  4 delavm 0.453562642743584\n",
            "21.325257161458325 -64.08476946193433 -21.379756150238002 \n",
            "\n",
            "5 \n",
            "\n",
            "i = 5 delavg 0.7257662817049493\n",
            "i =  5 delavm 0.8147092511036472\n",
            "26.212529296874976 0 13.106264648437488 \n",
            "\n",
            "6 \n",
            "\n",
            "i = 6 delavg 0.5994320671999158\n",
            "i =  6 delavm 1.326212824501703\n",
            "26.99849934895832 0 13.49924967447916 \n",
            "\n",
            "7 \n",
            "\n",
            "i = 7 delavg 0.8408288645414411\n",
            "i =  7 delavm 1.0263480131003204\n",
            "27.660361328124992 0 13.830180664062496 \n",
            "\n",
            "8 \n",
            "\n",
            "i = 8 delavg 0.754546320902405\n",
            "i =  8 delavm 0.596917650687449\n",
            "32.79143880208332 -73.52814964066344 -20.36835541929006 \n",
            "\n",
            "9 \n",
            "\n",
            "i = 9 delavg 0.761680457206476\n",
            "i =  9 delavm 0.9094674515300942\n",
            "29.753264973958323 0 14.876632486979162 \n",
            "\n",
            "10 \n",
            "\n",
            "i = 10 delavg 0.7298846286723617\n",
            "i =  10 delavm 2.3579939107163534\n",
            "24.08324218749999 0 12.041621093749995 \n",
            "\n",
            "11 \n",
            "\n",
            "i = 11 delavg 1.1521562914390597\n",
            "i =  11 delavm 1.2324015532745998\n",
            "0 0 0.0 \n",
            "\n",
            "12 \n",
            "\n",
            "i = 12 delavg 1.286577846581241\n",
            "i =  12 delavm 1.2764791389173085\n",
            "0 0 0.0 \n",
            "\n",
            "13 \n",
            "\n",
            "i = 13 delavg 0.7708485404819538\n",
            "i =  13 delavm 0.8384064155252193\n",
            "22.54295898437499 0 11.271479492187495 \n",
            "\n",
            "14 \n",
            "\n",
            "i = 14 delavg 0.991852622524407\n",
            "i =  14 delavm 1.2404588219475532\n",
            "17.24896809895833 0 8.624484049479165 \n",
            "\n",
            "15 \n",
            "\n",
            "i = 15 delavg 0.8522640086137426\n",
            "i =  15 delavm 1.0856132870878388\n",
            "26.25407552083331 0 13.127037760416655 \n",
            "\n",
            "16 \n",
            "\n",
            "i = 16 delavg 1.1793168492005406\n",
            "i =  16 delavm 0.8368099680431885\n",
            "0 0 0.0 \n",
            "\n",
            "17 \n",
            "\n",
            "i = 17 delavg 0.9006500025085574\n",
            "i =  17 delavm 1.0107472137204763\n",
            "29.586223958333335 0 14.793111979166667 \n",
            "\n"
          ],
          "name": "stdout"
        }
      ]
    },
    {
      "cell_type": "code",
      "metadata": {
        "id": "XKDbbeJDaOfG",
        "colab_type": "code",
        "outputId": "0a991222-81aa-4cf2-f34b-f87ada52277a",
        "colab": {
          "base_uri": "https://localhost:8080/",
          "height": 298
        }
      },
      "source": [
        "\n",
        "\n",
        "plt.plot(green_score, 'g-')\n",
        "\n",
        "plt.title('Experiment 2, Spot 4')"
      ],
      "execution_count": 216,
      "outputs": [
        {
          "output_type": "execute_result",
          "data": {
            "text/plain": [
              "Text(0.5, 1.0, 'Experiment 2, Spot 4')"
            ]
          },
          "metadata": {
            "tags": []
          },
          "execution_count": 216
        },
        {
          "output_type": "display_data",
          "data": {
            "image/png": "[encoded data removed]",
            "text/plain": [
              "<Figure size 432x288 with 1 Axes>"
            ]
          },
          "metadata": {
            "tags": []
          }
        }
      ]
    },
    {
      "cell_type": "code",
      "metadata": {
        "id": "_gxSHqX2TINk",
        "colab_type": "code",
        "colab": {
          "base_uri": "https://localhost:8080/",
          "height": 101
        },
        "outputId": "d74e35f9-70dd-48a9-fa43-c4d54b9fc93c"
      },
      "source": [
        "green_score"
      ],
      "execution_count": 217,
      "outputs": [
        {
          "output_type": "execute_result",
          "data": {
            "text/plain": [
              "array([  0.        ,   4.75594471,  -5.55361228,   0.        ,\n",
              "       -21.37975615,  13.10626465,  13.49924967,  13.83018066,\n",
              "       -20.36835542,  14.87663249,  12.04162109,   0.        ,\n",
              "         0.        ,  11.27147949,   8.62448405,  13.12703776,\n",
              "         0.        ,  14.79311198])"
            ]
          },
          "metadata": {
            "tags": []
          },
          "execution_count": 217
        }
      ]
    },
    {
      "cell_type": "code",
      "metadata": {
        "id": "UFA5AXNbaVvH",
        "colab_type": "code",
        "colab": {}
      },
      "source": [
        "pigs = []\n",
        "filenames_dict = {}\n",
        "str = \"./Pigmentation/Pigmentation_photos/Experiment 2/Spot 2\"    #photo directory on cloned repository for experimental pigmentation data\n",
        "\n",
        "\n",
        "for root, dirnames, filenames in os.walk(str): \n",
        "    #print(filenames)\n",
        "    for filename in filenames:\n",
        "           # print(filename, \"\\n\")\n",
        "      #if re.search('d*[^{r|f}].jpg', filename):\n",
        "            n =  re.match(\"(.*)(2019)(\\d*_\\d*)_(.*)\", filename)\n",
        "            if n:\n",
        "              key = n.group(3)\n",
        "\n",
        "              key = datetime.strptime(key, '%m%d_%H%M%S')\n",
        "           # print(key, \" \")\n",
        "           # print(filename, \"\\n\")\n",
        "            #print(os.path.join(root, filename), \"\\n\")\n",
        "              filenames_dict.update({key: os.path.join(root, filename)})\n",
        "            #print(filenames_dict, \"\\n\\n\")\n",
        "#print(filenames_dict.keys(),\"\\n\")\n",
        "for key in sorted(filenames_dict.keys()):\n",
        "  #print(key,filenames_dict[key], \"\\n\")\n",
        "  image = plt.imread(filenames_dict[key])\n",
        "  #image = skimage.transform.resize(image, (192,256,3))  \n",
        "  \n",
        "  pigs+= [image]\n",
        "  \n",
        "  \n",
        "pigs = np.asarray(pigs)"
      ],
      "execution_count": 0,
      "outputs": []
    },
    {
      "cell_type": "code",
      "metadata": {
        "id": "_XR8HBTTf-o2",
        "colab_type": "code",
        "colab": {
          "base_uri": "https://localhost:8080/",
          "height": 1000
        },
        "outputId": "6f173b21-d37a-4ac2-c4f9-885eed37b39f"
      },
      "source": [
        "green_score = measure_score(pigs, )"
      ],
      "execution_count": 219,
      "outputs": [
        {
          "output_type": "stream",
          "text": [
            "0 \n",
            "\n",
            "1 \n",
            "\n",
            "i = 1 delavg 0.7827061372092886\n",
            "i =  1 delavm 0.7256314056541749\n",
            "-8.216614583333325 36.714848202510254 14.249116809588465 \n",
            "\n",
            "2 \n",
            "\n",
            "i = 2 delavg 1.0652073960311683\n",
            "i =  2 delavm 0.7441582371246475\n",
            "-26.924807942708327 65.3684694139126 19.22183073560214 \n",
            "\n",
            "3 \n",
            "\n",
            "i = 3 delavg 0.783592689074783\n",
            "i =  3 delavm 2.4030285747417426\n",
            "17.75043945312501 0 8.875219726562506 \n",
            "\n",
            "4 \n",
            "\n",
            "i = 4 delavg 1.4276055726191377\n",
            "i =  4 delavm 0.9082544283169917\n",
            "0 0 0.0 \n",
            "\n",
            "5 \n",
            "\n",
            "i = 5 delavg 4.475916974161102\n",
            "i =  5 delavm 0.9802779565931259\n",
            "0 0 0.0 \n",
            "\n",
            "6 \n",
            "\n",
            "i = 6 delavg 1.636751383825052\n",
            "i =  6 delavm 1.2118049564926223\n",
            "0 0 0.0 \n",
            "\n",
            "7 \n",
            "\n",
            "i = 7 delavg 0.8449682745445848\n",
            "i =  7 delavm 0.8094593386114107\n",
            "-13.359244791666669 0 -6.679622395833334 \n",
            "\n",
            "8 \n",
            "\n",
            "i = 8 delavg 0.8934944626844662\n",
            "i =  8 delavm 0.7795145506076764\n",
            "-25.66923828124999 74.74286701903846 24.536814368894234 \n",
            "\n",
            "9 \n",
            "\n",
            "i = 9 delavg 2.558039773831718\n",
            "i =  9 delavm 2.723874939899871\n",
            "0 0 0.0 \n",
            "\n",
            "10 \n",
            "\n",
            "i = 10 delavg 2.097986538178648\n",
            "i =  10 delavm 4.051846744839353\n",
            "0 0 0.0 \n",
            "\n",
            "11 \n",
            "\n",
            "i = 11 delavg 0.5895183934404588\n",
            "i =  11 delavm 0.6116021145588872\n",
            "-18.848183593750008 54.40340290162284 17.777609653936416 \n",
            "\n",
            "12 \n",
            "\n",
            "i = 12 delavg 0.8397345229571367\n",
            "i =  12 delavm 0.7358348011196896\n",
            "-26.091494140625002 72.56774745486955 23.238126657122272 \n",
            "\n",
            "13 \n",
            "\n",
            "i = 13 delavg 1.3604316489706216\n",
            "i =  13 delavm 0.8263944324373893\n",
            "0 0 0.0 \n",
            "\n",
            "14 \n",
            "\n",
            "i = 14 delavg 0.7680745678090114\n",
            "i =  14 delavm 1.145183976223298\n",
            "-13.003404947916664 0 -6.501702473958332 \n",
            "\n",
            "15 \n",
            "\n",
            "i = 15 delavg 1.2150847065081296\n",
            "i =  15 delavm 0.8342829075481932\n",
            "0 0 0.0 \n",
            "\n",
            "16 \n",
            "\n",
            "i = 16 delavg 1.8395280660044762\n",
            "i =  16 delavm 15.094530975005013\n",
            "0 0 0.0 \n",
            "\n",
            "17 \n",
            "\n",
            "i = 17 delavg 2.7184742668299715\n",
            "i =  17 delavm 2.2356316954520357\n",
            "0 0 0.0 \n",
            "\n"
          ],
          "name": "stdout"
        }
      ]
    },
    {
      "cell_type": "code",
      "metadata": {
        "id": "N8q591cbf_6U",
        "colab_type": "code",
        "outputId": "ebb3c9ed-2918-4fb8-8578-bca51fd6d96e",
        "colab": {
          "base_uri": "https://localhost:8080/",
          "height": 298
        }
      },
      "source": [
        "\n",
        "plt.plot(green_score, 'g-')\n",
        "#plt.plot(blue, 'b-')\n",
        "plt.title('Experiment 2, Spot 2')"
      ],
      "execution_count": 220,
      "outputs": [
        {
          "output_type": "execute_result",
          "data": {
            "text/plain": [
              "Text(0.5, 1.0, 'Experiment 2, Spot 2')"
            ]
          },
          "metadata": {
            "tags": []
          },
          "execution_count": 220
        },
        {
          "output_type": "display_data",
          "data": {
            "image/png": "[encoded data removed]",
            "text/plain": [
              "<Figure size 432x288 with 1 Axes>"
            ]
          },
          "metadata": {
            "tags": []
          }
        }
      ]
    },
    {
      "cell_type": "code",
      "metadata": {
        "id": "DLwSE_ePgNcK",
        "colab_type": "code",
        "colab": {}
      },
      "source": [
        ""
      ],
      "execution_count": 0,
      "outputs": []
    }
  ]
}