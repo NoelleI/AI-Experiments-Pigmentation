{
  "nbformat": 4,
  "nbformat_minor": 0,
  "metadata": {
    "colab": {
      "name": "redness.ipynb",
      "provenance": [],
      "authorship_tag": "ABX9TyMWXJoceRvXHe4+sDKulVZK",
      "include_colab_link": true
    },
    "kernelspec": {
      "name": "python3",
      "display_name": "Python 3"
    }
  },
  "cells": [
    {
      "cell_type": "markdown",
      "metadata": {
        "id": "view-in-github",
        "colab_type": "text"
      },
      "source": [
        "<a href=\"https://colab.research.google.com/github/NoelleI/AI-Experiments-Pigmentation/blob/master/redness.ipynb\" target=\"_parent\"><img src=\"https://colab.research.google.com/assets/colab-badge.svg\" alt=\"Open In Colab\"/></a>"
      ]
    },
    {
      "cell_type": "code",
      "metadata": {
        "id": "_TjczdQjEdMw",
        "colab_type": "code",
        "outputId": "18e54a21-97a8-4663-9400-0d1dc0b5e00d",
        "colab": {
          "base_uri": "https://localhost:8080/",
          "height": 134
        }
      },
      "source": [
        "!git clone https://github.com/NoelleI/Pigmentation.git"
      ],
      "execution_count": 1,
      "outputs": [
        {
          "output_type": "stream",
          "text": [
            "Cloning into 'Pigmentation'...\n",
            "remote: Enumerating objects: 145, done.\u001b[K\n",
            "remote: Counting objects: 100% (145/145), done.\u001b[K\n",
            "remote: Compressing objects: 100% (138/138), done.\u001b[K\n",
            "remote: Total 725 (delta 44), reused 71 (delta 5), pack-reused 580\n",
            "Receiving objects: 100% (725/725), 91.22 MiB | 28.89 MiB/s, done.\n",
            "Resolving deltas: 100% (249/249), done.\n"
          ],
          "name": "stdout"
        }
      ]
    },
    {
      "cell_type": "code",
      "metadata": {
        "id": "sOy_90rrEnXe",
        "colab_type": "code",
        "colab": {}
      },
      "source": [
        "import numpy as np\n",
        "from scipy import ndimage, misc\n",
        "import re\n",
        "import os\n",
        "from datetime import datetime\n",
        "import matplotlib.pyplot as plt\n",
        "import skimage\n",
        "\n",
        "\n",
        "pigs = []\n",
        "filenames_dict = {}\n",
        "str = \"./Pigmentation/Pigmentation_photos/Experiment 2/Spot 1\"    #photo directory on cloned repository for experimental pigmentation data\n",
        "\n",
        "\n",
        "for root, dirnames, filenames in os.walk(str): \n",
        "    #print(filenames)\n",
        "    for filename in filenames:\n",
        "           # print(filename, \"\\n\")\n",
        "      #if re.search('d*[^{r|f}].jpg', filename):\n",
        "            n =  re.match(\"(.*)(2019)(\\d*_\\d*)_(.*)\", filename)\n",
        "            if n:\n",
        "              key = n.group(3)\n",
        "\n",
        "              key = datetime.strptime(key, '%m%d_%H%M%S')\n",
        "           # print(key, \" \")\n",
        "           # print(filename, \"\\n\")\n",
        "            #print(os.path.join(root, filename), \"\\n\")\n",
        "              filenames_dict.update({key: os.path.join(root, filename)})\n",
        "            #print(filenames_dict, \"\\n\\n\")\n",
        "#print(filenames_dict.keys(),\"\\n\")\n",
        "for key in sorted(filenames_dict.keys()):\n",
        "  #print(key,filenames_dict[key], \"\\n\")\n",
        "  image = plt.imread(filenames_dict[key])\n",
        "  #image = skimage.transform.resize(image, (192,256,3))  \n",
        "  \n",
        "  pigs+= [image]\n",
        "  \n",
        "  \n",
        "pigs = np.asarray(pigs)"
      ],
      "execution_count": 0,
      "outputs": []
    },
    {
      "cell_type": "code",
      "metadata": {
        "id": "ZRCArkx-FqWE",
        "colab_type": "code",
        "outputId": "fe0b00fa-0b25-49dd-a42b-7b21b79c04ec",
        "colab": {
          "base_uri": "https://localhost:8080/",
          "height": 319
        }
      },
      "source": [
        "filenames"
      ],
      "execution_count": 46,
      "outputs": [
        {
          "output_type": "execute_result",
          "data": {
            "text/plain": [
              "['1_F_43_XX_25_20190228_214705_FA101129_0100_SPOTS_57_SPOTS#01_S_UnitedStates_CND_TRXXURXX_FR57.jpg',\n",
              " '1_F_43_XX_25_20190226_224523_FA101129_0100_SPOTS_24_SPOTS#01_S_UnitedStates_CND_TRXXURXX_FR24.jpg',\n",
              " '1_F_43_XX_25_20190223_170715_FA101129_0100_SPOTS_XX_SPOTS#01_S_UnitedStates_CND_XX.jpg',\n",
              " '1_F_43_XX_25_20190225_100933_FA101129_0100_SPOTS_71_SPOTS#01_S_UnitedStates_CND_TRXXURXX_FR71.jpg',\n",
              " '1_F_43_XX_25_20190306_230513_FA101129_0100_SPOTS_64_SPOTS#01_S_UnitedStates_CND_TRXXURXX_FR64.jpg',\n",
              " '1_F_43_XX_25_20190310_203414_FA101129_0100_SPOTS_60_SPOTS#01_S_UnitedStates_CND_TRXXURXX_FR60.jpg',\n",
              " '1_F_43_XX_25_20190227_212058_FA101129_0100_SPOTS_51_SPOTS#01_S_UnitedStates_CND_TRXXURXX_FR51.jpg',\n",
              " '1_F_43_XX_25_20190301_083613_FA101129_0100_SPOTS_81_SPOTS#01_S_UnitedStates_CND_TRXXURXX_FR81.jpg',\n",
              " '1_F_43_XX_25_20190228_083804_FA101129_0100_SPOTS_74_SPOTS#01_S_UnitedStates_CND_TRXXURXX_FR74.jpg',\n",
              " '1_F_43_XX_25_20190310_104002_FA101129_0100_SPOTS_86_SPOTS#01_S_UnitedStates_CND_TRXXURXX_FR86.jpg',\n",
              " '1_F_43_XX_25_20190304_205823_FA101129_0100_SPOTS_52_SPOTS#01_S_UnitedStates_CND_TRXXURXX_FR52.jpg',\n",
              " '1_F_43_XX_25_20190307_083311_FA101129_0100_SPOTS_58_SPOTS#01_S_UnitedStates_CND_TRXXURXX_FR58.jpg',\n",
              " '1_F_43_XX_25_20190303_224859_FA101129_0100_SPOTS_57_SPOTS#01_S_UnitedStates_CND_TRXXURXX_FR57.jpg',\n",
              " '1_F_43_XX_25_20190226_094300_FA101129_0100_SPOTS_74_SPOTS#01_S_UnitedStates_CND_TRXXURXX_FR74.jpg',\n",
              " '1_F_43_XX_25_20190320_072610_FA101129_0100_SPOTS_58_SPOTS#01_S_UnitedStates_CND_TRXXURXX_FR58.jpg',\n",
              " '1_F_43_XX_25_20190319_085424_FA101129_0100_SPOTS_57_SPOTS#01_S_UnitedStates_CND_TRXXURXX_FR57.jpg',\n",
              " '1_F_43_XX_25_20190311_101537_FA101129_0100_SPOTS_67_SPOTS#01_S_UnitedStates_CND_TRXXURXX_FR67.jpg',\n",
              " '1_F_43_XX_25_20190227_073748_FA101129_0100_SPOTS_58_SPOTS#01_S_UnitedStates_CND_TRXXURXX_FR58.jpg']"
            ]
          },
          "metadata": {
            "tags": []
          },
          "execution_count": 46
        }
      ]
    },
    {
      "cell_type": "code",
      "metadata": {
        "id": "vzhFKdiIF2kp",
        "colab_type": "code",
        "outputId": "c8f5ad15-448a-4c8c-96cf-03f49ed2f857",
        "colab": {
          "base_uri": "https://localhost:8080/",
          "height": 34
        }
      },
      "source": [
        "len(pigs)"
      ],
      "execution_count": 47,
      "outputs": [
        {
          "output_type": "execute_result",
          "data": {
            "text/plain": [
              "18"
            ]
          },
          "metadata": {
            "tags": []
          },
          "execution_count": 47
        }
      ]
    },
    {
      "cell_type": "code",
      "metadata": {
        "id": "0SnQ0cEXGFg7",
        "colab_type": "code",
        "outputId": "163d3ad7-42b8-4ea6-9a39-6c835997d85b",
        "colab": {
          "base_uri": "https://localhost:8080/",
          "height": 34
        }
      },
      "source": [
        "pigs.shape"
      ],
      "execution_count": 48,
      "outputs": [
        {
          "output_type": "execute_result",
          "data": {
            "text/plain": [
              "(18, 480, 640, 3)"
            ]
          },
          "metadata": {
            "tags": []
          },
          "execution_count": 48
        }
      ]
    },
    {
      "cell_type": "code",
      "metadata": {
        "id": "Gv9gNCYvJH3r",
        "colab_type": "code",
        "colab": {}
      },
      "source": [
        "import pandas as pd\n",
        "from scipy import stats\n",
        "#del str\n",
        "def measure_score(pigs): \n",
        "  \n",
        "    score = []\n",
        "\n",
        "    i = 0\n",
        "    \n",
        "\n",
        "    for pig in pigs:\n",
        "       \n",
        "        g = pig[:,:,1].reshape(-1)  #- 3*imagen[:,:,1].reshape(-1)/8\n",
        "        b = pig[:,:,1].reshape(-1)\n",
        "       \n",
        "        \n",
        "      \n",
        "\n",
        "\n",
        "       \n",
        "        \n",
        "        \n",
        "      \n",
        "\n",
        "        \n",
        "        \n",
        "        \n",
        "\n",
        "        if i > 0:\n",
        "\n",
        "          mg = np.min(g)               ###may need to scroll over earlier days ###\n",
        "          ag = np.mean(g)\n",
        "          #sg = stats.skew(g)\n",
        "\n",
        "          mg_last = np.min(g_last)\n",
        "          ag_last = np.mean(g_last)\n",
        "          #sg = stats.skew(g_last)\n",
        " \n",
        "          mb = np.min(b)\n",
        "          ab = np.mean(b)\n",
        "          \n",
        "          mb_last = np.min(b_last)\n",
        "          ab_last = np.mean(b_last)\n",
        "\n",
        "          delba = np.abs(ab-ab_last)\n",
        "          delbm = np.abs(mb - mb_last)\n",
        "\n",
        "          delga = np.abs(ag -ag_last)\n",
        "          delgm = np.abs(mg - mg_last)\n",
        "\n",
        "          print(\"i\\n\", i)\n",
        "          print(\"here2\", 1*10**3.1/1*10**3.1, \"\\n\")\n",
        "          print(delba/delga, \"\\n\\n\", delba, delga,  )\n",
        "\n",
        "          if delba/delga >= 1*10**3.1/1*10**3.1:\n",
        "            print(\"here\", 1*10**3.1/1*10**3.1)\n",
        "            sca = 0\n",
        "          else:\n",
        "            sca = delga\n",
        "\n",
        "          if delbm/delgm >= 1*10**3.1/1*10**3.1:\n",
        "            print(\"here\", 1*10**3.1/1*10**3.1)\n",
        "            scm = 0\n",
        "          else:\n",
        "            scm = delgm\n",
        "\n",
        "          sc = sca + scm\n",
        "\n",
        "          \n",
        "\n",
        "\n",
        "\n",
        "\n",
        "            \n",
        "          \n",
        "\n",
        "        else:\n",
        "          sc = 0\n",
        "          g_last = g\n",
        "          b_last = b\n",
        "          print(\"here\")\n",
        "\n",
        "        \n",
        "       \n",
        "        score += [sc]\n",
        "        \n",
        "        i += 1\n",
        "       \n",
        "      \n",
        "        \n",
        "    \n",
        "    green_score = np.array(score)\n",
        "    \n",
        "    return(green_score)\n",
        "        "
      ],
      "execution_count": 0,
      "outputs": []
    },
    {
      "cell_type": "code",
      "metadata": {
        "id": "oMNh6vMFMnc7",
        "colab_type": "code",
        "colab": {
          "base_uri": "https://localhost:8080/",
          "height": 1000
        },
        "outputId": "0b3bac4b-b9e3-4137-f76d-2c114b55d3ba"
      },
      "source": [
        "green_score = measure_score(pigs)"
      ],
      "execution_count": 70,
      "outputs": [
        {
          "output_type": "stream",
          "text": [
            "here\n",
            "i\n",
            " 1\n",
            "here2 1584893.1924611144 \n",
            "\n",
            "1.0 \n",
            "\n",
            " 8.82895182291665 8.82895182291665\n",
            "i\n",
            " 2\n",
            "here2 1584893.1924611144 \n",
            "\n",
            "1.0 \n",
            "\n",
            " 13.16781901041665 13.16781901041665\n",
            "i\n",
            " 3\n",
            "here2 1584893.1924611144 \n",
            "\n",
            "1.0 \n",
            "\n",
            " 11.316188151041672 11.316188151041672\n",
            "i\n",
            " 4\n",
            "here2 1584893.1924611144 \n",
            "\n",
            "1.0 \n",
            "\n",
            " 9.289404296874977 9.289404296874977\n",
            "i\n",
            " 5\n",
            "here2 1584893.1924611144 \n",
            "\n",
            "1.0 \n",
            "\n",
            " 5.009108072916689 5.009108072916689\n",
            "i\n",
            " 6\n",
            "here2 1584893.1924611144 \n",
            "\n",
            "1.0 \n",
            "\n",
            " 17.548277994791647 17.548277994791647\n",
            "i\n",
            " 7\n",
            "here2 1584893.1924611144 \n",
            "\n",
            "1.0 \n",
            "\n",
            " 7.050065104166663 7.050065104166663\n",
            "i\n",
            " 8\n",
            "here2 1584893.1924611144 \n",
            "\n",
            "1.0 \n",
            "\n",
            " 24.841513671874992 24.841513671874992\n",
            "i\n",
            " 9\n",
            "here2 1584893.1924611144 \n",
            "\n",
            "1.0 \n",
            "\n",
            " 6.790449218749984 6.790449218749984\n",
            "i\n",
            " 10\n",
            "here2 1584893.1924611144 \n",
            "\n",
            "1.0 \n",
            "\n",
            " 5.744365234374982 5.744365234374982\n",
            "i\n",
            " 11\n",
            "here2 1584893.1924611144 \n",
            "\n",
            "1.0 \n",
            "\n",
            " 10.071748046875001 10.071748046875001\n",
            "i\n",
            " 12\n",
            "here2 1584893.1924611144 \n",
            "\n",
            "1.0 \n",
            "\n",
            " 8.40400716145831 8.40400716145831\n",
            "i\n",
            " 13\n",
            "here2 1584893.1924611144 \n",
            "\n",
            "1.0 \n",
            "\n",
            " 16.241673177083328 16.241673177083328\n",
            "i\n",
            " 14\n",
            "here2 1584893.1924611144 \n",
            "\n",
            "1.0 \n",
            "\n",
            " 17.554016927083325 17.554016927083325\n",
            "i\n",
            " 15\n",
            "here2 1584893.1924611144 \n",
            "\n",
            "1.0 \n",
            "\n",
            " 6.604921875000002 6.604921875000002\n",
            "i\n",
            " 16\n",
            "here2 1584893.1924611144 \n",
            "\n",
            "1.0 \n",
            "\n",
            " 4.8987207031249795 4.8987207031249795\n",
            "i\n",
            " 17\n",
            "here2 1584893.1924611144 \n",
            "\n",
            "1.0 \n",
            "\n",
            " 8.309873046874998 8.309873046874998\n"
          ],
          "name": "stdout"
        },
        {
          "output_type": "stream",
          "text": [
            "/usr/local/lib/python3.6/dist-packages/ipykernel_launcher.py:46: RuntimeWarning: overflow encountered in ubyte_scalars\n",
            "/usr/local/lib/python3.6/dist-packages/ipykernel_launcher.py:49: RuntimeWarning: overflow encountered in ubyte_scalars\n"
          ],
          "name": "stderr"
        }
      ]
    },
    {
      "cell_type": "code",
      "metadata": {
        "id": "avAyBNN5bzhj",
        "colab_type": "code",
        "colab": {}
      },
      "source": [
        ""
      ],
      "execution_count": 0,
      "outputs": []
    },
    {
      "cell_type": "code",
      "metadata": {
        "id": "L0QKTIXyVxWf",
        "colab_type": "code",
        "outputId": "53153e35-c062-4710-d156-092f82a56fe2",
        "colab": {
          "base_uri": "https://localhost:8080/",
          "height": 298
        }
      },
      "source": [
        "\n",
        "plt.plot(green_score, 'g-')\n",
        "\n",
        "\n",
        "plt.title('Experiment 2, Spot 1')\n",
        "\n"
      ],
      "execution_count": 54,
      "outputs": [
        {
          "output_type": "execute_result",
          "data": {
            "text/plain": [
              "Text(0.5, 1.0, 'Experiment 2, Spot 1')"
            ]
          },
          "metadata": {
            "tags": []
          },
          "execution_count": 54
        },
        {
          "output_type": "display_data",
          "data": {
            "image/png": "[encoded data removed]",
            "text/plain": [
              "<Figure size 432x288 with 1 Axes>"
            ]
          },
          "metadata": {
            "tags": []
          }
        }
      ]
    },
    {
      "cell_type": "code",
      "metadata": {
        "id": "gZdNmkSCXWG_",
        "colab_type": "code",
        "colab": {}
      },
      "source": [
        "#del str\n",
        "pigs = []\n",
        "filenames_dict_pigs = {}\n",
        "str = \"./Pigmentation/Pigmentation_photos/Experiment 1/Spot 4\"    #photo directory on cloned repository for experimental pigmentation data\n",
        "\n",
        "\n",
        "for root, dirnames, filenames in os.walk(str): \n",
        "    #print(filenames)\n",
        "    for filename in filenames:   ####remember to update in order to avoid masks###\n",
        "           # print(filename, \"\\n\")\n",
        "      #if re.search('d*[^{r|f}].jpg', filename):\n",
        "            #n =  re.match(\"(.*)(2019)(\\d*_\\d*)_(.*)\", filename)\n",
        "            #key = n.group(3)\n",
        "\n",
        "            #key = datetime.strptime(key, '%m%d_%H%M%S')\n",
        "           # print(key, \" \")\n",
        "           # print(filename, \"\\n\")\n",
        "            #print(os.path.join(root, filename), \"\\n\")\n",
        "            #filenames_dict.update({key: os.path.join(root, filename)})\n",
        "            #print(filenames_dict, \"\\n\\n\")\n",
        "            n = re.match(\"(\\d*)\", filename)\n",
        "            #print(n.group(), \" \")\n",
        "            #print(filename, \"\\n\")\n",
        "            #print(os.path.join(root, filename), \"\\n\")\n",
        "            filenames_dict_pigs.update({int(n.group()): [os.path.join(root, filename), filename]})\n",
        "            #print(filenames_dict, \"\\n\\n\")\n",
        "#print(filenames_dict.keys(),\"\\n\")\n",
        "for key in sorted(filenames_dict_pigs.keys()):\n",
        "  #print(key,filenames_dict[key], \"\\n\")\n",
        "  image = plt.imread(filenames_dict_pigs[key][0])\n",
        "  \n",
        "  pigs+= [image]\n",
        "  \n",
        "  \n",
        "pigs = np.asarray(pigs)"
      ],
      "execution_count": 0,
      "outputs": []
    },
    {
      "cell_type": "code",
      "metadata": {
        "id": "i0kzi7y_Yf5R",
        "colab_type": "code",
        "colab": {
          "base_uri": "https://localhost:8080/",
          "height": 34
        },
        "outputId": "16ba6df1-56c5-4a67-d9ae-aca3f284b7b5"
      },
      "source": [
        "del str\n",
        "green_score = 255*measure_score(pigs)\n"
      ],
      "execution_count": 27,
      "outputs": [
        {
          "output_type": "stream",
          "text": [
            "/usr/local/lib/python3.6/dist-packages/ipykernel_launcher.py:56: RuntimeWarning: invalid value encountered in float_scalars\n"
          ],
          "name": "stderr"
        }
      ]
    },
    {
      "cell_type": "code",
      "metadata": {
        "id": "v6C2gS0hYsew",
        "colab_type": "code",
        "outputId": "25567bde-63b7-47b0-f152-88003e26f240",
        "colab": {
          "base_uri": "https://localhost:8080/",
          "height": 298
        }
      },
      "source": [
        "\n",
        "plt.plot(green_score, 'g-')\n",
        "\n",
        "plt.title('Experiment 1, Spot 4')"
      ],
      "execution_count": 28,
      "outputs": [
        {
          "output_type": "execute_result",
          "data": {
            "text/plain": [
              "Text(0.5, 1.0, 'Experiment 1, Spot 4')"
            ]
          },
          "metadata": {
            "tags": []
          },
          "execution_count": 28
        },
        {
          "output_type": "display_data",
          "data": {
            "image/png": "[encoded data removed]",
            "text/plain": [
              "<Figure size 432x288 with 1 Axes>"
            ]
          },
          "metadata": {
            "tags": []
          }
        }
      ]
    },
    {
      "cell_type": "code",
      "metadata": {
        "id": "pA1jdisIY6Hh",
        "colab_type": "code",
        "colab": {}
      },
      "source": [
        "pigs = []\n",
        "filenames_dict = {}\n",
        "str = \"./Pigmentation/Pigmentation_photos/Experiment 2/Spot 4\"    #photo directory on cloned repository for experimental pigmentation data\n",
        "\n",
        "\n",
        "for root, dirnames, filenames in os.walk(str): \n",
        "    #print(filenames)\n",
        "    for filename in filenames:\n",
        "           # print(filename, \"\\n\")\n",
        "      #if re.search('d*[^{r|f}].jpg', filename):\n",
        "            n =  re.match(\"(.*)(2019)(\\d*_\\d*)_(.*)\", filename)\n",
        "            if n:\n",
        "              key = n.group(3)\n",
        "\n",
        "              key = datetime.strptime(key, '%m%d_%H%M%S')\n",
        "           # print(key, \" \")\n",
        "           # print(filename, \"\\n\")\n",
        "            #print(os.path.join(root, filename), \"\\n\")\n",
        "              filenames_dict.update({key: os.path.join(root, filename)})\n",
        "            #print(filenames_dict, \"\\n\\n\")\n",
        "#print(filenames_dict.keys(),\"\\n\")\n",
        "for key in sorted(filenames_dict.keys()):\n",
        "  #print(key,filenames_dict[key], \"\\n\")\n",
        "  image = plt.imread(filenames_dict[key])\n",
        "  #image = skimage.transform.resize(image, (192,256,3))  \n",
        "  \n",
        "  pigs+= [image]\n",
        "  \n",
        "  \n",
        "pigs = np.asarray(pigs)"
      ],
      "execution_count": 0,
      "outputs": []
    },
    {
      "cell_type": "code",
      "metadata": {
        "id": "XNg9Ygz3aIqy",
        "colab_type": "code",
        "colab": {}
      },
      "source": [
        "del str\n",
        "green_score = measure_score(pigs)"
      ],
      "execution_count": 0,
      "outputs": []
    },
    {
      "cell_type": "code",
      "metadata": {
        "id": "XKDbbeJDaOfG",
        "colab_type": "code",
        "outputId": "0592b1b7-b8e8-40b2-e41a-e9d40d8b0673",
        "colab": {
          "base_uri": "https://localhost:8080/",
          "height": 298
        }
      },
      "source": [
        "\n",
        "plt.plot(green_score, 'g-')\n",
        "\n",
        "plt.title('Experiment 2, Spot 4')"
      ],
      "execution_count": 16,
      "outputs": [
        {
          "output_type": "execute_result",
          "data": {
            "text/plain": [
              "Text(0.5, 1.0, 'Experiment 2, Spot 4')"
            ]
          },
          "metadata": {
            "tags": []
          },
          "execution_count": 16
        },
        {
          "output_type": "display_data",
          "data": {
            "image/png": "[encoded data removed]",
            "text/plain": [
              "<Figure size 432x288 with 1 Axes>"
            ]
          },
          "metadata": {
            "tags": []
          }
        }
      ]
    },
    {
      "cell_type": "code",
      "metadata": {
        "id": "UFA5AXNbaVvH",
        "colab_type": "code",
        "colab": {}
      },
      "source": [
        "pigs = []\n",
        "filenames_dict = {}\n",
        "str = \"./Pigmentation/Pigmentation_photos/Experiment 2/Spot 2\"    #photo directory on cloned repository for experimental pigmentation data\n",
        "\n",
        "\n",
        "for root, dirnames, filenames in os.walk(str): \n",
        "    #print(filenames)\n",
        "    for filename in filenames:\n",
        "           # print(filename, \"\\n\")\n",
        "      #if re.search('d*[^{r|f}].jpg', filename):\n",
        "            n =  re.match(\"(.*)(2019)(\\d*_\\d*)_(.*)\", filename)\n",
        "            if n:\n",
        "              key = n.group(3)\n",
        "\n",
        "              key = datetime.strptime(key, '%m%d_%H%M%S')\n",
        "           # print(key, \" \")\n",
        "           # print(filename, \"\\n\")\n",
        "            #print(os.path.join(root, filename), \"\\n\")\n",
        "              filenames_dict.update({key: os.path.join(root, filename)})\n",
        "            #print(filenames_dict, \"\\n\\n\")\n",
        "#print(filenames_dict.keys(),\"\\n\")\n",
        "for key in sorted(filenames_dict.keys()):\n",
        "  #print(key,filenames_dict[key], \"\\n\")\n",
        "  image = plt.imread(filenames_dict[key])\n",
        "  #image = skimage.transform.resize(image, (192,256,3))  \n",
        "  \n",
        "  pigs+= [image]\n",
        "  \n",
        "  \n",
        "pigs = np.asarray(pigs)"
      ],
      "execution_count": 0,
      "outputs": []
    },
    {
      "cell_type": "code",
      "metadata": {
        "id": "_XR8HBTTf-o2",
        "colab_type": "code",
        "colab": {}
      },
      "source": [
        "red, green, blue = measure_min_colours(pigs)"
      ],
      "execution_count": 0,
      "outputs": []
    },
    {
      "cell_type": "code",
      "metadata": {
        "id": "N8q591cbf_6U",
        "colab_type": "code",
        "outputId": "6977cd12-4edf-4eb9-ea51-c794c736135b",
        "colab": {
          "base_uri": "https://localhost:8080/",
          "height": 298
        }
      },
      "source": [
        "plt.plot(red, 'r-')\n",
        "plt.plot(green, 'g-')\n",
        "plt.plot(blue, 'b-')\n",
        "plt.title('Experiment 2, Spot 2')"
      ],
      "execution_count": 0,
      "outputs": [
        {
          "output_type": "execute_result",
          "data": {
            "text/plain": [
              "Text(0.5, 1.0, 'Experiment 2, Spot 2')"
            ]
          },
          "metadata": {
            "tags": []
          },
          "execution_count": 149
        },
        {
          "output_type": "display_data",
          "data": {
            "image/png": "[encoded data removed]",
            "text/plain": [
              "<Figure size 432x288 with 1 Axes>"
            ]
          },
          "metadata": {
            "tags": []
          }
        }
      ]
    },
    {
      "cell_type": "code",
      "metadata": {
        "id": "QAj25gSfgKsL",
        "colab_type": "code",
        "outputId": "fc4d7cb0-e4c8-4ce6-ccae-653475904ed3",
        "colab": {
          "base_uri": "https://localhost:8080/",
          "height": 50
        }
      },
      "source": [
        "red"
      ],
      "execution_count": 0,
      "outputs": [
        {
          "output_type": "execute_result",
          "data": {
            "text/plain": [
              "array([ 92,  88,  88, 104,  81,  71,  79,  82,  84,  86,  86,  93,  97,\n",
              "        82,  97,  70,  93,  84], dtype=uint8)"
            ]
          },
          "metadata": {
            "tags": []
          },
          "execution_count": 150
        }
      ]
    },
    {
      "cell_type": "code",
      "metadata": {
        "id": "DLwSE_ePgNcK",
        "colab_type": "code",
        "colab": {}
      },
      "source": [
        ""
      ],
      "execution_count": 0,
      "outputs": []
    }
  ]
}